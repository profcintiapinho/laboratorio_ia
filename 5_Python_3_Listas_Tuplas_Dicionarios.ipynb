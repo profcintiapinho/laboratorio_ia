{
  "nbformat": 4,
  "nbformat_minor": 0,
  "metadata": {
    "colab": {
      "name": "5 - Python_3 - Listas-Tuplas-Dicionarios.ipynb",
      "provenance": [],
      "authorship_tag": "ABX9TyPkiMsXG6WJShfIxR1V8j/s",
      "include_colab_link": true
    },
    "kernelspec": {
      "name": "python3",
      "display_name": "Python 3"
    },
    "language_info": {
      "name": "python"
    }
  },
  "cells": [
    {
      "cell_type": "markdown",
      "metadata": {
        "id": "view-in-github",
        "colab_type": "text"
      },
      "source": [
        "<a href=\"https://colab.research.google.com/github/profcintiapinho/laboratorio_ia/blob/main/5_Python_3_Listas_Tuplas_Dicionarios.ipynb\" target=\"_parent\"><img src=\"https://colab.research.google.com/assets/colab-badge.svg\" alt=\"Open In Colab\"/></a>"
      ]
    },
    {
      "cell_type": "markdown",
      "metadata": {
        "id": "gUvuxgZ20i0B"
      },
      "source": [
        "# Vamos entender a diferença entre Listas, Tuplas e Dicionários em Python\n",
        "#### Listas [ ]\n",
        "#### Tuplas ( )\n",
        "#### Dicionário { }\n",
        "\n",
        "***Lista*** é uma coleção de valores indexada, em que cada valor é identificado por um índice. O primeiro item na lista está no índice 0, o segundo no índice 1 e assim por diante.\n",
        "\n",
        "**Tupla** é uma estrutura de dados semelhante a lista. Porém, ela tem a característica de ser imutável, ou seja, após uma tupla ser criada, ela não pode ser alterada.\n",
        "\n",
        "Os **dicionários** representam coleções de dados que contém na sua estrutura um conjunto de pares chave/valor, nos quais cada chave individual tem um valor associado. Esse objeto representa a ideia de um mapa, que entendemos como uma coleção associativa desordenada. A associação nos dicionários é feita por meio de uma chave que faz referência a um valor.\n",
        "\n"
      ]
    },
    {
      "cell_type": "markdown",
      "metadata": {
        "id": "UtCKk3Q39-9I"
      },
      "source": [
        "## Exemplos"
      ]
    },
    {
      "cell_type": "code",
      "metadata": {
        "id": "FNo89o9P9NeM"
      },
      "source": [
        "lista = [1,2,3]\n",
        "tupla = (1,2,3)\n",
        "dicionario= {'cod': 1, 'nome': 'Cíntia Pinho',}"
      ],
      "execution_count": 75,
      "outputs": []
    },
    {
      "cell_type": "code",
      "metadata": {
        "colab": {
          "base_uri": "https://localhost:8080/"
        },
        "id": "xcMAlQ5C9rZ5",
        "outputId": "b6f5e52b-7675-41c8-f5aa-794bc0025dc3"
      },
      "source": [
        "type(lista)"
      ],
      "execution_count": 77,
      "outputs": [
        {
          "output_type": "execute_result",
          "data": {
            "text/plain": [
              "list"
            ]
          },
          "metadata": {},
          "execution_count": 77
        }
      ]
    },
    {
      "cell_type": "code",
      "metadata": {
        "colab": {
          "base_uri": "https://localhost:8080/"
        },
        "id": "wgq95-SG9xBk",
        "outputId": "f26e5567-8bda-4a86-edd6-fb9677bc28c1"
      },
      "source": [
        "type(tupla)"
      ],
      "execution_count": 78,
      "outputs": [
        {
          "output_type": "execute_result",
          "data": {
            "text/plain": [
              "tuple"
            ]
          },
          "metadata": {},
          "execution_count": 78
        }
      ]
    },
    {
      "cell_type": "code",
      "metadata": {
        "colab": {
          "base_uri": "https://localhost:8080/"
        },
        "id": "M4gOl8UT9zcM",
        "outputId": "ac7cae91-4d54-4724-b272-3a493a29fcc8"
      },
      "source": [
        "type(dicionario)"
      ],
      "execution_count": 79,
      "outputs": [
        {
          "output_type": "execute_result",
          "data": {
            "text/plain": [
              "dict"
            ]
          },
          "metadata": {},
          "execution_count": 79
        }
      ]
    },
    {
      "cell_type": "code",
      "metadata": {
        "colab": {
          "base_uri": "https://localhost:8080/"
        },
        "id": "6G9rb7Al92ag",
        "outputId": "4efbf13f-2215-4056-fb71-af5133431df5"
      },
      "source": [
        "print(lista,tupla,dicionario)"
      ],
      "execution_count": 80,
      "outputs": [
        {
          "output_type": "stream",
          "name": "stdout",
          "text": [
            "[1, 2, 3] (1, 2, 3) {'cod': 1, 'nome': 'Cíntia Pinho'}\n"
          ]
        }
      ]
    },
    {
      "cell_type": "markdown",
      "metadata": {
        "id": "VK-y3Nw60y-s"
      },
      "source": [
        "## OPERAÇÕES COM LISTAS"
      ]
    },
    {
      "cell_type": "code",
      "metadata": {
        "id": "zzKQOpbN0Hzl"
      },
      "source": [
        "# Criando uma lista com 1 item\n",
        "listadomercado = [\"ovos, farinha, leite, maças\"]"
      ],
      "execution_count": 42,
      "outputs": []
    },
    {
      "cell_type": "code",
      "metadata": {
        "id": "jDmjEPya2mnQ"
      },
      "source": [
        "# Criando uma lista com vários itens\n",
        "listadomercado2 = [\"ovos\", \"farinha\", \"leite\", \"maças\"]"
      ],
      "execution_count": 43,
      "outputs": []
    },
    {
      "cell_type": "code",
      "metadata": {
        "colab": {
          "base_uri": "https://localhost:8080/"
        },
        "id": "UuQgvyzG2zPc",
        "outputId": "b472bbf1-14d0-4bec-a7d6-53abccbaef46"
      },
      "source": [
        "listadomercado"
      ],
      "execution_count": 21,
      "outputs": [
        {
          "output_type": "execute_result",
          "data": {
            "text/plain": [
              "['ovos, farinha, leite, maças']"
            ]
          },
          "metadata": {},
          "execution_count": 21
        }
      ]
    },
    {
      "cell_type": "code",
      "metadata": {
        "colab": {
          "base_uri": "https://localhost:8080/"
        },
        "id": "ER3VDOVH21EU",
        "outputId": "4a39b1d9-8f5a-4a99-dade-0ee067663088"
      },
      "source": [
        "listadomercado2"
      ],
      "execution_count": 22,
      "outputs": [
        {
          "output_type": "execute_result",
          "data": {
            "text/plain": [
              "['ovos', 'farinha', 'leite', 'maças']"
            ]
          },
          "metadata": {},
          "execution_count": 22
        }
      ]
    },
    {
      "cell_type": "code",
      "metadata": {
        "id": "L5dYnyYu04gW"
      },
      "source": [
        "# Criando OUTRA lista\n",
        "listaqtde = [2, 3, 4, 5]"
      ],
      "execution_count": 25,
      "outputs": []
    },
    {
      "cell_type": "code",
      "metadata": {
        "colab": {
          "base_uri": "https://localhost:8080/"
        },
        "id": "w4DlDA7Z1De5",
        "outputId": "567320aa-6078-4d04-8bcf-dfd8167f0a0d"
      },
      "source": [
        "#unindo duas listas\n",
        "listadomercado2 + listaqtde"
      ],
      "execution_count": 26,
      "outputs": [
        {
          "output_type": "execute_result",
          "data": {
            "text/plain": [
              "['ovos', 'farinha', 'leite', 'maças', 2, 3, 4, 5]"
            ]
          },
          "metadata": {},
          "execution_count": 26
        }
      ]
    },
    {
      "cell_type": "code",
      "metadata": {
        "colab": {
          "base_uri": "https://localhost:8080/"
        },
        "id": "rjJYDZeU1OC7",
        "outputId": "39e41996-f796-426e-ac41-64318c6494b2"
      },
      "source": [
        "#LISTAS COM DIFERENTES TIPOS DE DADOS\n",
        "# Criando lista\n",
        "lista3 = [3, 5, \"ETEC MCM\"]\n",
        "lista3"
      ],
      "execution_count": 27,
      "outputs": [
        {
          "output_type": "execute_result",
          "data": {
            "text/plain": [
              "[3, 5, 'ETEC MCM']"
            ]
          },
          "metadata": {},
          "execution_count": 27
        }
      ]
    },
    {
      "cell_type": "code",
      "metadata": {
        "id": "rZ9cEHOl1maX"
      },
      "source": [
        "# Atribuindo cada valor da lista a uma variável.\n",
        "item1 = lista3[0]\n",
        "item2 = lista3[1]\n",
        "item3 = lista3[2]"
      ],
      "execution_count": 28,
      "outputs": []
    },
    {
      "cell_type": "code",
      "metadata": {
        "colab": {
          "base_uri": "https://localhost:8080/",
          "height": 35
        },
        "id": "EIULp_E81oNn",
        "outputId": "0dabe319-fa23-49b7-9ee8-18c91da680a3"
      },
      "source": [
        "#imprimindo apenas o terceiro item\n",
        "item3"
      ],
      "execution_count": 29,
      "outputs": [
        {
          "output_type": "execute_result",
          "data": {
            "application/vnd.google.colaboratory.intrinsic+json": {
              "type": "string"
            },
            "text/plain": [
              "'ETEC MCM'"
            ]
          },
          "metadata": {},
          "execution_count": 29
        }
      ]
    },
    {
      "cell_type": "markdown",
      "metadata": {
        "id": "P9meVMw315p6"
      },
      "source": [
        "### Atualizando um ou mais item da lista"
      ]
    },
    {
      "cell_type": "code",
      "metadata": {
        "colab": {
          "base_uri": "https://localhost:8080/"
        },
        "id": "DAy22R9B2FKV",
        "outputId": "ece58c39-67bd-41db-860c-70ce43abea9d"
      },
      "source": [
        "listadomercado2"
      ],
      "execution_count": 44,
      "outputs": [
        {
          "output_type": "execute_result",
          "data": {
            "text/plain": [
              "['ovos', 'farinha', 'leite', 'maças']"
            ]
          },
          "metadata": {},
          "execution_count": 44
        }
      ]
    },
    {
      "cell_type": "code",
      "metadata": {
        "id": "IGTqQptz14pg"
      },
      "source": [
        "listadomercado2[0] = \"doce\"\n",
        "listadomercado2[3] = \"feijão\""
      ],
      "execution_count": 45,
      "outputs": []
    },
    {
      "cell_type": "code",
      "metadata": {
        "colab": {
          "base_uri": "https://localhost:8080/"
        },
        "id": "GfkOPYEi3ISx",
        "outputId": "af404dbf-021a-4a90-d095-93380f663dbc"
      },
      "source": [
        "listadomercado2"
      ],
      "execution_count": 46,
      "outputs": [
        {
          "output_type": "execute_result",
          "data": {
            "text/plain": [
              "['doce', 'farinha', 'leite', 'feijão']"
            ]
          },
          "metadata": {},
          "execution_count": 46
        }
      ]
    },
    {
      "cell_type": "code",
      "metadata": {
        "id": "qruv6x5-3oLF"
      },
      "source": [
        "\n",
        "# Deletando um item específico da lista\n",
        "del listadomercado2[3]"
      ],
      "execution_count": 47,
      "outputs": []
    },
    {
      "cell_type": "code",
      "metadata": {
        "colab": {
          "base_uri": "https://localhost:8080/"
        },
        "id": "CPwxFie83qyR",
        "outputId": "fd896877-93ac-4e5d-b21a-b3b7b26b9266"
      },
      "source": [
        "listadomercado2"
      ],
      "execution_count": 48,
      "outputs": [
        {
          "output_type": "execute_result",
          "data": {
            "text/plain": [
              "['doce', 'farinha', 'leite']"
            ]
          },
          "metadata": {},
          "execution_count": 48
        }
      ]
    },
    {
      "cell_type": "markdown",
      "metadata": {
        "id": "ZJV-Ndbp31po"
      },
      "source": [
        "### Listas de listas (Listas aninhadas)"
      ]
    },
    {
      "cell_type": "code",
      "metadata": {
        "id": "PaRU_T_G1xwR"
      },
      "source": [
        "# Criando uma lista de listas\n",
        "listas = [[1,2,3], [10,15,14], [10.1,8.7,2.3]]"
      ],
      "execution_count": 50,
      "outputs": []
    },
    {
      "cell_type": "code",
      "metadata": {
        "colab": {
          "base_uri": "https://localhost:8080/"
        },
        "id": "KimvKrR94E3O",
        "outputId": "54b3e6a2-f82e-44b1-c97c-d83417106416"
      },
      "source": [
        "a = listas[0]\n",
        "a"
      ],
      "execution_count": 52,
      "outputs": [
        {
          "output_type": "execute_result",
          "data": {
            "text/plain": [
              "[1, 2, 3]"
            ]
          },
          "metadata": {},
          "execution_count": 52
        }
      ]
    },
    {
      "cell_type": "markdown",
      "metadata": {
        "id": "Um3ewRD64Wgq"
      },
      "source": [
        "### Operador in"
      ]
    },
    {
      "cell_type": "code",
      "metadata": {
        "id": "e5cwoJ6t4VqX"
      },
      "source": [
        "# Criando uma lista\n",
        "lista_teste_op = [100, 2, -5, 3.4]\n",
        "lista_nomes = [\"arroz\", \"feijão\",\"cebola\"]"
      ],
      "execution_count": 54,
      "outputs": []
    },
    {
      "cell_type": "code",
      "metadata": {
        "colab": {
          "base_uri": "https://localhost:8080/"
        },
        "id": "-8n_b9hT4l-J",
        "outputId": "d0b27098-99a7-484c-8402-5a1e93ab3763"
      },
      "source": [
        "\"cebola\" in lista_nomes"
      ],
      "execution_count": 55,
      "outputs": [
        {
          "output_type": "execute_result",
          "data": {
            "text/plain": [
              "True"
            ]
          },
          "metadata": {},
          "execution_count": 55
        }
      ]
    },
    {
      "cell_type": "code",
      "metadata": {
        "colab": {
          "base_uri": "https://localhost:8080/"
        },
        "id": "8uRSkTdv458k",
        "outputId": "a3181e5e-e00f-4c19-a51e-b4e5ac9cdacc"
      },
      "source": [
        "200 in lista_teste_op"
      ],
      "execution_count": 57,
      "outputs": [
        {
          "output_type": "execute_result",
          "data": {
            "text/plain": [
              "False"
            ]
          },
          "metadata": {},
          "execution_count": 57
        }
      ]
    },
    {
      "cell_type": "markdown",
      "metadata": {
        "id": "CFqBCbY45M2w"
      },
      "source": [
        "\n",
        "### Funções Built-in"
      ]
    },
    {
      "cell_type": "code",
      "metadata": {
        "colab": {
          "base_uri": "https://localhost:8080/"
        },
        "id": "MagVsy6t5PXg",
        "outputId": "ff4b6617-e5c5-412d-93ac-bd5fea0a7928"
      },
      "source": [
        "# Função len() retorna o comprimento da lista\n",
        "len(lista_teste_op)"
      ],
      "execution_count": 59,
      "outputs": [
        {
          "output_type": "execute_result",
          "data": {
            "text/plain": [
              "4"
            ]
          },
          "metadata": {},
          "execution_count": 59
        }
      ]
    },
    {
      "cell_type": "code",
      "metadata": {
        "colab": {
          "base_uri": "https://localhost:8080/"
        },
        "id": "zz1PFR2K5WcW",
        "outputId": "8e026a58-2a99-4cc7-ec5a-0e4471f2e97f"
      },
      "source": [
        "# Função max() retorna o valor máximo da lista\n",
        "max(lista_teste_op)"
      ],
      "execution_count": 60,
      "outputs": [
        {
          "output_type": "execute_result",
          "data": {
            "text/plain": [
              "100"
            ]
          },
          "metadata": {},
          "execution_count": 60
        }
      ]
    },
    {
      "cell_type": "code",
      "metadata": {
        "colab": {
          "base_uri": "https://localhost:8080/"
        },
        "id": "zNbwjn765boG",
        "outputId": "400a247c-0c81-441d-c86d-0865dca5a5c6"
      },
      "source": [
        "# Função min() retorna o valor mínimo da lista\n",
        "min(lista_teste_op)"
      ],
      "execution_count": 61,
      "outputs": [
        {
          "output_type": "execute_result",
          "data": {
            "text/plain": [
              "-5"
            ]
          },
          "metadata": {},
          "execution_count": 61
        }
      ]
    },
    {
      "cell_type": "code",
      "metadata": {
        "id": "cmyoVpXa5hRg"
      },
      "source": [
        "# Criando uma lista\n",
        "listadomercado2 = [\"ovos\", \"farinha\", \"leite\", \"maças\"]"
      ],
      "execution_count": 62,
      "outputs": []
    },
    {
      "cell_type": "code",
      "metadata": {
        "id": "RRu76qYD5ndu"
      },
      "source": [
        "# Adicionando um item à lista\n",
        "listadomercado2.append(\"carne\")"
      ],
      "execution_count": 66,
      "outputs": []
    },
    {
      "cell_type": "code",
      "metadata": {
        "colab": {
          "base_uri": "https://localhost:8080/"
        },
        "id": "pdeZvI6s6jZk",
        "outputId": "9ca25d50-a94b-464d-d33d-0dd1a2f3596f"
      },
      "source": [
        "listadomercado2"
      ],
      "execution_count": 67,
      "outputs": [
        {
          "output_type": "execute_result",
          "data": {
            "text/plain": [
              "['ovos', 'farinha', 'leite', 'maças', 'carne', 'carne']"
            ]
          },
          "metadata": {},
          "execution_count": 67
        }
      ]
    },
    {
      "cell_type": "code",
      "metadata": {
        "colab": {
          "base_uri": "https://localhost:8080/"
        },
        "id": "UoQIS6N66lO1",
        "outputId": "2c072a4d-52a7-4371-a461-277f70f8f700"
      },
      "source": [
        "listadomercado2.count(\"carne\")"
      ],
      "execution_count": 68,
      "outputs": [
        {
          "output_type": "execute_result",
          "data": {
            "text/plain": [
              "2"
            ]
          },
          "metadata": {},
          "execution_count": 68
        }
      ]
    },
    {
      "cell_type": "code",
      "metadata": {
        "colab": {
          "base_uri": "https://localhost:8080/"
        },
        "id": "dOk-kzh36t06",
        "outputId": "001fc040-48c4-483d-e7cc-4125dc5ac536"
      },
      "source": [
        "cidades = ['Recife', 'Manaus', 'Salvador']\n",
        "cidades.extend(['Fortaleza', 'Palmas'])\n",
        "print (cidades)"
      ],
      "execution_count": 69,
      "outputs": [
        {
          "output_type": "stream",
          "name": "stdout",
          "text": [
            "['Recife', 'Manaus', 'Salvador', 'Fortaleza', 'Palmas']\n"
          ]
        }
      ]
    },
    {
      "cell_type": "code",
      "metadata": {
        "colab": {
          "base_uri": "https://localhost:8080/"
        },
        "id": "IaUTn87L7Ea_",
        "outputId": "7e628141-6886-4d6e-b301-9e45d2018164"
      },
      "source": [
        "# Reverte a lista\n",
        "cidades.reverse()\n",
        "cidades"
      ],
      "execution_count": 72,
      "outputs": [
        {
          "output_type": "execute_result",
          "data": {
            "text/plain": [
              "['Palmas', 'Fortaleza', 'Salvador', 'Manaus', 'Recife']"
            ]
          },
          "metadata": {},
          "execution_count": 72
        }
      ]
    },
    {
      "cell_type": "code",
      "metadata": {
        "id": "Gglz-Fyo7JUi"
      },
      "source": [
        "x = [3, 4, 2, 1]"
      ],
      "execution_count": null,
      "outputs": []
    },
    {
      "cell_type": "markdown",
      "metadata": {
        "id": "qf1BrrCY7tET"
      },
      "source": [
        "#OPERAÇÕES COM TUPLAS"
      ]
    },
    {
      "cell_type": "code",
      "metadata": {
        "id": "fsR9uZQ57vg2"
      },
      "source": [
        "# Criando uma tupla\n",
        "tupla1 = (\"Geografia\", 23, \"Elefantes\")"
      ],
      "execution_count": 73,
      "outputs": []
    },
    {
      "cell_type": "code",
      "metadata": {
        "colab": {
          "base_uri": "https://localhost:8080/"
        },
        "id": "JHW6Pra_9Jzj",
        "outputId": "e32e8ce7-3f5d-4057-9d83-576cef6d4f28"
      },
      "source": [
        "tupla1"
      ],
      "execution_count": 74,
      "outputs": [
        {
          "output_type": "execute_result",
          "data": {
            "text/plain": [
              "('Geografia', 23, 'Elefantes')"
            ]
          },
          "metadata": {},
          "execution_count": 74
        }
      ]
    },
    {
      "cell_type": "code",
      "metadata": {
        "colab": {
          "base_uri": "https://localhost:8080/",
          "height": 185
        },
        "id": "kqtjNNeR-Nf3",
        "outputId": "934f1717-cb2f-4b81-f297-5cd53abead5d"
      },
      "source": [
        "# Tuplas não suportam append()\n",
        "tupla1.append(\"Chocolate\")  "
      ],
      "execution_count": 81,
      "outputs": [
        {
          "output_type": "error",
          "ename": "AttributeError",
          "evalue": "ignored",
          "traceback": [
            "\u001b[0;31m---------------------------------------------------------------------------\u001b[0m",
            "\u001b[0;31mAttributeError\u001b[0m                            Traceback (most recent call last)",
            "\u001b[0;32m<ipython-input-81-c79d41725603>\u001b[0m in \u001b[0;36m<module>\u001b[0;34m()\u001b[0m\n\u001b[1;32m      1\u001b[0m \u001b[0;31m# Tuplas não suportam append()\u001b[0m\u001b[0;34m\u001b[0m\u001b[0;34m\u001b[0m\u001b[0;34m\u001b[0m\u001b[0m\n\u001b[0;32m----> 2\u001b[0;31m \u001b[0mtupla1\u001b[0m\u001b[0;34m.\u001b[0m\u001b[0mappend\u001b[0m\u001b[0;34m(\u001b[0m\u001b[0;34m\"Chocolate\"\u001b[0m\u001b[0;34m)\u001b[0m\u001b[0;34m\u001b[0m\u001b[0;34m\u001b[0m\u001b[0m\n\u001b[0m",
            "\u001b[0;31mAttributeError\u001b[0m: 'tuple' object has no attribute 'append'"
          ]
        }
      ]
    },
    {
      "cell_type": "code",
      "metadata": {
        "colab": {
          "base_uri": "https://localhost:8080/",
          "height": 185
        },
        "id": "aMqusx0G-OsP",
        "outputId": "64e207ad-21c0-44cf-e7a6-3f56dd6b79a5"
      },
      "source": [
        "# Tuplas não suportam delete de um item específico\n",
        "del tupla1[\"Gatos\"]  "
      ],
      "execution_count": 82,
      "outputs": [
        {
          "output_type": "error",
          "ename": "TypeError",
          "evalue": "ignored",
          "traceback": [
            "\u001b[0;31m---------------------------------------------------------------------------\u001b[0m",
            "\u001b[0;31mTypeError\u001b[0m                                 Traceback (most recent call last)",
            "\u001b[0;32m<ipython-input-82-24facd06bb21>\u001b[0m in \u001b[0;36m<module>\u001b[0;34m()\u001b[0m\n\u001b[1;32m      1\u001b[0m \u001b[0;31m# Tuplas não suportam delete de um item específico\u001b[0m\u001b[0;34m\u001b[0m\u001b[0;34m\u001b[0m\u001b[0;34m\u001b[0m\u001b[0m\n\u001b[0;32m----> 2\u001b[0;31m \u001b[0;32mdel\u001b[0m \u001b[0mtupla1\u001b[0m\u001b[0;34m[\u001b[0m\u001b[0;34m\"Gatos\"\u001b[0m\u001b[0;34m]\u001b[0m\u001b[0;34m\u001b[0m\u001b[0;34m\u001b[0m\u001b[0m\n\u001b[0m",
            "\u001b[0;31mTypeError\u001b[0m: 'tuple' object does not support item deletion"
          ]
        }
      ]
    },
    {
      "cell_type": "code",
      "metadata": {
        "colab": {
          "base_uri": "https://localhost:8080/",
          "height": 35
        },
        "id": "OHCGwVJp-Wmz",
        "outputId": "25512ae6-89fe-4b65-9eaf-c19be5982c1a"
      },
      "source": [
        "#Possui índice como na lista\n",
        "tupla1[0]"
      ],
      "execution_count": 84,
      "outputs": [
        {
          "output_type": "execute_result",
          "data": {
            "application/vnd.google.colaboratory.intrinsic+json": {
              "type": "string"
            },
            "text/plain": [
              "'Geografia'"
            ]
          },
          "metadata": {},
          "execution_count": 84
        }
      ]
    },
    {
      "cell_type": "code",
      "metadata": {
        "colab": {
          "base_uri": "https://localhost:8080/"
        },
        "id": "mJRSjNbM-xvG",
        "outputId": "94f34b8a-dbd5-4817-e29e-34c7e40e13e8"
      },
      "source": [
        "tupla1.index('Elefantes')"
      ],
      "execution_count": 85,
      "outputs": [
        {
          "output_type": "execute_result",
          "data": {
            "text/plain": [
              "2"
            ]
          },
          "metadata": {},
          "execution_count": 85
        }
      ]
    },
    {
      "cell_type": "code",
      "metadata": {
        "id": "f6KHq44i-z6X"
      },
      "source": [
        "# Deletando a tupla inteira, não apenas um item de dentro dela\n",
        "del tupla1"
      ],
      "execution_count": 86,
      "outputs": []
    },
    {
      "cell_type": "code",
      "metadata": {
        "colab": {
          "base_uri": "https://localhost:8080/",
          "height": 167
        },
        "id": "owviNXQF--f-",
        "outputId": "eecc4ad2-bbb9-47fb-871a-12d31b3968d0"
      },
      "source": [
        "tupla1"
      ],
      "execution_count": 87,
      "outputs": [
        {
          "output_type": "error",
          "ename": "NameError",
          "evalue": "ignored",
          "traceback": [
            "\u001b[0;31m---------------------------------------------------------------------------\u001b[0m",
            "\u001b[0;31mNameError\u001b[0m                                 Traceback (most recent call last)",
            "\u001b[0;32m<ipython-input-87-9c021f243716>\u001b[0m in \u001b[0;36m<module>\u001b[0;34m()\u001b[0m\n\u001b[0;32m----> 1\u001b[0;31m \u001b[0mtupla1\u001b[0m\u001b[0;34m\u001b[0m\u001b[0;34m\u001b[0m\u001b[0m\n\u001b[0m",
            "\u001b[0;31mNameError\u001b[0m: name 'tupla1' is not defined"
          ]
        }
      ]
    },
    {
      "cell_type": "code",
      "metadata": {
        "id": "8Tg-yUn7_CCd"
      },
      "source": [
        "# Criando uma tupla\n",
        "t2 = ('A', 'B', 'C')"
      ],
      "execution_count": 88,
      "outputs": []
    },
    {
      "cell_type": "code",
      "metadata": {
        "colab": {
          "base_uri": "https://localhost:8080/",
          "height": 185
        },
        "id": "t3V87SWR_FvD",
        "outputId": "4c8cee15-ebb8-4206-8add-30248506555e"
      },
      "source": [
        "# Tuplas não suportam atribuição de item\n",
        "t2[0] = 'D'"
      ],
      "execution_count": 89,
      "outputs": [
        {
          "output_type": "error",
          "ename": "TypeError",
          "evalue": "ignored",
          "traceback": [
            "\u001b[0;31m---------------------------------------------------------------------------\u001b[0m",
            "\u001b[0;31mTypeError\u001b[0m                                 Traceback (most recent call last)",
            "\u001b[0;32m<ipython-input-89-f90994f4060e>\u001b[0m in \u001b[0;36m<module>\u001b[0;34m()\u001b[0m\n\u001b[1;32m      1\u001b[0m \u001b[0;31m# Tuplas não suportam atribuição de item\u001b[0m\u001b[0;34m\u001b[0m\u001b[0;34m\u001b[0m\u001b[0;34m\u001b[0m\u001b[0m\n\u001b[0;32m----> 2\u001b[0;31m \u001b[0mt2\u001b[0m\u001b[0;34m[\u001b[0m\u001b[0;36m0\u001b[0m\u001b[0;34m]\u001b[0m \u001b[0;34m=\u001b[0m \u001b[0;34m'D'\u001b[0m\u001b[0;34m\u001b[0m\u001b[0;34m\u001b[0m\u001b[0m\n\u001b[0m",
            "\u001b[0;31mTypeError\u001b[0m: 'tuple' object does not support item assignment"
          ]
        }
      ]
    },
    {
      "cell_type": "code",
      "metadata": {
        "id": "5VGJKOeW_RdU"
      },
      "source": [
        "# Usando a função list() para converter uma tupla para lista\n",
        "lista_t2 = list(t2)"
      ],
      "execution_count": 90,
      "outputs": []
    },
    {
      "cell_type": "code",
      "metadata": {
        "id": "6jgUNx4d_SqZ"
      },
      "source": [
        "lista_t2.append(\"D\")"
      ],
      "execution_count": 94,
      "outputs": []
    },
    {
      "cell_type": "code",
      "metadata": {
        "id": "l_AR2AR7_YQe"
      },
      "source": [
        "# Usando a função tuple() para converter uma lista para tupla\n",
        "t2 = tuple(lista_t2)"
      ],
      "execution_count": 95,
      "outputs": []
    },
    {
      "cell_type": "code",
      "metadata": {
        "colab": {
          "base_uri": "https://localhost:8080/"
        },
        "id": "HoASbmhY_a7A",
        "outputId": "d6079139-1541-4678-dca8-afc636ef1110"
      },
      "source": [
        "t2"
      ],
      "execution_count": 96,
      "outputs": [
        {
          "output_type": "execute_result",
          "data": {
            "text/plain": [
              "('A', 'B', 'C', 'D')"
            ]
          },
          "metadata": {},
          "execution_count": 96
        }
      ]
    },
    {
      "cell_type": "markdown",
      "metadata": {
        "id": "VwfTmhxv_pF9"
      },
      "source": [
        "# ALGUMAS OPERAÇÕES COM DICIONÁRIOS"
      ]
    },
    {
      "cell_type": "code",
      "metadata": {
        "colab": {
          "base_uri": "https://localhost:8080/"
        },
        "id": "3-GG_zfW_u5X",
        "outputId": "5d321bdd-bfec-4057-e1bd-bcbd5f063120"
      },
      "source": [
        "# Isso é uma lista\n",
        "estudantes_lst = [\"Mateus\", 24, \"Fernanda\", 22, \"Tamires\", 26, \"Cristiano\", 25]\n",
        "estudantes_lst"
      ],
      "execution_count": 97,
      "outputs": [
        {
          "output_type": "execute_result",
          "data": {
            "text/plain": [
              "['Mateus', 24, 'Fernanda', 22, 'Tamires', 26, 'Cristiano', 25]"
            ]
          },
          "metadata": {},
          "execution_count": 97
        }
      ]
    },
    {
      "cell_type": "code",
      "metadata": {
        "colab": {
          "base_uri": "https://localhost:8080/"
        },
        "id": "lp0HQgz8_8Ov",
        "outputId": "3dee35d7-9b92-48a1-c1b2-e69f5a78301f"
      },
      "source": [
        "# Isso é um dicionário\n",
        "estudantes_dict = {\"Mateus\":24, \"Fernanda\":22, \"Tamires\":26, \"Cristiano\":25}\n",
        "estudantes_dict"
      ],
      "execution_count": 98,
      "outputs": [
        {
          "output_type": "execute_result",
          "data": {
            "text/plain": [
              "{'Cristiano': 25, 'Fernanda': 22, 'Mateus': 24, 'Tamires': 26}"
            ]
          },
          "metadata": {},
          "execution_count": 98
        }
      ]
    },
    {
      "cell_type": "code",
      "metadata": {
        "colab": {
          "base_uri": "https://localhost:8080/"
        },
        "id": "NmRFwvKAADpC",
        "outputId": "107e3e49-e865-4464-9da7-7a3bf7329497"
      },
      "source": [
        "estudantes_dict[\"Mateus\"]"
      ],
      "execution_count": 99,
      "outputs": [
        {
          "output_type": "execute_result",
          "data": {
            "text/plain": [
              "24"
            ]
          },
          "metadata": {},
          "execution_count": 99
        }
      ]
    },
    {
      "cell_type": "code",
      "metadata": {
        "colab": {
          "base_uri": "https://localhost:8080/"
        },
        "id": "y1O-e2WuAGsz",
        "outputId": "0a5a1587-5941-445d-ec36-bf258ebe30a6"
      },
      "source": [
        "estudantes_dict.clear()\n",
        "estudantes_dict"
      ],
      "execution_count": 101,
      "outputs": [
        {
          "output_type": "execute_result",
          "data": {
            "text/plain": [
              "{}"
            ]
          },
          "metadata": {},
          "execution_count": 101
        }
      ]
    },
    {
      "cell_type": "code",
      "metadata": {
        "colab": {
          "base_uri": "https://localhost:8080/",
          "height": 167
        },
        "id": "IdS18PzWAXoF",
        "outputId": "24a951ce-0db8-4177-ca62-2dbd4b856c0c"
      },
      "source": [
        "estudantes_dict.append({\"Cintia\":40})"
      ],
      "execution_count": 103,
      "outputs": [
        {
          "output_type": "error",
          "ename": "AttributeError",
          "evalue": "ignored",
          "traceback": [
            "\u001b[0;31m---------------------------------------------------------------------------\u001b[0m",
            "\u001b[0;31mAttributeError\u001b[0m                            Traceback (most recent call last)",
            "\u001b[0;32m<ipython-input-103-fd76098d73d3>\u001b[0m in \u001b[0;36m<module>\u001b[0;34m()\u001b[0m\n\u001b[0;32m----> 1\u001b[0;31m \u001b[0mestudantes_dict\u001b[0m\u001b[0;34m.\u001b[0m\u001b[0mappend\u001b[0m\u001b[0;34m(\u001b[0m\u001b[0;34m{\u001b[0m\u001b[0;34m\"Cintia\"\u001b[0m\u001b[0;34m:\u001b[0m\u001b[0;36m40\u001b[0m\u001b[0;34m}\u001b[0m\u001b[0;34m)\u001b[0m\u001b[0;34m\u001b[0m\u001b[0;34m\u001b[0m\u001b[0m\n\u001b[0m",
            "\u001b[0;31mAttributeError\u001b[0m: 'dict' object has no attribute 'append'"
          ]
        }
      ]
    },
    {
      "cell_type": "code",
      "metadata": {
        "id": "ksDJD7RwAoWb"
      },
      "source": [
        "estudantes_dict = {\"Cíntia\":40, \"Fernanda\":22, \"Tamires\":26, \"Cristiano\":25}"
      ],
      "execution_count": 104,
      "outputs": []
    },
    {
      "cell_type": "code",
      "metadata": {
        "colab": {
          "base_uri": "https://localhost:8080/"
        },
        "id": "90e95JyXA5ZC",
        "outputId": "6bf1ac15-9dbe-407a-ff2e-adba9ea213d3"
      },
      "source": [
        "len(estudantes_dict)"
      ],
      "execution_count": 105,
      "outputs": [
        {
          "output_type": "execute_result",
          "data": {
            "text/plain": [
              "4"
            ]
          },
          "metadata": {},
          "execution_count": 105
        }
      ]
    },
    {
      "cell_type": "code",
      "metadata": {
        "colab": {
          "base_uri": "https://localhost:8080/"
        },
        "id": "IsExi2dFBF9C",
        "outputId": "c4623b73-f9e2-490b-a7da-10c8f65b09ee"
      },
      "source": [
        "estudantes_dict.keys()"
      ],
      "execution_count": 110,
      "outputs": [
        {
          "output_type": "execute_result",
          "data": {
            "text/plain": [
              "dict_keys(['Cíntia', 'Fernanda', 'Tamires', 'Cristiano'])"
            ]
          },
          "metadata": {},
          "execution_count": 110
        }
      ]
    },
    {
      "cell_type": "code",
      "metadata": {
        "colab": {
          "base_uri": "https://localhost:8080/"
        },
        "id": "gPWU25P7BTJS",
        "outputId": "e7ba31f0-13dd-4dc1-d5ff-8414ecb908a1"
      },
      "source": [
        "estudantes_dict.values()"
      ],
      "execution_count": 112,
      "outputs": [
        {
          "output_type": "execute_result",
          "data": {
            "text/plain": [
              "dict_values([40, 22, 26, 25])"
            ]
          },
          "metadata": {},
          "execution_count": 112
        }
      ]
    },
    {
      "cell_type": "code",
      "metadata": {
        "id": "G_NO0WB0BLL7"
      },
      "source": [
        "estudantes2 = {\"Maria\":27, \"Erika\":28, \"Milton\":26}"
      ],
      "execution_count": 113,
      "outputs": []
    },
    {
      "cell_type": "code",
      "metadata": {
        "colab": {
          "base_uri": "https://localhost:8080/"
        },
        "id": "27E7fjxIBZLK",
        "outputId": "bc28dff3-f150-4582-c0db-dd183147ad16"
      },
      "source": [
        "estudantes_dict.update(estudantes2)\n",
        "estudantes_dict"
      ],
      "execution_count": 115,
      "outputs": [
        {
          "output_type": "execute_result",
          "data": {
            "text/plain": [
              "{'Cristiano': 25,\n",
              " 'Cíntia': 40,\n",
              " 'Erika': 28,\n",
              " 'Fernanda': 22,\n",
              " 'Maria': 27,\n",
              " 'Milton': 26,\n",
              " 'Tamires': 26}"
            ]
          },
          "metadata": {},
          "execution_count": 115
        }
      ]
    },
    {
      "cell_type": "code",
      "metadata": {
        "id": "1TsCxEotB0ho"
      },
      "source": [
        "#ACRESCENTAR ITENS POR PARTES\n",
        "dic1 = {}"
      ],
      "execution_count": 116,
      "outputs": []
    },
    {
      "cell_type": "code",
      "metadata": {
        "id": "l2lhuOoiCF7E"
      },
      "source": [
        "dic1[\"Cíntia\"] = 40\n",
        "dic1[\"Augusto\"] = 80\n",
        "dic1[\"Olavo\"] = 60\n"
      ],
      "execution_count": 117,
      "outputs": []
    },
    {
      "cell_type": "code",
      "metadata": {
        "colab": {
          "base_uri": "https://localhost:8080/"
        },
        "id": "VbQKjT5SCWXS",
        "outputId": "32f92139-8ece-42fb-ef26-547520687ad8"
      },
      "source": [
        "dic1"
      ],
      "execution_count": 118,
      "outputs": [
        {
          "output_type": "execute_result",
          "data": {
            "text/plain": [
              "{'Augusto': 80, 'Cíntia': 40, 'Olavo': 60}"
            ]
          },
          "metadata": {},
          "execution_count": 118
        }
      ]
    },
    {
      "cell_type": "code",
      "metadata": {
        "id": "GlU84gHYCYei"
      },
      "source": [
        "# Dicionário de listas\n",
        "dict3 = {'key1':1230,'key2':[22,453,73.4],'key3':['leite','maça','batata']}"
      ],
      "execution_count": 119,
      "outputs": []
    },
    {
      "cell_type": "code",
      "metadata": {
        "colab": {
          "base_uri": "https://localhost:8080/",
          "height": 35
        },
        "id": "iHPgdZ92Cn_m",
        "outputId": "6d358301-1e99-4a71-833f-f0d80f945947"
      },
      "source": [
        "# Acessando um item da lista, dentro do dicionário\n",
        "dict3['key3'][0].upper()"
      ],
      "execution_count": 120,
      "outputs": [
        {
          "output_type": "execute_result",
          "data": {
            "application/vnd.google.colaboratory.intrinsic+json": {
              "type": "string"
            },
            "text/plain": [
              "'LEITE'"
            ]
          },
          "metadata": {},
          "execution_count": 120
        }
      ]
    }
  ]
}