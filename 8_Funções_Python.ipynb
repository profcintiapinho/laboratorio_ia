{
  "nbformat": 4,
  "nbformat_minor": 0,
  "metadata": {
    "colab": {
      "name": "8 - Funções_Python.ipynb",
      "provenance": [],
      "authorship_tag": "ABX9TyOtAAIoiMG+YGoPlQRltDdd",
      "include_colab_link": true
    },
    "kernelspec": {
      "name": "python3",
      "display_name": "Python 3"
    },
    "language_info": {
      "name": "python"
    }
  },
  "cells": [
    {
      "cell_type": "markdown",
      "metadata": {
        "id": "view-in-github",
        "colab_type": "text"
      },
      "source": [
        "<a href=\"https://colab.research.google.com/github/profcintiapinho/laboratorio_ia/blob/main/8_Fun%C3%A7%C3%B5es_Python.ipynb\" target=\"_parent\"><img src=\"https://colab.research.google.com/assets/colab-badge.svg\" alt=\"Open In Colab\"/></a>"
      ]
    },
    {
      "cell_type": "markdown",
      "metadata": {
        "id": "HsfwK7BVMnsD"
      },
      "source": [
        "# FUNÇÕES"
      ]
    },
    {
      "cell_type": "markdown",
      "metadata": {
        "id": "zrgNNgSlMq6y"
      },
      "source": [
        "Na programação, funções são blocos de código que realizam determinadas tarefas que normalmente precisam ser executadas diversas vezes dentro de uma aplicação. Quando surge essa necessidade, para que várias instruções não precisem ser repetidas, elas são agrupadas em uma função, à qual é dado um nome e que poderá ser chamada/executada em diferentes partes do programa."
      ]
    },
    {
      "cell_type": "markdown",
      "metadata": {
        "id": "4KYqcjiROIAQ"
      },
      "source": [
        "## QUANDO PRECISAMOS SEGUIR UM PASSO DE INSTRUÇÕES SEMPRE QUE FOR FAZER ALGO NORMALMENTE SE CRIA FUNÇÕES, EXEMPLO, SE PRECISO CALCULAR A FOLHA DE PAGAMENTO DO FUNCIONÁRIO. TODOS OS MESES O RH PRECISA DAS SEGUINTES INFORMAÇÕES#\n",
        "\n",
        "*   Qtde de horas Faltas\n",
        "*   Qtde de dias Faltas\n",
        "*   Qto o funcionário ganha por hora\n",
        "*   Fez hora extra?\n",
        "*   Qtdos dias trabalhados no Total?\n",
        "\n",
        "SABE-SE QUE TODOS OS MESES ESSAS INFORMAÇÕES SÃO NECESSÁRIAS, PORÉM A FUNÇÃO QUE CALCULA TUDO ISSO JÁ FICA PRONTA, É SÓ FORNECECER AS INFORMAÇÕES(PARÂMETROS) QUE O SISTEMA CALCULA\n",
        "\n",
        "ENTÃO PARA FICAR FÁCIL DE LEMBRAR PENSEM QUE A FUNÇÃO SÃO PROCEDIMENTOS A SEGUIR PARA REALIZAR DETERMINADA **FUNÇÃO**\n",
        "\n",
        "\n",
        "\n",
        "\n",
        "\n",
        "\n"
      ]
    },
    {
      "cell_type": "markdown",
      "metadata": {
        "id": "PMeRmJ3FPqNa"
      },
      "source": [
        "![FUNCAOPYTHON.webp](data:image/webp;base64,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)"
      ]
    },
    {
      "cell_type": "markdown",
      "metadata": {
        "id": "NM15cUcjPzH3"
      },
      "source": [
        "**IMPORTANTE✈** \n",
        "\n",
        "\n",
        "1.   Toda função quando declarada é proseguida por **(  )**\n",
        "2.   Nem toda função tem parâmetro para ser executada\n",
        "3.   Existem Funções com retorno\n",
        "4.   Existem Funções sem retorno\n",
        "\n",
        "\n",
        "\n",
        "\n",
        "\n"
      ]
    },
    {
      "cell_type": "code",
      "metadata": {
        "id": "a0u_AWlXMQhI"
      },
      "source": [
        "# Função sem parâmetro e sem retorno\n",
        "def primeiraFunc():\n",
        "  print('Hello World')\n"
      ],
      "execution_count": null,
      "outputs": []
    },
    {
      "cell_type": "markdown",
      "metadata": {
        "id": "9rxKXqF6Q7kA"
      },
      "source": [
        "## A função é definida porém é necessário chamá-la para ver o resultado de sua execução\n"
      ]
    },
    {
      "cell_type": "code",
      "metadata": {
        "colab": {
          "base_uri": "https://localhost:8080/"
        },
        "id": "Y_evGFaCRDXh",
        "outputId": "76062b13-4f34-4ecc-9891-326922ace956"
      },
      "source": [
        "primeiraFunc()"
      ],
      "execution_count": null,
      "outputs": [
        {
          "output_type": "stream",
          "name": "stdout",
          "text": [
            "Hello World\n"
          ]
        }
      ]
    },
    {
      "cell_type": "code",
      "metadata": {
        "id": "y6Ozpmt-RGUy"
      },
      "source": [
        "#Função sem retorno, sem parâmetro, porém com mais instruções\n",
        "def instrucoes_curso_python():\n",
        "  print('1 - Fazer a Matricula')\n",
        "  print('2 - Participar de 75% das aulas')\n",
        "  print('3 - Enviar Exercícios')\n",
        "  print('4 - Sempre tirar suas dúvidas')\n",
        "  print('5 - Realizar Quiz')\n",
        "  print('6 - Obter Bom desempenho')\n",
        "  print('7 - Receber Certificado!')"
      ],
      "execution_count": null,
      "outputs": []
    },
    {
      "cell_type": "code",
      "metadata": {
        "colab": {
          "base_uri": "https://localhost:8080/"
        },
        "id": "EtjwUOQGSA8p",
        "outputId": "0fb545a7-7137-4748-9020-f72aeb9cbb02"
      },
      "source": [
        "instrucoes_curso_python()"
      ],
      "execution_count": null,
      "outputs": [
        {
          "output_type": "stream",
          "name": "stdout",
          "text": [
            "1 - Fazer a Matricula\n",
            "2 - Participar de 75% das aulas\n",
            "3 - Enviar Exercícios\n",
            "4 - Sempre tirar suas dúvidas\n",
            "5 - Realizar Quiz\n",
            "6 - Obter Bom desempenho\n",
            "7 - Receber Certificado!\n"
          ]
        }
      ]
    },
    {
      "cell_type": "code",
      "metadata": {
        "id": "g0YBrtNUSBEt"
      },
      "source": [
        "# Definindo uma função com parâmetro\n",
        "def primeiraFunc(nome):\n",
        "    print('Hello %s' %(nome))"
      ],
      "execution_count": null,
      "outputs": []
    },
    {
      "cell_type": "code",
      "metadata": {
        "colab": {
          "base_uri": "https://localhost:8080/"
        },
        "id": "ze1wG0qpSuBe",
        "outputId": "2b4921c2-34a0-473e-b3e7-cd289bc09f67"
      },
      "source": [
        "primeiraFunc(\"Cíntia\")"
      ],
      "execution_count": null,
      "outputs": [
        {
          "output_type": "stream",
          "name": "stdout",
          "text": [
            "Hello Cíntia\n"
          ]
        }
      ]
    },
    {
      "cell_type": "code",
      "metadata": {
        "id": "iNi3IbwBXtcM"
      },
      "source": [
        "#Usando Laço de Repetição sem retorno\n",
        "def funcLeitura():\n",
        "    for i in range(0, 5):\n",
        "        print(\"Número \" + str(i+1))"
      ],
      "execution_count": null,
      "outputs": []
    },
    {
      "cell_type": "code",
      "metadata": {
        "id": "UHGauaLuGc_s",
        "colab": {
          "base_uri": "https://localhost:8080/"
        },
        "outputId": "f612aa12-9081-4f47-8d84-2707c93b27a7"
      },
      "source": [
        "funcLeitura()"
      ],
      "execution_count": null,
      "outputs": [
        {
          "output_type": "stream",
          "name": "stdout",
          "text": [
            "Número 1\n",
            "Número 2\n",
            "Número 3\n",
            "Número 4\n",
            "Número 5\n"
          ]
        }
      ]
    },
    {
      "cell_type": "code",
      "metadata": {
        "id": "_5KKr-EmS3vL"
      },
      "source": [
        "#Usando Laço de Repetição sem retorno\n",
        "def escalacao():\n",
        "  listaEscalacao = []\n",
        "  qtde = int(input(\"Quantos jogadores vai escalar?\"))\n",
        "  for i in range(qtde):\n",
        "    jogador = (input(\"Escale o Jogador\" + str(i+1)))      \n",
        "    listaEscalacao.append(jogador)\n",
        "  print(\"Jogadores Escalados: \", listaEscalacao)"
      ],
      "execution_count": null,
      "outputs": []
    },
    {
      "cell_type": "code",
      "metadata": {
        "id": "FTyc5YTuHUaB",
        "colab": {
          "base_uri": "https://localhost:8080/"
        },
        "outputId": "ded1e02f-0ef5-4f43-8af6-04dc324a6ac9"
      },
      "source": [
        "escalacao()"
      ],
      "execution_count": null,
      "outputs": [
        {
          "output_type": "stream",
          "name": "stdout",
          "text": [
            "Quantos jogadores vai escalar?3\n",
            "Escale o Jogador1Pedro\n",
            "Escale o Jogador2Jose\n",
            "Escale o Jogador3Alfredo\n",
            "Jogadores Escalados:  ['Pedro', 'Jose', 'Alfredo']\n"
          ]
        }
      ]
    },
    {
      "cell_type": "code",
      "metadata": {
        "id": "QsJbkTbEV4Br"
      },
      "source": [
        "#Usando Laço de Repetição com retorno\n",
        "def escalacao():\n",
        "  listaEscalacao = []\n",
        "  qtde = int(input(\"Quantos jogadores vai escalar?\"))\n",
        "  tipo = input(\"Para que tipo de esportes você escalar?\")\n",
        "  for i in range(qtde):\n",
        "    jogador = (input(\"Escale o Jogador\" + str(i)))      \n",
        "    listaEscalacao.append(jogador)\n",
        "  return listaEscalacao, tipo"
      ],
      "execution_count": null,
      "outputs": []
    },
    {
      "cell_type": "code",
      "metadata": {
        "colab": {
          "base_uri": "https://localhost:8080/"
        },
        "id": "hBEMssCZWrBc",
        "outputId": "14844c41-8641-409c-8b49-f12d9c1ddb4b"
      },
      "source": [
        "#Quando você precisa manipular o retorno depois é melhor fazer a função dessa forma\n",
        "variavel_recebe_retorn, esporte = escalacao()"
      ],
      "execution_count": null,
      "outputs": [
        {
          "name": "stdout",
          "output_type": "stream",
          "text": [
            "Quantos jogadores vai escalar?4\n",
            "Para que tipo de esportes você escalar?Peteca\n",
            "Escale o Jogador0Marta\n",
            "Escale o Jogador1Cíntia\n",
            "Escale o Jogador2Fernanda\n",
            "Escale o Jogador3Alfredo\n"
          ]
        }
      ]
    },
    {
      "cell_type": "code",
      "metadata": {
        "id": "WagZNqHyIbA0",
        "colab": {
          "base_uri": "https://localhost:8080/"
        },
        "outputId": "9973d8d1-b401-492e-80d4-32769441ff43"
      },
      "source": [
        "variavel_recebe_retorn"
      ],
      "execution_count": null,
      "outputs": [
        {
          "output_type": "execute_result",
          "data": {
            "text/plain": [
              "['Marta', 'Cíntia', 'Fernanda', 'Alfredo']"
            ]
          },
          "metadata": {},
          "execution_count": 26
        }
      ]
    },
    {
      "cell_type": "code",
      "metadata": {
        "id": "nyQEzp2yJU_V",
        "colab": {
          "base_uri": "https://localhost:8080/",
          "height": 35
        },
        "outputId": "5aacaa6b-b065-4443-e5d5-a25070c64317"
      },
      "source": [
        "esporte"
      ],
      "execution_count": null,
      "outputs": [
        {
          "output_type": "execute_result",
          "data": {
            "application/vnd.google.colaboratory.intrinsic+json": {
              "type": "string"
            },
            "text/plain": [
              "'Peteca'"
            ]
          },
          "metadata": {},
          "execution_count": 27
        }
      ]
    },
    {
      "cell_type": "code",
      "metadata": {
        "colab": {
          "base_uri": "https://localhost:8080/"
        },
        "id": "36uKKv-BWzdD",
        "outputId": "c3fc2dc9-b304-42ce-8716-5d4adbb9f68e"
      },
      "source": [
        "print(\"Os Jogadores escalados foram: \", variavel_recebe_retorno )"
      ],
      "execution_count": null,
      "outputs": [
        {
          "output_type": "stream",
          "name": "stdout",
          "text": [
            "Os Jogadores escalados foram:  ['Alberto', 'Fernando']\n"
          ]
        }
      ]
    },
    {
      "cell_type": "code",
      "metadata": {
        "id": "-hNZRYv3yHcO"
      },
      "source": [
        "# Função para somar números\n",
        "def addNum(firstnum, secondnum):\n",
        "    print(\"Primeiro número: \" + str(firstnum))\n",
        "    print(\"Segundo número: \" + str(secondnum))\n",
        "    print(\"Soma: \", firstnum + secondnum)"
      ],
      "execution_count": null,
      "outputs": []
    },
    {
      "cell_type": "code",
      "metadata": {
        "colab": {
          "base_uri": "https://localhost:8080/"
        },
        "id": "QLply1_IyJcW",
        "outputId": "5222525b-951c-4070-f26d-0b6ebc01b9ea"
      },
      "source": [
        "addNum(10,50)"
      ],
      "execution_count": null,
      "outputs": [
        {
          "output_type": "stream",
          "name": "stdout",
          "text": [
            "Primeiro número: 10\n",
            "Segundo número: 50\n",
            "Soma:  60\n"
          ]
        }
      ]
    },
    {
      "cell_type": "code",
      "metadata": {
        "id": "4WtKlZAyJ4Zw"
      },
      "source": [
        "def horastrabalhadas(hora, minutos, valor):\n",
        "  convertido = minutos/60\n",
        "  result = (hora + convertido) * valor\n",
        "  return result\n"
      ],
      "execution_count": null,
      "outputs": []
    },
    {
      "cell_type": "code",
      "metadata": {
        "id": "282PEy8CK0HV",
        "colab": {
          "base_uri": "https://localhost:8080/"
        },
        "outputId": "ea692354-e3b3-438d-8cd2-36dea9aa464a"
      },
      "source": [
        "valor = horastrabalhadas(133,25,50)\n",
        "valor"
      ],
      "execution_count": null,
      "outputs": [
        {
          "output_type": "execute_result",
          "data": {
            "text/plain": [
              "6670.833333333333"
            ]
          },
          "metadata": {},
          "execution_count": 33
        }
      ]
    },
    {
      "cell_type": "code",
      "metadata": {
        "id": "xon_TUOoZKXH"
      },
      "source": [
        "def soma (num1, num2):\n",
        "  resp = num1+num2\n",
        "  return resp\n",
        "def sub (num1, num2):\n",
        "  resp = num1-num2\n",
        "  return resp\n",
        "def mult (num1, num2):\n",
        "  resp = num1*num2\n",
        "  return resp\n",
        "def div (num1, num2):\n",
        "  resp = num1/num2\n",
        "  return resp"
      ],
      "execution_count": null,
      "outputs": []
    },
    {
      "cell_type": "code",
      "metadata": {
        "id": "i1tU7EWJLbff",
        "colab": {
          "base_uri": "https://localhost:8080/"
        },
        "outputId": "6ebf942f-5ff6-4e98-a116-b7518f5cffb7"
      },
      "source": [
        "div(20,5)"
      ],
      "execution_count": null,
      "outputs": [
        {
          "output_type": "execute_result",
          "data": {
            "text/plain": [
              "4.0"
            ]
          },
          "metadata": {},
          "execution_count": 35
        }
      ]
    },
    {
      "cell_type": "code",
      "metadata": {
        "id": "mUxMGDLSXldP"
      },
      "source": [
        "#exemplos de manipulação de retornos usando outras funções que foram realizadas anteriormente, retornando mais de um valor\n",
        "def calculadora():\n",
        "  calc = int(input(\"Calculadora Acionada, qual cálculo você quer fazer? \\n Digite 1 para Somar \\n Digite 2 para Subtrair \\n Digite 3 para Multiplicar \\n Digite 4 para Dividir\"))\n",
        "  valor1 = int(input(\"Digite o Primeiro Valor para fazer o Cálculo:\"))\n",
        "  valor2 = int(input(\"Digite o Segundo Valor para fazer o Cálculo:\"))\n",
        "  if calc == 1:\n",
        "    resul = soma(valor1,valor2)\n",
        "    tipo = \" fez Soma\"\n",
        "  elif calc == 2:\n",
        "    resul = sub(valor1,valor2)\n",
        "    tipo =  \"fez Subtração\"\n",
        "  elif calc ==3:\n",
        "    resul = mult(valor1,valor2)\n",
        "    tipo = \"fez Multiplicação\"\n",
        "  elif calc ==4:\n",
        "    resul = div(valor1,valor2)\n",
        "    tipo = \" fez Divisão\"\n",
        "  else:\n",
        "    resul = \"invalido\"\n",
        "    tipo = \"invalido\"\n",
        "  if resul == \"invalido\":\n",
        "    resul = \"não digitou um valor válido pra fazer o cálculo\"    \n",
        "  return resul, tipo\n"
      ],
      "execution_count": null,
      "outputs": []
    },
    {
      "cell_type": "code",
      "metadata": {
        "colab": {
          "base_uri": "https://localhost:8080/"
        },
        "id": "lC4ywcq5bDSH",
        "outputId": "24d0c3ef-8949-403d-a0c2-babd25957f7c"
      },
      "source": [
        "resultado, tipo = calculadora()"
      ],
      "execution_count": null,
      "outputs": [
        {
          "name": "stdout",
          "output_type": "stream",
          "text": [
            "Calculadora Acionada, qual cálculo você quer fazer? \n",
            " Digite 1 para Somar \n",
            " Digite 2 para Subtrair \n",
            " Digite 3 para Multiplicar \n",
            " Digite 4 para Dividir2\n",
            "Digite o Primeiro Valor para fazer o Cálculo:50\n",
            "Digite o Segundo Valor para fazer o Cálculo:2\n"
          ]
        }
      ]
    },
    {
      "cell_type": "code",
      "metadata": {
        "colab": {
          "base_uri": "https://localhost:8080/"
        },
        "id": "VA9ztJ9qbbCk",
        "outputId": "2c479cdc-fab5-41ad-f227-8dd58dcd073a"
      },
      "source": [
        "print(\"Você\", tipo, \"o resultado obtido foi: \", resultado)"
      ],
      "execution_count": null,
      "outputs": [
        {
          "output_type": "stream",
          "name": "stdout",
          "text": [
            "Você fez Subtração o resultado obtido foi:  48\n"
          ]
        }
      ]
    },
    {
      "cell_type": "code",
      "metadata": {
        "id": "Eebu-lYJbbN_"
      },
      "source": [
        "# Variável Global\n",
        "var_global = 10  # Esta é uma variável global\n",
        "\n",
        "def multiply(num1, num2):\n",
        "    var_global = num1 * num2  # Esta é uma variável local\n",
        "    print(var_global)"
      ],
      "execution_count": null,
      "outputs": []
    },
    {
      "cell_type": "code",
      "metadata": {
        "colab": {
          "base_uri": "https://localhost:8080/"
        },
        "id": "lJ5Fratvz6vi",
        "outputId": "75b092fb-df5b-4e79-9a08-bb2453ea8b67"
      },
      "source": [
        "var_global"
      ],
      "execution_count": null,
      "outputs": [
        {
          "output_type": "execute_result",
          "data": {
            "text/plain": [
              "10"
            ]
          },
          "metadata": {},
          "execution_count": 40
        }
      ]
    },
    {
      "cell_type": "code",
      "metadata": {
        "colab": {
          "base_uri": "https://localhost:8080/"
        },
        "id": "zhomP4Mbz-Pk",
        "outputId": "86ea5201-ccf6-437d-9cc9-c4e1b93d7ce2"
      },
      "source": [
        "multiply(5,6)"
      ],
      "execution_count": null,
      "outputs": [
        {
          "output_type": "stream",
          "name": "stdout",
          "text": [
            "30\n"
          ]
        }
      ]
    },
    {
      "cell_type": "code",
      "metadata": {
        "colab": {
          "base_uri": "https://localhost:8080/"
        },
        "id": "Kk4-KfQQ0DlF",
        "outputId": "32e894ae-03b3-4033-b222-873e556d6ac9"
      },
      "source": [
        "#como a variável var_global foi criada também dentro da função ele só será utilizada ali dentro.\n",
        "var_global"
      ],
      "execution_count": null,
      "outputs": [
        {
          "output_type": "execute_result",
          "data": {
            "text/plain": [
              "10"
            ]
          },
          "metadata": {},
          "execution_count": 42
        }
      ]
    },
    {
      "cell_type": "code",
      "metadata": {
        "id": "AtMW0IiN1D2E"
      },
      "source": [
        "#caso eu tente acessar uma vaiável local:\n",
        "def multiply(num1, num2):\n",
        "    var_local = num1 * num2  # Esta é uma variável local\n",
        "    print(var_local)"
      ],
      "execution_count": null,
      "outputs": []
    },
    {
      "cell_type": "code",
      "metadata": {
        "colab": {
          "base_uri": "https://localhost:8080/"
        },
        "id": "wLVh1Zpp1MKh",
        "outputId": "a4c8db39-49a5-4b82-ace9-31f4701b74fd"
      },
      "source": [
        "multiply(2,3)"
      ],
      "execution_count": null,
      "outputs": [
        {
          "output_type": "stream",
          "name": "stdout",
          "text": [
            "6\n"
          ]
        }
      ]
    },
    {
      "cell_type": "code",
      "metadata": {
        "colab": {
          "base_uri": "https://localhost:8080/",
          "height": 185
        },
        "id": "irKkzDgC1Prd",
        "outputId": "8d58b7ab-56f6-4563-d479-41fdf9eb8fa2"
      },
      "source": [
        "#tentando acessar variável local\n",
        "var_local"
      ],
      "execution_count": null,
      "outputs": [
        {
          "output_type": "error",
          "ename": "NameError",
          "evalue": "ignored",
          "traceback": [
            "\u001b[0;31m---------------------------------------------------------------------------\u001b[0m",
            "\u001b[0;31mNameError\u001b[0m                                 Traceback (most recent call last)",
            "\u001b[0;32m<ipython-input-45-3fdeb603c7e6>\u001b[0m in \u001b[0;36m<module>\u001b[0;34m()\u001b[0m\n\u001b[1;32m      1\u001b[0m \u001b[0;31m#tentando acessar variável local\u001b[0m\u001b[0;34m\u001b[0m\u001b[0;34m\u001b[0m\u001b[0;34m\u001b[0m\u001b[0m\n\u001b[0;32m----> 2\u001b[0;31m \u001b[0mvar_local\u001b[0m\u001b[0;34m\u001b[0m\u001b[0;34m\u001b[0m\u001b[0m\n\u001b[0m",
            "\u001b[0;31mNameError\u001b[0m: name 'var_local' is not defined"
          ]
        }
      ]
    },
    {
      "cell_type": "code",
      "metadata": {
        "colab": {
          "base_uri": "https://localhost:8080/"
        },
        "id": "8p1J9-vm1G4f",
        "outputId": "641288db-abe2-4447-fbc2-7de9d7bb5959"
      },
      "source": [
        "# Usando a função int para converter o valor digitado, o int é uma função que alguém criou e que \n",
        "idade =int(input(\"Digite sua idade: \"))\n",
        "if idade > 13:\n",
        "    print(\"Você pode acessar o Facebook\")  \n"
      ],
      "execution_count": null,
      "outputs": [
        {
          "output_type": "stream",
          "name": "stdout",
          "text": [
            "Digite sua idade: 40\n",
            "Você pode acessar o Facebook\n"
          ]
        }
      ]
    },
    {
      "cell_type": "code",
      "metadata": {
        "id": "E9ZvlzdlNuW5",
        "colab": {
          "base_uri": "https://localhost:8080/"
        },
        "outputId": "4418b9fc-44fd-4752-d4aa-44ac2c0e39fa"
      },
      "source": [
        "nome = \"cintia\"\n",
        "len(nome)"
      ],
      "execution_count": null,
      "outputs": [
        {
          "output_type": "execute_result",
          "data": {
            "text/plain": [
              "6"
            ]
          },
          "metadata": {},
          "execution_count": 51
        }
      ]
    },
    {
      "cell_type": "code",
      "metadata": {
        "id": "ygL8SWN84mQ3"
      },
      "source": [
        "# Fazendo split dos dados\n",
        "def split_string(text):\n",
        "    return text.split(\" \")"
      ],
      "execution_count": null,
      "outputs": []
    },
    {
      "cell_type": "code",
      "metadata": {
        "id": "qVhOQvXG6Yyw"
      },
      "source": [
        "texto = \"Esta função será bastante útil para separar grandes volumes de dados.\""
      ],
      "execution_count": null,
      "outputs": []
    },
    {
      "cell_type": "code",
      "metadata": {
        "colab": {
          "base_uri": "https://localhost:8080/"
        },
        "id": "GqIbDjzD6Z9r",
        "outputId": "7b805105-5964-4f8a-bfed-72b0870ca68c"
      },
      "source": [
        "# Isso divide a string em uma lista.\n",
        "print(split_string(texto))"
      ],
      "execution_count": null,
      "outputs": [
        {
          "output_type": "stream",
          "name": "stdout",
          "text": [
            "['Esta', 'função', 'será', 'bastante', 'útil', 'para', 'separar', 'grandes', 'volumes', 'de', 'dados.']\n"
          ]
        }
      ]
    },
    {
      "cell_type": "code",
      "metadata": {
        "colab": {
          "base_uri": "https://localhost:8080/",
          "height": 35
        },
        "id": "cuIz7Zsu5mMm",
        "outputId": "ee36c240-492f-4824-c40a-3f02fbfbe581"
      },
      "source": [
        "token = split_string(texto)\n",
        "token[2]"
      ],
      "execution_count": null,
      "outputs": [
        {
          "output_type": "execute_result",
          "data": {
            "application/vnd.google.colaboratory.intrinsic+json": {
              "type": "string"
            },
            "text/plain": [
              "'será'"
            ]
          },
          "metadata": {},
          "execution_count": 56
        }
      ]
    },
    {
      "cell_type": "code",
      "metadata": {
        "colab": {
          "base_uri": "https://localhost:8080/",
          "height": 35
        },
        "id": "3YR4KBW-5yVI",
        "outputId": "73f35b81-9e9f-4590-eefb-8c3dc800c9dd"
      },
      "source": [
        "token[4]"
      ],
      "execution_count": null,
      "outputs": [
        {
          "output_type": "execute_result",
          "data": {
            "application/vnd.google.colaboratory.intrinsic+json": {
              "type": "string"
            },
            "text/plain": [
              "'útil'"
            ]
          },
          "metadata": {},
          "execution_count": 98
        }
      ]
    },
    {
      "cell_type": "code",
      "metadata": {
        "id": "J-mAf3ia6yls"
      },
      "source": [
        "caixa_baixa = \"Este Texto Deveria Estar Todo Em LowerCase\""
      ],
      "execution_count": null,
      "outputs": []
    },
    {
      "cell_type": "code",
      "metadata": {
        "id": "AGtuL3WP63nT"
      },
      "source": [
        "def lowercase(text):\n",
        "    return text.lower()"
      ],
      "execution_count": null,
      "outputs": []
    },
    {
      "cell_type": "code",
      "metadata": {
        "id": "kNR6p9cUORmt",
        "colab": {
          "base_uri": "https://localhost:8080/",
          "height": 35
        },
        "outputId": "b1813d1b-a0fb-47fd-a3e6-3a5c66873baf"
      },
      "source": [
        "lowercase(caixa_baixa)"
      ],
      "execution_count": null,
      "outputs": [
        {
          "output_type": "execute_result",
          "data": {
            "application/vnd.google.colaboratory.intrinsic+json": {
              "type": "string"
            },
            "text/plain": [
              "'este texto deveria estar todo em lowercase'"
            ]
          },
          "metadata": {},
          "execution_count": 59
        }
      ]
    },
    {
      "cell_type": "code",
      "metadata": {
        "id": "EKwGNVJT67oq"
      },
      "source": [
        "# Funções com número variável de argumentos\n",
        "def printVarInfo( arg1, *vartuple ):\n",
        "   # Imprimindo o valor do primeiro argumento\n",
        "    print (\"O parâmetro passado foi: \", arg1)\n",
        "   \n",
        "   # Imprimindo o valor do segundo argumento \n",
        "    for item in vartuple:\n",
        "        print (\"O parâmetro passado foi: \", item)\n",
        "    return;"
      ],
      "execution_count": null,
      "outputs": []
    },
    {
      "cell_type": "code",
      "metadata": {
        "colab": {
          "base_uri": "https://localhost:8080/"
        },
        "id": "cp8qw9BR7HRp",
        "outputId": "8c603219-e192-425d-c6db-bcb0e267f86c"
      },
      "source": [
        "# Fazendo chamada à função usando apenas 1 argumento\n",
        "printVarInfo(10)"
      ],
      "execution_count": null,
      "outputs": [
        {
          "output_type": "stream",
          "name": "stdout",
          "text": [
            "O parâmetro passado foi:  10\n"
          ]
        }
      ]
    },
    {
      "cell_type": "code",
      "metadata": {
        "colab": {
          "base_uri": "https://localhost:8080/"
        },
        "id": "9v1ePyjj7Mye",
        "outputId": "0f973c34-edc0-4a46-b08d-7e218ce8a48b"
      },
      "source": [
        "printVarInfo('Chocolate', 'Morango', 'Banana',1, True)"
      ],
      "execution_count": null,
      "outputs": [
        {
          "output_type": "stream",
          "name": "stdout",
          "text": [
            "O parâmetro passado foi:  Chocolate\n",
            "O parâmetro passado foi:  Morango\n",
            "O parâmetro passado foi:  Banana\n",
            "O parâmetro passado foi:  1\n",
            "O parâmetro passado foi:  True\n"
          ]
        }
      ]
    }
  ]
}