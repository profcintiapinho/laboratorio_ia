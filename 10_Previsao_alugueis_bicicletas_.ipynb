{
  "nbformat": 4,
  "nbformat_minor": 0,
  "metadata": {
    "colab": {
      "name": "10_Previsao_alugueis_bicicletas_.ipynb",
      "provenance": [],
      "include_colab_link": true
    },
    "kernelspec": {
      "display_name": "Python 3",
      "language": "python",
      "name": "python3"
    },
    "language_info": {
      "codemirror_mode": {
        "name": "ipython",
        "version": 3
      },
      "file_extension": ".py",
      "mimetype": "text/x-python",
      "name": "python",
      "nbconvert_exporter": "python",
      "pygments_lexer": "ipython3",
      "version": "3.8.5"
    }
  },
  "cells": [
    {
      "cell_type": "markdown",
      "metadata": {
        "id": "view-in-github",
        "colab_type": "text"
      },
      "source": [
        "<a href=\"https://colab.research.google.com/github/profcintiapinho/laboratorio_ia/blob/main/10_Previsao_alugueis_bicicletas_.ipynb\" target=\"_parent\"><img src=\"https://colab.research.google.com/assets/colab-badge.svg\" alt=\"Open In Colab\"/></a>"
      ]
    },
    {
      "cell_type": "markdown",
      "metadata": {
        "id": "iZvp3vgVHtpF"
      },
      "source": [
        "#REGRESSÃO LINEAR - PREVENDO ALUGUEL DE BICICLETAS"
      ]
    },
    {
      "cell_type": "markdown",
      "metadata": {
        "id": "jt3f9kGaJ_cp"
      },
      "source": [
        "Um dos modelos de machine learning mais famosos é a Regressão linear, mas você sabe o que ele é e como funciona?\n",
        "\n",
        "O termo **“Regressão” **surgiu em 1885 com o antropólogo, matemático e estatístico **Francis Galton**. As primeiras aplicações do método surgiram na Antropometria, ou seja, estudo das medidas e da matemática dos corpos humanos.\n",
        "Ao estudar as **estaturas de pais e filhos**, Galton observou que **filhos de pais com altura baixa em relação à média tendem a ser mais altos que seus pais**, e **filhos de pais com estatura alta em relação à média tendem a ser mais baixos que seus pais**, ou seja, as alturas dos seres humanos em geral **tendem a regredir à média.**\n",
        "\n",
        "Regressão linear é um tipo de algoritmo supervisionado, portanto antes de entender como funciona o algoritmo é importante conhecer o que seria aprendizado supervisionado.\n",
        "\n",
        "**Conceitos importantes**\n",
        "\n",
        "Antes de prosseguir, há alguns conceitos importantes que precisam estar bem claros na sua mente.\n",
        "\n",
        "**Variável independente ou preditora**: é aquela que será passada para o modelo, tendo influência na variável que queremos encontrar. Por exemplo: Se queremos prever as vendas de sorvete, a estação do ano pode interferir nas vendas.\n",
        "\n",
        "**Variável alvo ou dependente**: é a variável que queremos prever. No exemplo acima seria as vendas de sorvete."
      ]
    },
    {
      "cell_type": "markdown",
      "metadata": {
        "id": "u7qARC6RKeOq"
      },
      "source": [
        "O **aprendizado supervisionado** é aplicado quando tenta encontrar a relação entre a variável de alvo e as variáveis independentes.\n",
        "\n",
        "Uma das características mais importantes neste aprendizado é que os dados usados no treino do modelo devem ser “rotulados”, ou seja, nos dados de treino eu preciso ter os dados anotados com o valores corretos e nós sabemos do resultado de saída.\n",
        "\n",
        "Esse tipo de aprendizado é aplicado em 2 tipos de problemas: **Classificação e Regressão**.\n",
        "\n",
        "Um modelo de machine learning aprende os padrões dos dados e cria matematicamente uma função para gerar previsões, portanto pode-se afirmar que em algoritmos supervisionados é gerado uma  função para gerar os valores de resposta."
      ]
    },
    {
      "cell_type": "markdown",
      "metadata": {
        "id": "zJVTMpnALTXE"
      },
      "source": [
        "**Regressão Linear**\n",
        "Regressão linear é um algoritmo supervisionado de machine learning usado para estimar o valor de algo baseado em uma série de outros dados históricos, portanto olhando para o passado você pode “prever” o futuro.\n",
        "\n",
        "Fonte: Laura Damaceno"
      ]
    },
    {
      "cell_type": "markdown",
      "metadata": {
        "id": "_9NEEE6iz-EX"
      },
      "source": [
        "# Importando as bibliotecas"
      ]
    },
    {
      "cell_type": "code",
      "metadata": {
        "id": "EjkkDieez3nQ"
      },
      "source": [
        "import pandas as pd\n",
        "import numpy as np\n",
        "import matplotlib.pyplot as plt\n",
        "import seaborn as sns\n",
        "from sklearn.linear_model import LinearRegression\n",
        "from sklearn.metrics import mean_squared_error\n",
        "from sklearn.tree import DecisionTreeRegressor\n",
        "from sklearn.ensemble import RandomForestRegressor\n",
        "%matplotlib inline"
      ],
      "execution_count": 59,
      "outputs": []
    },
    {
      "cell_type": "markdown",
      "metadata": {
        "id": "fTGrZGAo0tCz"
      },
      "source": [
        "# Carregando a base de dados"
      ]
    },
    {
      "cell_type": "code",
      "metadata": {
        "colab": {
          "base_uri": "https://localhost:8080/"
        },
        "id": "SdNj4tzTQMMb",
        "outputId": "ca82a24d-8766-4b65-e113-027bbd6c4da0"
      },
      "source": [
        "#essa célula permite acesso ao drive\n",
        "from google.colab import drive\n",
        "drive.mount('/content/drive')"
      ],
      "execution_count": 60,
      "outputs": [
        {
          "output_type": "stream",
          "name": "stdout",
          "text": [
            "Drive already mounted at /content/drive; to attempt to forcibly remount, call drive.mount(\"/content/drive\", force_remount=True).\n"
          ]
        }
      ]
    },
    {
      "cell_type": "code",
      "metadata": {
        "id": "hiarjDaS0yZN"
      },
      "source": [
        "#bike_rentals = pd.read_csv(\"/content/drive/MyDrive/Colab Notebooks/bikePrevisao/bike_rental_hour.csv\")\n",
        "bike_rentals = pd.read_csv(\"https://raw.githubusercontent.com/profcintiapinho/laboratorio_ia/main/bike_rental_hour.csv\")"
      ],
      "execution_count": 111,
      "outputs": []
    },
    {
      "cell_type": "markdown",
      "metadata": {
        "id": "SKfS4KHx105X"
      },
      "source": [
        "## Visualizando os primeiros registros da base"
      ]
    },
    {
      "cell_type": "code",
      "metadata": {
        "colab": {
          "base_uri": "https://localhost:8080/"
        },
        "id": "gfKBynUL17LE",
        "outputId": "eb6b4cfd-bf84-4d76-cfe2-19774f8e356e"
      },
      "source": [
        "bike_rentals.shape"
      ],
      "execution_count": 112,
      "outputs": [
        {
          "output_type": "execute_result",
          "data": {
            "text/plain": [
              "(17379, 17)"
            ]
          },
          "metadata": {},
          "execution_count": 112
        }
      ]
    },
    {
      "cell_type": "code",
      "metadata": {
        "colab": {
          "base_uri": "https://localhost:8080/",
          "height": 596
        },
        "id": "ojKvRosPTQ_C",
        "outputId": "9cfd2ff6-7abb-4a93-83da-3173138853d7"
      },
      "source": [
        "bike_rentals"
      ],
      "execution_count": 63,
      "outputs": [
        {
          "output_type": "execute_result",
          "data": {
            "text/html": [
              "<div>\n",
              "<style scoped>\n",
              "    .dataframe tbody tr th:only-of-type {\n",
              "        vertical-align: middle;\n",
              "    }\n",
              "\n",
              "    .dataframe tbody tr th {\n",
              "        vertical-align: top;\n",
              "    }\n",
              "\n",
              "    .dataframe thead th {\n",
              "        text-align: right;\n",
              "    }\n",
              "</style>\n",
              "<table border=\"1\" class=\"dataframe\">\n",
              "  <thead>\n",
              "    <tr style=\"text-align: right;\">\n",
              "      <th></th>\n",
              "      <th>instant</th>\n",
              "      <th>dteday</th>\n",
              "      <th>season</th>\n",
              "      <th>yr</th>\n",
              "      <th>mnth</th>\n",
              "      <th>hr</th>\n",
              "      <th>holiday</th>\n",
              "      <th>weekday</th>\n",
              "      <th>workingday</th>\n",
              "      <th>weathersit</th>\n",
              "      <th>temp</th>\n",
              "      <th>atemp</th>\n",
              "      <th>hum</th>\n",
              "      <th>windspeed</th>\n",
              "      <th>casual</th>\n",
              "      <th>registered</th>\n",
              "      <th>cnt</th>\n",
              "    </tr>\n",
              "  </thead>\n",
              "  <tbody>\n",
              "    <tr>\n",
              "      <th>0</th>\n",
              "      <td>1</td>\n",
              "      <td>2011-01-01</td>\n",
              "      <td>1</td>\n",
              "      <td>0</td>\n",
              "      <td>1</td>\n",
              "      <td>0</td>\n",
              "      <td>0</td>\n",
              "      <td>6</td>\n",
              "      <td>0</td>\n",
              "      <td>1</td>\n",
              "      <td>0.24</td>\n",
              "      <td>0.2879</td>\n",
              "      <td>0.81</td>\n",
              "      <td>0.0000</td>\n",
              "      <td>3</td>\n",
              "      <td>13</td>\n",
              "      <td>16</td>\n",
              "    </tr>\n",
              "    <tr>\n",
              "      <th>1</th>\n",
              "      <td>2</td>\n",
              "      <td>2011-01-01</td>\n",
              "      <td>1</td>\n",
              "      <td>0</td>\n",
              "      <td>1</td>\n",
              "      <td>1</td>\n",
              "      <td>0</td>\n",
              "      <td>6</td>\n",
              "      <td>0</td>\n",
              "      <td>1</td>\n",
              "      <td>0.22</td>\n",
              "      <td>0.2727</td>\n",
              "      <td>0.80</td>\n",
              "      <td>0.0000</td>\n",
              "      <td>8</td>\n",
              "      <td>32</td>\n",
              "      <td>40</td>\n",
              "    </tr>\n",
              "    <tr>\n",
              "      <th>2</th>\n",
              "      <td>3</td>\n",
              "      <td>2011-01-01</td>\n",
              "      <td>1</td>\n",
              "      <td>0</td>\n",
              "      <td>1</td>\n",
              "      <td>2</td>\n",
              "      <td>0</td>\n",
              "      <td>6</td>\n",
              "      <td>0</td>\n",
              "      <td>1</td>\n",
              "      <td>0.22</td>\n",
              "      <td>0.2727</td>\n",
              "      <td>0.80</td>\n",
              "      <td>0.0000</td>\n",
              "      <td>5</td>\n",
              "      <td>27</td>\n",
              "      <td>32</td>\n",
              "    </tr>\n",
              "    <tr>\n",
              "      <th>3</th>\n",
              "      <td>4</td>\n",
              "      <td>2011-01-01</td>\n",
              "      <td>1</td>\n",
              "      <td>0</td>\n",
              "      <td>1</td>\n",
              "      <td>3</td>\n",
              "      <td>0</td>\n",
              "      <td>6</td>\n",
              "      <td>0</td>\n",
              "      <td>1</td>\n",
              "      <td>0.24</td>\n",
              "      <td>0.2879</td>\n",
              "      <td>0.75</td>\n",
              "      <td>0.0000</td>\n",
              "      <td>3</td>\n",
              "      <td>10</td>\n",
              "      <td>13</td>\n",
              "    </tr>\n",
              "    <tr>\n",
              "      <th>4</th>\n",
              "      <td>5</td>\n",
              "      <td>2011-01-01</td>\n",
              "      <td>1</td>\n",
              "      <td>0</td>\n",
              "      <td>1</td>\n",
              "      <td>4</td>\n",
              "      <td>0</td>\n",
              "      <td>6</td>\n",
              "      <td>0</td>\n",
              "      <td>1</td>\n",
              "      <td>0.24</td>\n",
              "      <td>0.2879</td>\n",
              "      <td>0.75</td>\n",
              "      <td>0.0000</td>\n",
              "      <td>0</td>\n",
              "      <td>1</td>\n",
              "      <td>1</td>\n",
              "    </tr>\n",
              "    <tr>\n",
              "      <th>...</th>\n",
              "      <td>...</td>\n",
              "      <td>...</td>\n",
              "      <td>...</td>\n",
              "      <td>...</td>\n",
              "      <td>...</td>\n",
              "      <td>...</td>\n",
              "      <td>...</td>\n",
              "      <td>...</td>\n",
              "      <td>...</td>\n",
              "      <td>...</td>\n",
              "      <td>...</td>\n",
              "      <td>...</td>\n",
              "      <td>...</td>\n",
              "      <td>...</td>\n",
              "      <td>...</td>\n",
              "      <td>...</td>\n",
              "      <td>...</td>\n",
              "    </tr>\n",
              "    <tr>\n",
              "      <th>17374</th>\n",
              "      <td>17375</td>\n",
              "      <td>2012-12-31</td>\n",
              "      <td>1</td>\n",
              "      <td>1</td>\n",
              "      <td>12</td>\n",
              "      <td>19</td>\n",
              "      <td>0</td>\n",
              "      <td>1</td>\n",
              "      <td>1</td>\n",
              "      <td>2</td>\n",
              "      <td>0.26</td>\n",
              "      <td>0.2576</td>\n",
              "      <td>0.60</td>\n",
              "      <td>0.1642</td>\n",
              "      <td>11</td>\n",
              "      <td>108</td>\n",
              "      <td>119</td>\n",
              "    </tr>\n",
              "    <tr>\n",
              "      <th>17375</th>\n",
              "      <td>17376</td>\n",
              "      <td>2012-12-31</td>\n",
              "      <td>1</td>\n",
              "      <td>1</td>\n",
              "      <td>12</td>\n",
              "      <td>20</td>\n",
              "      <td>0</td>\n",
              "      <td>1</td>\n",
              "      <td>1</td>\n",
              "      <td>2</td>\n",
              "      <td>0.26</td>\n",
              "      <td>0.2576</td>\n",
              "      <td>0.60</td>\n",
              "      <td>0.1642</td>\n",
              "      <td>8</td>\n",
              "      <td>81</td>\n",
              "      <td>89</td>\n",
              "    </tr>\n",
              "    <tr>\n",
              "      <th>17376</th>\n",
              "      <td>17377</td>\n",
              "      <td>2012-12-31</td>\n",
              "      <td>1</td>\n",
              "      <td>1</td>\n",
              "      <td>12</td>\n",
              "      <td>21</td>\n",
              "      <td>0</td>\n",
              "      <td>1</td>\n",
              "      <td>1</td>\n",
              "      <td>1</td>\n",
              "      <td>0.26</td>\n",
              "      <td>0.2576</td>\n",
              "      <td>0.60</td>\n",
              "      <td>0.1642</td>\n",
              "      <td>7</td>\n",
              "      <td>83</td>\n",
              "      <td>90</td>\n",
              "    </tr>\n",
              "    <tr>\n",
              "      <th>17377</th>\n",
              "      <td>17378</td>\n",
              "      <td>2012-12-31</td>\n",
              "      <td>1</td>\n",
              "      <td>1</td>\n",
              "      <td>12</td>\n",
              "      <td>22</td>\n",
              "      <td>0</td>\n",
              "      <td>1</td>\n",
              "      <td>1</td>\n",
              "      <td>1</td>\n",
              "      <td>0.26</td>\n",
              "      <td>0.2727</td>\n",
              "      <td>0.56</td>\n",
              "      <td>0.1343</td>\n",
              "      <td>13</td>\n",
              "      <td>48</td>\n",
              "      <td>61</td>\n",
              "    </tr>\n",
              "    <tr>\n",
              "      <th>17378</th>\n",
              "      <td>17379</td>\n",
              "      <td>2012-12-31</td>\n",
              "      <td>1</td>\n",
              "      <td>1</td>\n",
              "      <td>12</td>\n",
              "      <td>23</td>\n",
              "      <td>0</td>\n",
              "      <td>1</td>\n",
              "      <td>1</td>\n",
              "      <td>1</td>\n",
              "      <td>0.26</td>\n",
              "      <td>0.2727</td>\n",
              "      <td>0.65</td>\n",
              "      <td>0.1343</td>\n",
              "      <td>12</td>\n",
              "      <td>37</td>\n",
              "      <td>49</td>\n",
              "    </tr>\n",
              "  </tbody>\n",
              "</table>\n",
              "<p>17379 rows × 17 columns</p>\n",
              "</div>"
            ],
            "text/plain": [
              "       instant      dteday  season  yr  ...  windspeed  casual  registered  cnt\n",
              "0            1  2011-01-01       1   0  ...     0.0000       3          13   16\n",
              "1            2  2011-01-01       1   0  ...     0.0000       8          32   40\n",
              "2            3  2011-01-01       1   0  ...     0.0000       5          27   32\n",
              "3            4  2011-01-01       1   0  ...     0.0000       3          10   13\n",
              "4            5  2011-01-01       1   0  ...     0.0000       0           1    1\n",
              "...        ...         ...     ...  ..  ...        ...     ...         ...  ...\n",
              "17374    17375  2012-12-31       1   1  ...     0.1642      11         108  119\n",
              "17375    17376  2012-12-31       1   1  ...     0.1642       8          81   89\n",
              "17376    17377  2012-12-31       1   1  ...     0.1642       7          83   90\n",
              "17377    17378  2012-12-31       1   1  ...     0.1343      13          48   61\n",
              "17378    17379  2012-12-31       1   1  ...     0.1343      12          37   49\n",
              "\n",
              "[17379 rows x 17 columns]"
            ]
          },
          "metadata": {},
          "execution_count": 63
        }
      ]
    },
    {
      "cell_type": "markdown",
      "metadata": {
        "id": "-xAui9TH2Ka1"
      },
      "source": [
        "Entendendo a base de dados:\n",
        "\n",
        "*   instant: índice de registro\n",
        "*   dteday: data\n",
        "*   season: estação do ano (1:inverno,2:primavera,3:verão,4:outono)\n",
        "*   yr: ano (0:2011, 1:2012)\n",
        "*   mnth: mês (1 a 12)\n",
        "*   hr: hora (0 a 23)\n",
        "*   holiday: o dia com clima é feriado ou não \n",
        "*   weekday: dia da semana\n",
        "*   workingday: se o dia não for final de semana nem feriado, for 1, caso contrário será 0 - equivalente ao dia útil\n",
        "*   weathersit: tempo\n",
        "1.   limpo, poucas nuvens, parcialmente nublado\n",
        "2.   névoa + nublado, névoa+nuvens partidas, névoa+poucas nuvens, névoa\n",
        "3.   neve fraca, chuva fraca+trovoada+nuvens dispersas, chuva fraca+nuvens dispersas\n",
        "4.   chuva forte + paletes de gelo + trovoada + névoa, neve + nevoeiro\n",
        "*   temp: temperatura normalizada em graus Célsius. Os valores são derivados de (t-t_min)/(t_max-t_min), t_min=-8, t_max=+39 (apenas na escala horária)\n",
        "*   atemp: temperatura normal de sensação em graus Célsius. Os valores são derivados de (t-t_min)/(t_max-t_min), t_min=-16, t_max=+50 (apenas na escala horária)\n",
        "*   hum: umidade normalizada. Os valores são divididos em 100 (máximo)\n",
        "*   windspeed: velocidade do vento normalizada. Os valores são divididos em 67 (máximo)\n",
        "*   casual: número de usuários casuais\n",
        "*   registered: número de usuários registrados\n",
        "*   cnt: contagem do total de bicicletas alugadas, incluindo bicicletas causais e registradas\n",
        "\n",
        "\n",
        "\n",
        "\n",
        "\n",
        "\n",
        "\n",
        "\n",
        "\n",
        "\n",
        "\n",
        "\n",
        "\n"
      ]
    },
    {
      "cell_type": "markdown",
      "metadata": {
        "id": "JxeeN3pt5R7G"
      },
      "source": [
        "Pré análise dos dados e Pré-processamento"
      ]
    },
    {
      "cell_type": "code",
      "metadata": {
        "colab": {
          "base_uri": "https://localhost:8080/",
          "height": 320
        },
        "id": "6M8janfi5Ydk",
        "outputId": "55e172b0-e42d-43dc-ec03-d2f6b6aaaf05"
      },
      "source": [
        "bike_rentals.describe()"
      ],
      "execution_count": 64,
      "outputs": [
        {
          "output_type": "execute_result",
          "data": {
            "text/html": [
              "<div>\n",
              "<style scoped>\n",
              "    .dataframe tbody tr th:only-of-type {\n",
              "        vertical-align: middle;\n",
              "    }\n",
              "\n",
              "    .dataframe tbody tr th {\n",
              "        vertical-align: top;\n",
              "    }\n",
              "\n",
              "    .dataframe thead th {\n",
              "        text-align: right;\n",
              "    }\n",
              "</style>\n",
              "<table border=\"1\" class=\"dataframe\">\n",
              "  <thead>\n",
              "    <tr style=\"text-align: right;\">\n",
              "      <th></th>\n",
              "      <th>instant</th>\n",
              "      <th>season</th>\n",
              "      <th>yr</th>\n",
              "      <th>mnth</th>\n",
              "      <th>hr</th>\n",
              "      <th>holiday</th>\n",
              "      <th>weekday</th>\n",
              "      <th>workingday</th>\n",
              "      <th>weathersit</th>\n",
              "      <th>temp</th>\n",
              "      <th>atemp</th>\n",
              "      <th>hum</th>\n",
              "      <th>windspeed</th>\n",
              "      <th>casual</th>\n",
              "      <th>registered</th>\n",
              "      <th>cnt</th>\n",
              "    </tr>\n",
              "  </thead>\n",
              "  <tbody>\n",
              "    <tr>\n",
              "      <th>count</th>\n",
              "      <td>17379.0000</td>\n",
              "      <td>17379.000000</td>\n",
              "      <td>17379.000000</td>\n",
              "      <td>17379.000000</td>\n",
              "      <td>17379.000000</td>\n",
              "      <td>17379.000000</td>\n",
              "      <td>17379.000000</td>\n",
              "      <td>17379.000000</td>\n",
              "      <td>17379.000000</td>\n",
              "      <td>17379.000000</td>\n",
              "      <td>17379.000000</td>\n",
              "      <td>17379.000000</td>\n",
              "      <td>17379.000000</td>\n",
              "      <td>17379.000000</td>\n",
              "      <td>17379.000000</td>\n",
              "      <td>17379.000000</td>\n",
              "    </tr>\n",
              "    <tr>\n",
              "      <th>mean</th>\n",
              "      <td>8690.0000</td>\n",
              "      <td>2.501640</td>\n",
              "      <td>0.502561</td>\n",
              "      <td>6.537775</td>\n",
              "      <td>11.546752</td>\n",
              "      <td>0.028770</td>\n",
              "      <td>3.003683</td>\n",
              "      <td>0.682721</td>\n",
              "      <td>1.425283</td>\n",
              "      <td>0.496987</td>\n",
              "      <td>0.475775</td>\n",
              "      <td>0.627229</td>\n",
              "      <td>0.190098</td>\n",
              "      <td>35.676218</td>\n",
              "      <td>153.786869</td>\n",
              "      <td>189.463088</td>\n",
              "    </tr>\n",
              "    <tr>\n",
              "      <th>std</th>\n",
              "      <td>5017.0295</td>\n",
              "      <td>1.106918</td>\n",
              "      <td>0.500008</td>\n",
              "      <td>3.438776</td>\n",
              "      <td>6.914405</td>\n",
              "      <td>0.167165</td>\n",
              "      <td>2.005771</td>\n",
              "      <td>0.465431</td>\n",
              "      <td>0.639357</td>\n",
              "      <td>0.192556</td>\n",
              "      <td>0.171850</td>\n",
              "      <td>0.192930</td>\n",
              "      <td>0.122340</td>\n",
              "      <td>49.305030</td>\n",
              "      <td>151.357286</td>\n",
              "      <td>181.387599</td>\n",
              "    </tr>\n",
              "    <tr>\n",
              "      <th>min</th>\n",
              "      <td>1.0000</td>\n",
              "      <td>1.000000</td>\n",
              "      <td>0.000000</td>\n",
              "      <td>1.000000</td>\n",
              "      <td>0.000000</td>\n",
              "      <td>0.000000</td>\n",
              "      <td>0.000000</td>\n",
              "      <td>0.000000</td>\n",
              "      <td>1.000000</td>\n",
              "      <td>0.020000</td>\n",
              "      <td>0.000000</td>\n",
              "      <td>0.000000</td>\n",
              "      <td>0.000000</td>\n",
              "      <td>0.000000</td>\n",
              "      <td>0.000000</td>\n",
              "      <td>1.000000</td>\n",
              "    </tr>\n",
              "    <tr>\n",
              "      <th>25%</th>\n",
              "      <td>4345.5000</td>\n",
              "      <td>2.000000</td>\n",
              "      <td>0.000000</td>\n",
              "      <td>4.000000</td>\n",
              "      <td>6.000000</td>\n",
              "      <td>0.000000</td>\n",
              "      <td>1.000000</td>\n",
              "      <td>0.000000</td>\n",
              "      <td>1.000000</td>\n",
              "      <td>0.340000</td>\n",
              "      <td>0.333300</td>\n",
              "      <td>0.480000</td>\n",
              "      <td>0.104500</td>\n",
              "      <td>4.000000</td>\n",
              "      <td>34.000000</td>\n",
              "      <td>40.000000</td>\n",
              "    </tr>\n",
              "    <tr>\n",
              "      <th>50%</th>\n",
              "      <td>8690.0000</td>\n",
              "      <td>3.000000</td>\n",
              "      <td>1.000000</td>\n",
              "      <td>7.000000</td>\n",
              "      <td>12.000000</td>\n",
              "      <td>0.000000</td>\n",
              "      <td>3.000000</td>\n",
              "      <td>1.000000</td>\n",
              "      <td>1.000000</td>\n",
              "      <td>0.500000</td>\n",
              "      <td>0.484800</td>\n",
              "      <td>0.630000</td>\n",
              "      <td>0.194000</td>\n",
              "      <td>17.000000</td>\n",
              "      <td>115.000000</td>\n",
              "      <td>142.000000</td>\n",
              "    </tr>\n",
              "    <tr>\n",
              "      <th>75%</th>\n",
              "      <td>13034.5000</td>\n",
              "      <td>3.000000</td>\n",
              "      <td>1.000000</td>\n",
              "      <td>10.000000</td>\n",
              "      <td>18.000000</td>\n",
              "      <td>0.000000</td>\n",
              "      <td>5.000000</td>\n",
              "      <td>1.000000</td>\n",
              "      <td>2.000000</td>\n",
              "      <td>0.660000</td>\n",
              "      <td>0.621200</td>\n",
              "      <td>0.780000</td>\n",
              "      <td>0.253700</td>\n",
              "      <td>48.000000</td>\n",
              "      <td>220.000000</td>\n",
              "      <td>281.000000</td>\n",
              "    </tr>\n",
              "    <tr>\n",
              "      <th>max</th>\n",
              "      <td>17379.0000</td>\n",
              "      <td>4.000000</td>\n",
              "      <td>1.000000</td>\n",
              "      <td>12.000000</td>\n",
              "      <td>23.000000</td>\n",
              "      <td>1.000000</td>\n",
              "      <td>6.000000</td>\n",
              "      <td>1.000000</td>\n",
              "      <td>4.000000</td>\n",
              "      <td>1.000000</td>\n",
              "      <td>1.000000</td>\n",
              "      <td>1.000000</td>\n",
              "      <td>0.850700</td>\n",
              "      <td>367.000000</td>\n",
              "      <td>886.000000</td>\n",
              "      <td>977.000000</td>\n",
              "    </tr>\n",
              "  </tbody>\n",
              "</table>\n",
              "</div>"
            ],
            "text/plain": [
              "          instant        season  ...    registered           cnt\n",
              "count  17379.0000  17379.000000  ...  17379.000000  17379.000000\n",
              "mean    8690.0000      2.501640  ...    153.786869    189.463088\n",
              "std     5017.0295      1.106918  ...    151.357286    181.387599\n",
              "min        1.0000      1.000000  ...      0.000000      1.000000\n",
              "25%     4345.5000      2.000000  ...     34.000000     40.000000\n",
              "50%     8690.0000      3.000000  ...    115.000000    142.000000\n",
              "75%    13034.5000      3.000000  ...    220.000000    281.000000\n",
              "max    17379.0000      4.000000  ...    886.000000    977.000000\n",
              "\n",
              "[8 rows x 16 columns]"
            ]
          },
          "metadata": {},
          "execution_count": 64
        }
      ]
    },
    {
      "cell_type": "markdown",
      "metadata": {
        "id": "x_ridp-J5iAe"
      },
      "source": [
        "Distribuição do atributo cnt"
      ]
    },
    {
      "cell_type": "code",
      "metadata": {
        "colab": {
          "base_uri": "https://localhost:8080/",
          "height": 405
        },
        "id": "aTNk09jd5l3J",
        "outputId": "7ca9a1fc-446b-4e9c-ce63-34fb0504c972"
      },
      "source": [
        "plt.figure(figsize=(12,8))\n",
        "sns.set_style('darkgrid')\n",
        "sns.displot(bike_rentals.cnt)"
      ],
      "execution_count": 65,
      "outputs": [
        {
          "output_type": "execute_result",
          "data": {
            "text/plain": [
              "<seaborn.axisgrid.FacetGrid at 0x7f130f100590>"
            ]
          },
          "metadata": {},
          "execution_count": 65
        },
        {
          "output_type": "display_data",
          "data": {
            "text/plain": [
              "<Figure size 864x576 with 0 Axes>"
            ]
          },
          "metadata": {}
        },
        {
          "output_type": "display_data",
          "data": {
            "image/png": "[encoded data removed]",
            "text/plain": [
              "<Figure size 360x360 with 1 Axes>"
            ]
          },
          "metadata": {}
        }
      ]
    },
    {
      "cell_type": "code",
      "metadata": {
        "colab": {
          "base_uri": "https://localhost:8080/",
          "height": 278
        },
        "id": "IyM617SlWMyQ",
        "outputId": "8633feaa-ff61-4ca4-9a9a-eaf00db89b9f"
      },
      "source": [
        "# mostra a média de biciletas alugadas\n",
        "g = sns.boxplot(x=bike_rentals[\"cnt\"])"
      ],
      "execution_count": 66,
      "outputs": [
        {
          "output_type": "display_data",
          "data": {
            "image/png": "[encoded data removed]",
            "text/plain": [
              "<Figure size 432x288 with 1 Axes>"
            ]
          },
          "metadata": {}
        }
      ]
    },
    {
      "cell_type": "code",
      "metadata": {
        "colab": {
          "base_uri": "https://localhost:8080/",
          "height": 354
        },
        "id": "Dr0pxcrtWpph",
        "outputId": "c65977ba-3655-44f2-b0bd-92837c3cdc9f"
      },
      "source": [
        "#Mostra a média de usuários casuais\n",
        "\n",
        "sns.distplot(bike_rentals.casual, bins=40)"
      ],
      "execution_count": 67,
      "outputs": [
        {
          "output_type": "stream",
          "name": "stderr",
          "text": [
            "/usr/local/lib/python3.7/dist-packages/seaborn/distributions.py:2619: FutureWarning: `distplot` is a deprecated function and will be removed in a future version. Please adapt your code to use either `displot` (a figure-level function with similar flexibility) or `histplot` (an axes-level function for histograms).\n",
            "  warnings.warn(msg, FutureWarning)\n"
          ]
        },
        {
          "output_type": "execute_result",
          "data": {
            "text/plain": [
              "<matplotlib.axes._subplots.AxesSubplot at 0x7f130f034ed0>"
            ]
          },
          "metadata": {},
          "execution_count": 67
        },
        {
          "output_type": "display_data",
          "data": {
            "image/png": "[encoded data removed]",
            "text/plain": [
              "<Figure size 432x288 with 1 Axes>"
            ]
          },
          "metadata": {}
        }
      ]
    },
    {
      "cell_type": "code",
      "metadata": {
        "colab": {
          "base_uri": "https://localhost:8080/",
          "height": 278
        },
        "id": "vxPOvU2VXZZC",
        "outputId": "013f99f5-e155-4563-c1c0-1d2ad29cf6c7"
      },
      "source": [
        "g = sns.boxplot(x=bike_rentals[\"casual\"])"
      ],
      "execution_count": 68,
      "outputs": [
        {
          "output_type": "display_data",
          "data": {
            "image/png": "[encoded data removed]",
            "text/plain": [
              "<Figure size 432x288 with 1 Axes>"
            ]
          },
          "metadata": {}
        }
      ]
    },
    {
      "cell_type": "code",
      "metadata": {
        "colab": {
          "base_uri": "https://localhost:8080/",
          "height": 354
        },
        "id": "1BEO0C4rWtbi",
        "outputId": "90cba52f-efbd-471e-ae0a-598ab0caa603"
      },
      "source": [
        "#Relação entre entre bicletas alugadas feriados e fim de semana(0) e dias da semana(1)\n",
        "sns.barplot(bike_rentals.workingday,bike_rentals.cnt)"
      ],
      "execution_count": 69,
      "outputs": [
        {
          "output_type": "stream",
          "name": "stderr",
          "text": [
            "/usr/local/lib/python3.7/dist-packages/seaborn/_decorators.py:43: FutureWarning: Pass the following variables as keyword args: x, y. From version 0.12, the only valid positional argument will be `data`, and passing other arguments without an explicit keyword will result in an error or misinterpretation.\n",
            "  FutureWarning\n"
          ]
        },
        {
          "output_type": "execute_result",
          "data": {
            "text/plain": [
              "<matplotlib.axes._subplots.AxesSubplot at 0x7f130edcf8d0>"
            ]
          },
          "metadata": {},
          "execution_count": 69
        },
        {
          "output_type": "display_data",
          "data": {
            "image/png": "[encoded data removed]",
            "text/plain": [
              "<Figure size 432x288 with 1 Axes>"
            ]
          },
          "metadata": {}
        }
      ]
    },
    {
      "cell_type": "code",
      "metadata": {
        "colab": {
          "base_uri": "https://localhost:8080/",
          "height": 354
        },
        "id": "0NRvdCkFYyyM",
        "outputId": "dc103f07-8740-4b57-f41a-cf0d553296be"
      },
      "source": [
        "#Relação entre entre bicletas alugas com os dias da semana\n",
        "sns.barplot(bike_rentals.weekday,bike_rentals.cnt)"
      ],
      "execution_count": 70,
      "outputs": [
        {
          "output_type": "stream",
          "name": "stderr",
          "text": [
            "/usr/local/lib/python3.7/dist-packages/seaborn/_decorators.py:43: FutureWarning: Pass the following variables as keyword args: x, y. From version 0.12, the only valid positional argument will be `data`, and passing other arguments without an explicit keyword will result in an error or misinterpretation.\n",
            "  FutureWarning\n"
          ]
        },
        {
          "output_type": "execute_result",
          "data": {
            "text/plain": [
              "<matplotlib.axes._subplots.AxesSubplot at 0x7f130ed3b350>"
            ]
          },
          "metadata": {},
          "execution_count": 70
        },
        {
          "output_type": "display_data",
          "data": {
            "image/png": "[encoded data removed]",
            "text/plain": [
              "<Figure size 432x288 with 1 Axes>"
            ]
          },
          "metadata": {}
        }
      ]
    },
    {
      "cell_type": "markdown",
      "metadata": {
        "id": "E0xdriex6Prt"
      },
      "source": [
        "Calculando a correlação entre as variáveis"
      ]
    },
    {
      "cell_type": "code",
      "metadata": {
        "colab": {
          "base_uri": "https://localhost:8080/",
          "height": 571
        },
        "id": "OpK_LIoo6UM7",
        "outputId": "5b89426e-f2eb-410b-c741-e78e995c6d46"
      },
      "source": [
        "corr = bike_rentals.corr()\n",
        "corr.style.background_gradient(cmap='coolwarm')"
      ],
      "execution_count": 71,
      "outputs": [
        {
          "output_type": "execute_result",
          "data": {
            "text/html": [
              "<style  type=\"text/css\" >\n",
              "#T_bdf9ba54_47c2_11ec_866a_0242ac1c0002row0_col0,#T_bdf9ba54_47c2_11ec_866a_0242ac1c0002row1_col1,#T_bdf9ba54_47c2_11ec_866a_0242ac1c0002row2_col2,#T_bdf9ba54_47c2_11ec_866a_0242ac1c0002row3_col3,#T_bdf9ba54_47c2_11ec_866a_0242ac1c0002row4_col4,#T_bdf9ba54_47c2_11ec_866a_0242ac1c0002row5_col5,#T_bdf9ba54_47c2_11ec_866a_0242ac1c0002row6_col6,#T_bdf9ba54_47c2_11ec_866a_0242ac1c0002row7_col7,#T_bdf9ba54_47c2_11ec_866a_0242ac1c0002row8_col8,#T_bdf9ba54_47c2_11ec_866a_0242ac1c0002row9_col9,#T_bdf9ba54_47c2_11ec_866a_0242ac1c0002row10_col10,#T_bdf9ba54_47c2_11ec_866a_0242ac1c0002row11_col11,#T_bdf9ba54_47c2_11ec_866a_0242ac1c0002row12_col12,#T_bdf9ba54_47c2_11ec_866a_0242ac1c0002row13_col13,#T_bdf9ba54_47c2_11ec_866a_0242ac1c0002row14_col14,#T_bdf9ba54_47c2_11ec_866a_0242ac1c0002row15_col15{\n",
              "            background-color:  #b40426;\n",
              "            color:  #f1f1f1;\n",
              "        }#T_bdf9ba54_47c2_11ec_866a_0242ac1c0002row0_col1,#T_bdf9ba54_47c2_11ec_866a_0242ac1c0002row4_col13{\n",
              "            background-color:  #d8dce2;\n",
              "            color:  #000000;\n",
              "        }#T_bdf9ba54_47c2_11ec_866a_0242ac1c0002row0_col2,#T_bdf9ba54_47c2_11ec_866a_0242ac1c0002row2_col0{\n",
              "            background-color:  #dd5f4b;\n",
              "            color:  #000000;\n",
              "        }#T_bdf9ba54_47c2_11ec_866a_0242ac1c0002row0_col3,#T_bdf9ba54_47c2_11ec_866a_0242ac1c0002row9_col15,#T_bdf9ba54_47c2_11ec_866a_0242ac1c0002row10_col15{\n",
              "            background-color:  #e9d5cb;\n",
              "            color:  #000000;\n",
              "        }#T_bdf9ba54_47c2_11ec_866a_0242ac1c0002row0_col4,#T_bdf9ba54_47c2_11ec_866a_0242ac1c0002row0_col5,#T_bdf9ba54_47c2_11ec_866a_0242ac1c0002row1_col4,#T_bdf9ba54_47c2_11ec_866a_0242ac1c0002row2_col4,#T_bdf9ba54_47c2_11ec_866a_0242ac1c0002row3_col4,#T_bdf9ba54_47c2_11ec_866a_0242ac1c0002row6_col4{\n",
              "            background-color:  #80a3fa;\n",
              "            color:  #000000;\n",
              "        }#T_bdf9ba54_47c2_11ec_866a_0242ac1c0002row0_col6,#T_bdf9ba54_47c2_11ec_866a_0242ac1c0002row8_col6{\n",
              "            background-color:  #5875e1;\n",
              "            color:  #000000;\n",
              "        }#T_bdf9ba54_47c2_11ec_866a_0242ac1c0002row0_col7,#T_bdf9ba54_47c2_11ec_866a_0242ac1c0002row2_col7,#T_bdf9ba54_47c2_11ec_866a_0242ac1c0002row3_col7,#T_bdf9ba54_47c2_11ec_866a_0242ac1c0002row5_col12,#T_bdf9ba54_47c2_11ec_866a_0242ac1c0002row6_col11,#T_bdf9ba54_47c2_11ec_866a_0242ac1c0002row13_col5,#T_bdf9ba54_47c2_11ec_866a_0242ac1c0002row14_col3{\n",
              "            background-color:  #85a8fc;\n",
              "            color:  #000000;\n",
              "        }#T_bdf9ba54_47c2_11ec_866a_0242ac1c0002row0_col8,#T_bdf9ba54_47c2_11ec_866a_0242ac1c0002row1_col8,#T_bdf9ba54_47c2_11ec_866a_0242ac1c0002row2_col1,#T_bdf9ba54_47c2_11ec_866a_0242ac1c0002row3_col12,#T_bdf9ba54_47c2_11ec_866a_0242ac1c0002row5_col8,#T_bdf9ba54_47c2_11ec_866a_0242ac1c0002row6_col5,#T_bdf9ba54_47c2_11ec_866a_0242ac1c0002row8_col1,#T_bdf9ba54_47c2_11ec_866a_0242ac1c0002row8_col14{\n",
              "            background-color:  #5f7fe8;\n",
              "            color:  #000000;\n",
              "        }#T_bdf9ba54_47c2_11ec_866a_0242ac1c0002row0_col9,#T_bdf9ba54_47c2_11ec_866a_0242ac1c0002row2_col12,#T_bdf9ba54_47c2_11ec_866a_0242ac1c0002row3_col5,#T_bdf9ba54_47c2_11ec_866a_0242ac1c0002row4_col9,#T_bdf9ba54_47c2_11ec_866a_0242ac1c0002row4_col10,#T_bdf9ba54_47c2_11ec_866a_0242ac1c0002row5_col4,#T_bdf9ba54_47c2_11ec_866a_0242ac1c0002row7_col4,#T_bdf9ba54_47c2_11ec_866a_0242ac1c0002row7_col12,#T_bdf9ba54_47c2_11ec_866a_0242ac1c0002row13_col0{\n",
              "            background-color:  #81a4fb;\n",
              "            color:  #000000;\n",
              "        }#T_bdf9ba54_47c2_11ec_866a_0242ac1c0002row0_col10,#T_bdf9ba54_47c2_11ec_866a_0242ac1c0002row5_col15,#T_bdf9ba54_47c2_11ec_866a_0242ac1c0002row10_col11,#T_bdf9ba54_47c2_11ec_866a_0242ac1c0002row12_col7{\n",
              "            background-color:  #82a6fb;\n",
              "            color:  #000000;\n",
              "        }#T_bdf9ba54_47c2_11ec_866a_0242ac1c0002row0_col11,#T_bdf9ba54_47c2_11ec_866a_0242ac1c0002row6_col15,#T_bdf9ba54_47c2_11ec_866a_0242ac1c0002row11_col3{\n",
              "            background-color:  #92b4fe;\n",
              "            color:  #000000;\n",
              "        }#T_bdf9ba54_47c2_11ec_866a_0242ac1c0002row0_col12{\n",
              "            background-color:  #6f92f3;\n",
              "            color:  #000000;\n",
              "        }#T_bdf9ba54_47c2_11ec_866a_0242ac1c0002row0_col13,#T_bdf9ba54_47c2_11ec_866a_0242ac1c0002row1_col9,#T_bdf9ba54_47c2_11ec_866a_0242ac1c0002row1_col15{\n",
              "            background-color:  #b9d0f9;\n",
              "            color:  #000000;\n",
              "        }#T_bdf9ba54_47c2_11ec_866a_0242ac1c0002row0_col14{\n",
              "            background-color:  #cbd8ee;\n",
              "            color:  #000000;\n",
              "        }#T_bdf9ba54_47c2_11ec_866a_0242ac1c0002row0_col15{\n",
              "            background-color:  #d1dae9;\n",
              "            color:  #000000;\n",
              "        }#T_bdf9ba54_47c2_11ec_866a_0242ac1c0002row1_col0{\n",
              "            background-color:  #cedaeb;\n",
              "            color:  #000000;\n",
              "        }#T_bdf9ba54_47c2_11ec_866a_0242ac1c0002row1_col2,#T_bdf9ba54_47c2_11ec_866a_0242ac1c0002row3_col2,#T_bdf9ba54_47c2_11ec_866a_0242ac1c0002row5_col9,#T_bdf9ba54_47c2_11ec_866a_0242ac1c0002row5_col10,#T_bdf9ba54_47c2_11ec_866a_0242ac1c0002row12_col2{\n",
              "            background-color:  #4f69d9;\n",
              "            color:  #000000;\n",
              "        }#T_bdf9ba54_47c2_11ec_866a_0242ac1c0002row1_col3{\n",
              "            background-color:  #e36c55;\n",
              "            color:  #000000;\n",
              "        }#T_bdf9ba54_47c2_11ec_866a_0242ac1c0002row1_col5,#T_bdf9ba54_47c2_11ec_866a_0242ac1c0002row11_col5{\n",
              "            background-color:  #799cf8;\n",
              "            color:  #000000;\n",
              "        }#T_bdf9ba54_47c2_11ec_866a_0242ac1c0002row1_col6,#T_bdf9ba54_47c2_11ec_866a_0242ac1c0002row6_col9,#T_bdf9ba54_47c2_11ec_866a_0242ac1c0002row9_col6{\n",
              "            background-color:  #5673e0;\n",
              "            color:  #000000;\n",
              "        }#T_bdf9ba54_47c2_11ec_866a_0242ac1c0002row1_col7{\n",
              "            background-color:  #89acfd;\n",
              "            color:  #000000;\n",
              "        }#T_bdf9ba54_47c2_11ec_866a_0242ac1c0002row1_col10{\n",
              "            background-color:  #bbd1f8;\n",
              "            color:  #000000;\n",
              "        }#T_bdf9ba54_47c2_11ec_866a_0242ac1c0002row1_col11{\n",
              "            background-color:  #b6cefa;\n",
              "            color:  #000000;\n",
              "        }#T_bdf9ba54_47c2_11ec_866a_0242ac1c0002row1_col12{\n",
              "            background-color:  #5b7ae5;\n",
              "            color:  #000000;\n",
              "        }#T_bdf9ba54_47c2_11ec_866a_0242ac1c0002row1_col13{\n",
              "            background-color:  #aec9fc;\n",
              "            color:  #000000;\n",
              "        }#T_bdf9ba54_47c2_11ec_866a_0242ac1c0002row1_col14{\n",
              "            background-color:  #b1cbfc;\n",
              "            color:  #000000;\n",
              "        }#T_bdf9ba54_47c2_11ec_866a_0242ac1c0002row2_col3,#T_bdf9ba54_47c2_11ec_866a_0242ac1c0002row14_col6{\n",
              "            background-color:  #5d7ce6;\n",
              "            color:  #000000;\n",
              "        }#T_bdf9ba54_47c2_11ec_866a_0242ac1c0002row2_col5,#T_bdf9ba54_47c2_11ec_866a_0242ac1c0002row9_col11,#T_bdf9ba54_47c2_11ec_866a_0242ac1c0002row9_col12,#T_bdf9ba54_47c2_11ec_866a_0242ac1c0002row12_col5{\n",
              "            background-color:  #7da0f9;\n",
              "            color:  #000000;\n",
              "        }#T_bdf9ba54_47c2_11ec_866a_0242ac1c0002row2_col6,#T_bdf9ba54_47c2_11ec_866a_0242ac1c0002row4_col6,#T_bdf9ba54_47c2_11ec_866a_0242ac1c0002row6_col10{\n",
              "            background-color:  #5572df;\n",
              "            color:  #000000;\n",
              "        }#T_bdf9ba54_47c2_11ec_866a_0242ac1c0002row2_col8,#T_bdf9ba54_47c2_11ec_866a_0242ac1c0002row4_col3,#T_bdf9ba54_47c2_11ec_866a_0242ac1c0002row4_col8,#T_bdf9ba54_47c2_11ec_866a_0242ac1c0002row7_col3,#T_bdf9ba54_47c2_11ec_866a_0242ac1c0002row9_col2,#T_bdf9ba54_47c2_11ec_866a_0242ac1c0002row10_col2,#T_bdf9ba54_47c2_11ec_866a_0242ac1c0002row15_col6{\n",
              "            background-color:  #5e7de7;\n",
              "            color:  #000000;\n",
              "        }#T_bdf9ba54_47c2_11ec_866a_0242ac1c0002row2_col9,#T_bdf9ba54_47c2_11ec_866a_0242ac1c0002row2_col10{\n",
              "            background-color:  #6384eb;\n",
              "            color:  #000000;\n",
              "        }#T_bdf9ba54_47c2_11ec_866a_0242ac1c0002row2_col11,#T_bdf9ba54_47c2_11ec_866a_0242ac1c0002row9_col0,#T_bdf9ba54_47c2_11ec_866a_0242ac1c0002row10_col0{\n",
              "            background-color:  #7a9df8;\n",
              "            color:  #000000;\n",
              "        }#T_bdf9ba54_47c2_11ec_866a_0242ac1c0002row2_col13{\n",
              "            background-color:  #b5cdfa;\n",
              "            color:  #000000;\n",
              "        }#T_bdf9ba54_47c2_11ec_866a_0242ac1c0002row2_col14{\n",
              "            background-color:  #c5d6f2;\n",
              "            color:  #000000;\n",
              "        }#T_bdf9ba54_47c2_11ec_866a_0242ac1c0002row2_col15{\n",
              "            background-color:  #cad8ef;\n",
              "            color:  #000000;\n",
              "        }#T_bdf9ba54_47c2_11ec_866a_0242ac1c0002row3_col0,#T_bdf9ba54_47c2_11ec_866a_0242ac1c0002row15_col4{\n",
              "            background-color:  #e3d9d3;\n",
              "            color:  #000000;\n",
              "        }#T_bdf9ba54_47c2_11ec_866a_0242ac1c0002row3_col1{\n",
              "            background-color:  #e36b54;\n",
              "            color:  #000000;\n",
              "        }#T_bdf9ba54_47c2_11ec_866a_0242ac1c0002row3_col6,#T_bdf9ba54_47c2_11ec_866a_0242ac1c0002row12_col6{\n",
              "            background-color:  #5a78e4;\n",
              "            color:  #000000;\n",
              "        }#T_bdf9ba54_47c2_11ec_866a_0242ac1c0002row3_col8{\n",
              "            background-color:  #6687ed;\n",
              "            color:  #000000;\n",
              "        }#T_bdf9ba54_47c2_11ec_866a_0242ac1c0002row3_col9,#T_bdf9ba54_47c2_11ec_866a_0242ac1c0002row9_col7{\n",
              "            background-color:  #96b7ff;\n",
              "            color:  #000000;\n",
              "        }#T_bdf9ba54_47c2_11ec_866a_0242ac1c0002row3_col10,#T_bdf9ba54_47c2_11ec_866a_0242ac1c0002row6_col13,#T_bdf9ba54_47c2_11ec_866a_0242ac1c0002row14_col1,#T_bdf9ba54_47c2_11ec_866a_0242ac1c0002row15_col1{\n",
              "            background-color:  #98b9ff;\n",
              "            color:  #000000;\n",
              "        }#T_bdf9ba54_47c2_11ec_866a_0242ac1c0002row3_col11{\n",
              "            background-color:  #bad0f8;\n",
              "            color:  #000000;\n",
              "        }#T_bdf9ba54_47c2_11ec_866a_0242ac1c0002row3_col13,#T_bdf9ba54_47c2_11ec_866a_0242ac1c0002row15_col2{\n",
              "            background-color:  #a1c0ff;\n",
              "            color:  #000000;\n",
              "        }#T_bdf9ba54_47c2_11ec_866a_0242ac1c0002row3_col14,#T_bdf9ba54_47c2_11ec_866a_0242ac1c0002row14_col2{\n",
              "            background-color:  #a2c1ff;\n",
              "            color:  #000000;\n",
              "        }#T_bdf9ba54_47c2_11ec_866a_0242ac1c0002row3_col15,#T_bdf9ba54_47c2_11ec_866a_0242ac1c0002row14_col7{\n",
              "            background-color:  #aac7fd;\n",
              "            color:  #000000;\n",
              "        }#T_bdf9ba54_47c2_11ec_866a_0242ac1c0002row4_col0,#T_bdf9ba54_47c2_11ec_866a_0242ac1c0002row7_col0{\n",
              "            background-color:  #4e68d8;\n",
              "            color:  #000000;\n",
              "        }#T_bdf9ba54_47c2_11ec_866a_0242ac1c0002row4_col1,#T_bdf9ba54_47c2_11ec_866a_0242ac1c0002row5_col1,#T_bdf9ba54_47c2_11ec_866a_0242ac1c0002row8_col3,#T_bdf9ba54_47c2_11ec_866a_0242ac1c0002row13_col6{\n",
              "            background-color:  #6180e9;\n",
              "            color:  #000000;\n",
              "        }#T_bdf9ba54_47c2_11ec_866a_0242ac1c0002row4_col2,#T_bdf9ba54_47c2_11ec_866a_0242ac1c0002row6_col0,#T_bdf9ba54_47c2_11ec_866a_0242ac1c0002row6_col2,#T_bdf9ba54_47c2_11ec_866a_0242ac1c0002row12_col9{\n",
              "            background-color:  #506bda;\n",
              "            color:  #000000;\n",
              "        }#T_bdf9ba54_47c2_11ec_866a_0242ac1c0002row4_col5,#T_bdf9ba54_47c2_11ec_866a_0242ac1c0002row8_col4{\n",
              "            background-color:  #7b9ff9;\n",
              "            color:  #000000;\n",
              "        }#T_bdf9ba54_47c2_11ec_866a_0242ac1c0002row4_col7,#T_bdf9ba54_47c2_11ec_866a_0242ac1c0002row6_col12,#T_bdf9ba54_47c2_11ec_866a_0242ac1c0002row6_col14{\n",
              "            background-color:  #86a9fc;\n",
              "            color:  #000000;\n",
              "        }#T_bdf9ba54_47c2_11ec_866a_0242ac1c0002row4_col11,#T_bdf9ba54_47c2_11ec_866a_0242ac1c0002row14_col11{\n",
              "            background-color:  #4a63d3;\n",
              "            color:  #f1f1f1;\n",
              "        }#T_bdf9ba54_47c2_11ec_866a_0242ac1c0002row4_col12,#T_bdf9ba54_47c2_11ec_866a_0242ac1c0002row14_col0,#T_bdf9ba54_47c2_11ec_866a_0242ac1c0002row15_col0{\n",
              "            background-color:  #a9c6fd;\n",
              "            color:  #000000;\n",
              "        }#T_bdf9ba54_47c2_11ec_866a_0242ac1c0002row4_col14,#T_bdf9ba54_47c2_11ec_866a_0242ac1c0002row13_col9,#T_bdf9ba54_47c2_11ec_866a_0242ac1c0002row14_col4{\n",
              "            background-color:  #dfdbd9;\n",
              "            color:  #000000;\n",
              "        }#T_bdf9ba54_47c2_11ec_866a_0242ac1c0002row4_col15{\n",
              "            background-color:  #e7d7ce;\n",
              "            color:  #000000;\n",
              "        }#T_bdf9ba54_47c2_11ec_866a_0242ac1c0002row5_col0,#T_bdf9ba54_47c2_11ec_866a_0242ac1c0002row5_col2,#T_bdf9ba54_47c2_11ec_866a_0242ac1c0002row10_col6{\n",
              "            background-color:  #5470de;\n",
              "            color:  #000000;\n",
              "        }#T_bdf9ba54_47c2_11ec_866a_0242ac1c0002row5_col3,#T_bdf9ba54_47c2_11ec_866a_0242ac1c0002row6_col8,#T_bdf9ba54_47c2_11ec_866a_0242ac1c0002row8_col15{\n",
              "            background-color:  #6485ec;\n",
              "            color:  #000000;\n",
              "        }#T_bdf9ba54_47c2_11ec_866a_0242ac1c0002row5_col6,#T_bdf9ba54_47c2_11ec_866a_0242ac1c0002row7_col5,#T_bdf9ba54_47c2_11ec_866a_0242ac1c0002row8_col9,#T_bdf9ba54_47c2_11ec_866a_0242ac1c0002row8_col10,#T_bdf9ba54_47c2_11ec_866a_0242ac1c0002row11_col2,#T_bdf9ba54_47c2_11ec_866a_0242ac1c0002row11_col4,#T_bdf9ba54_47c2_11ec_866a_0242ac1c0002row11_col12,#T_bdf9ba54_47c2_11ec_866a_0242ac1c0002row11_col13,#T_bdf9ba54_47c2_11ec_866a_0242ac1c0002row11_col14,#T_bdf9ba54_47c2_11ec_866a_0242ac1c0002row11_col15,#T_bdf9ba54_47c2_11ec_866a_0242ac1c0002row12_col0,#T_bdf9ba54_47c2_11ec_866a_0242ac1c0002row12_col1,#T_bdf9ba54_47c2_11ec_866a_0242ac1c0002row12_col3,#T_bdf9ba54_47c2_11ec_866a_0242ac1c0002row13_col7,#T_bdf9ba54_47c2_11ec_866a_0242ac1c0002row13_col8,#T_bdf9ba54_47c2_11ec_866a_0242ac1c0002row13_col11{\n",
              "            background-color:  #3b4cc0;\n",
              "            color:  #f1f1f1;\n",
              "        }#T_bdf9ba54_47c2_11ec_866a_0242ac1c0002row5_col7{\n",
              "            background-color:  #455cce;\n",
              "            color:  #f1f1f1;\n",
              "        }#T_bdf9ba54_47c2_11ec_866a_0242ac1c0002row5_col11{\n",
              "            background-color:  #8caffe;\n",
              "            color:  #000000;\n",
              "        }#T_bdf9ba54_47c2_11ec_866a_0242ac1c0002row5_col13,#T_bdf9ba54_47c2_11ec_866a_0242ac1c0002row12_col14{\n",
              "            background-color:  #97b8ff;\n",
              "            color:  #000000;\n",
              "        }#T_bdf9ba54_47c2_11ec_866a_0242ac1c0002row5_col14,#T_bdf9ba54_47c2_11ec_866a_0242ac1c0002row10_col5,#T_bdf9ba54_47c2_11ec_866a_0242ac1c0002row10_col12,#T_bdf9ba54_47c2_11ec_866a_0242ac1c0002row13_col3,#T_bdf9ba54_47c2_11ec_866a_0242ac1c0002row15_col5{\n",
              "            background-color:  #7396f5;\n",
              "            color:  #000000;\n",
              "        }#T_bdf9ba54_47c2_11ec_866a_0242ac1c0002row6_col1,#T_bdf9ba54_47c2_11ec_866a_0242ac1c0002row6_col3,#T_bdf9ba54_47c2_11ec_866a_0242ac1c0002row7_col6{\n",
              "            background-color:  #6282ea;\n",
              "            color:  #000000;\n",
              "        }#T_bdf9ba54_47c2_11ec_866a_0242ac1c0002row6_col7,#T_bdf9ba54_47c2_11ec_866a_0242ac1c0002row11_col1{\n",
              "            background-color:  #90b2fe;\n",
              "            color:  #000000;\n",
              "        }#T_bdf9ba54_47c2_11ec_866a_0242ac1c0002row7_col1,#T_bdf9ba54_47c2_11ec_866a_0242ac1c0002row7_col9,#T_bdf9ba54_47c2_11ec_866a_0242ac1c0002row8_col13{\n",
              "            background-color:  #6788ee;\n",
              "            color:  #000000;\n",
              "        }#T_bdf9ba54_47c2_11ec_866a_0242ac1c0002row7_col2{\n",
              "            background-color:  #516ddb;\n",
              "            color:  #000000;\n",
              "        }#T_bdf9ba54_47c2_11ec_866a_0242ac1c0002row7_col8{\n",
              "            background-color:  #7093f3;\n",
              "            color:  #000000;\n",
              "        }#T_bdf9ba54_47c2_11ec_866a_0242ac1c0002row7_col10{\n",
              "            background-color:  #688aef;\n",
              "            color:  #000000;\n",
              "        }#T_bdf9ba54_47c2_11ec_866a_0242ac1c0002row7_col11,#T_bdf9ba54_47c2_11ec_866a_0242ac1c0002row7_col15,#T_bdf9ba54_47c2_11ec_866a_0242ac1c0002row8_col7{\n",
              "            background-color:  #93b5fe;\n",
              "            color:  #000000;\n",
              "        }#T_bdf9ba54_47c2_11ec_866a_0242ac1c0002row7_col13{\n",
              "            background-color:  #445acc;\n",
              "            color:  #f1f1f1;\n",
              "        }#T_bdf9ba54_47c2_11ec_866a_0242ac1c0002row7_col14,#T_bdf9ba54_47c2_11ec_866a_0242ac1c0002row10_col4,#T_bdf9ba54_47c2_11ec_866a_0242ac1c0002row12_col4{\n",
              "            background-color:  #a6c4fe;\n",
              "            color:  #000000;\n",
              "        }#T_bdf9ba54_47c2_11ec_866a_0242ac1c0002row8_col0{\n",
              "            background-color:  #4b64d5;\n",
              "            color:  #f1f1f1;\n",
              "        }#T_bdf9ba54_47c2_11ec_866a_0242ac1c0002row8_col2,#T_bdf9ba54_47c2_11ec_866a_0242ac1c0002row11_col6{\n",
              "            background-color:  #4c66d6;\n",
              "            color:  #000000;\n",
              "        }#T_bdf9ba54_47c2_11ec_866a_0242ac1c0002row8_col5{\n",
              "            background-color:  #779af7;\n",
              "            color:  #000000;\n",
              "        }#T_bdf9ba54_47c2_11ec_866a_0242ac1c0002row8_col11{\n",
              "            background-color:  #edd2c3;\n",
              "            color:  #000000;\n",
              "        }#T_bdf9ba54_47c2_11ec_866a_0242ac1c0002row8_col12,#T_bdf9ba54_47c2_11ec_866a_0242ac1c0002row11_col7{\n",
              "            background-color:  #8badfd;\n",
              "            color:  #000000;\n",
              "        }#T_bdf9ba54_47c2_11ec_866a_0242ac1c0002row9_col1{\n",
              "            background-color:  #c0d4f5;\n",
              "            color:  #000000;\n",
              "        }#T_bdf9ba54_47c2_11ec_866a_0242ac1c0002row9_col3,#T_bdf9ba54_47c2_11ec_866a_0242ac1c0002row15_col12{\n",
              "            background-color:  #9ebeff;\n",
              "            color:  #000000;\n",
              "        }#T_bdf9ba54_47c2_11ec_866a_0242ac1c0002row9_col4,#T_bdf9ba54_47c2_11ec_866a_0242ac1c0002row12_col13{\n",
              "            background-color:  #a7c5fe;\n",
              "            color:  #000000;\n",
              "        }#T_bdf9ba54_47c2_11ec_866a_0242ac1c0002row9_col5{\n",
              "            background-color:  #7597f6;\n",
              "            color:  #000000;\n",
              "        }#T_bdf9ba54_47c2_11ec_866a_0242ac1c0002row9_col8{\n",
              "            background-color:  #485fd1;\n",
              "            color:  #f1f1f1;\n",
              "        }#T_bdf9ba54_47c2_11ec_866a_0242ac1c0002row9_col10,#T_bdf9ba54_47c2_11ec_866a_0242ac1c0002row10_col9{\n",
              "            background-color:  #b70d28;\n",
              "            color:  #f1f1f1;\n",
              "        }#T_bdf9ba54_47c2_11ec_866a_0242ac1c0002row9_col13{\n",
              "            background-color:  #f2cbb7;\n",
              "            color:  #000000;\n",
              "        }#T_bdf9ba54_47c2_11ec_866a_0242ac1c0002row9_col14{\n",
              "            background-color:  #d7dce3;\n",
              "            color:  #000000;\n",
              "        }#T_bdf9ba54_47c2_11ec_866a_0242ac1c0002row10_col1{\n",
              "            background-color:  #c3d5f4;\n",
              "            color:  #000000;\n",
              "        }#T_bdf9ba54_47c2_11ec_866a_0242ac1c0002row10_col3{\n",
              "            background-color:  #9fbfff;\n",
              "            color:  #000000;\n",
              "        }#T_bdf9ba54_47c2_11ec_866a_0242ac1c0002row10_col7{\n",
              "            background-color:  #94b6ff;\n",
              "            color:  #000000;\n",
              "        }#T_bdf9ba54_47c2_11ec_866a_0242ac1c0002row10_col8,#T_bdf9ba54_47c2_11ec_866a_0242ac1c0002row12_col10,#T_bdf9ba54_47c2_11ec_866a_0242ac1c0002row12_col11{\n",
              "            background-color:  #465ecf;\n",
              "            color:  #f1f1f1;\n",
              "        }#T_bdf9ba54_47c2_11ec_866a_0242ac1c0002row10_col13{\n",
              "            background-color:  #f1ccb8;\n",
              "            color:  #000000;\n",
              "        }#T_bdf9ba54_47c2_11ec_866a_0242ac1c0002row10_col14{\n",
              "            background-color:  #d6dce4;\n",
              "            color:  #000000;\n",
              "        }#T_bdf9ba54_47c2_11ec_866a_0242ac1c0002row11_col0{\n",
              "            background-color:  #536edd;\n",
              "            color:  #000000;\n",
              "        }#T_bdf9ba54_47c2_11ec_866a_0242ac1c0002row11_col8{\n",
              "            background-color:  #dbdcde;\n",
              "            color:  #000000;\n",
              "        }#T_bdf9ba54_47c2_11ec_866a_0242ac1c0002row11_col9,#T_bdf9ba54_47c2_11ec_866a_0242ac1c0002row14_col8{\n",
              "            background-color:  #4358cb;\n",
              "            color:  #f1f1f1;\n",
              "        }#T_bdf9ba54_47c2_11ec_866a_0242ac1c0002row11_col10{\n",
              "            background-color:  #4961d2;\n",
              "            color:  #f1f1f1;\n",
              "        }#T_bdf9ba54_47c2_11ec_866a_0242ac1c0002row12_col8{\n",
              "            background-color:  #6b8df0;\n",
              "            color:  #000000;\n",
              "        }#T_bdf9ba54_47c2_11ec_866a_0242ac1c0002row12_col15{\n",
              "            background-color:  #a3c2fe;\n",
              "            color:  #000000;\n",
              "        }#T_bdf9ba54_47c2_11ec_866a_0242ac1c0002row13_col1{\n",
              "            background-color:  #88abfd;\n",
              "            color:  #000000;\n",
              "        }#T_bdf9ba54_47c2_11ec_866a_0242ac1c0002row13_col2{\n",
              "            background-color:  #7ea1fa;\n",
              "            color:  #000000;\n",
              "        }#T_bdf9ba54_47c2_11ec_866a_0242ac1c0002row13_col4{\n",
              "            background-color:  #cfdaea;\n",
              "            color:  #000000;\n",
              "        }#T_bdf9ba54_47c2_11ec_866a_0242ac1c0002row13_col10{\n",
              "            background-color:  #dedcdb;\n",
              "            color:  #000000;\n",
              "        }#T_bdf9ba54_47c2_11ec_866a_0242ac1c0002row13_col12{\n",
              "            background-color:  #9dbdff;\n",
              "            color:  #000000;\n",
              "        }#T_bdf9ba54_47c2_11ec_866a_0242ac1c0002row13_col14{\n",
              "            background-color:  #f3c8b2;\n",
              "            color:  #000000;\n",
              "        }#T_bdf9ba54_47c2_11ec_866a_0242ac1c0002row13_col15{\n",
              "            background-color:  #f29274;\n",
              "            color:  #000000;\n",
              "        }#T_bdf9ba54_47c2_11ec_866a_0242ac1c0002row14_col5{\n",
              "            background-color:  #6e90f2;\n",
              "            color:  #000000;\n",
              "        }#T_bdf9ba54_47c2_11ec_866a_0242ac1c0002row14_col9,#T_bdf9ba54_47c2_11ec_866a_0242ac1c0002row14_col10{\n",
              "            background-color:  #bfd3f6;\n",
              "            color:  #000000;\n",
              "        }#T_bdf9ba54_47c2_11ec_866a_0242ac1c0002row14_col12{\n",
              "            background-color:  #9abbff;\n",
              "            color:  #000000;\n",
              "        }#T_bdf9ba54_47c2_11ec_866a_0242ac1c0002row14_col13{\n",
              "            background-color:  #f5c1a9;\n",
              "            color:  #000000;\n",
              "        }#T_bdf9ba54_47c2_11ec_866a_0242ac1c0002row14_col15,#T_bdf9ba54_47c2_11ec_866a_0242ac1c0002row15_col14{\n",
              "            background-color:  #bb1b2c;\n",
              "            color:  #f1f1f1;\n",
              "        }#T_bdf9ba54_47c2_11ec_866a_0242ac1c0002row15_col3{\n",
              "            background-color:  #84a7fc;\n",
              "            color:  #000000;\n",
              "        }#T_bdf9ba54_47c2_11ec_866a_0242ac1c0002row15_col7{\n",
              "            background-color:  #8fb1fe;\n",
              "            color:  #000000;\n",
              "        }#T_bdf9ba54_47c2_11ec_866a_0242ac1c0002row15_col8{\n",
              "            background-color:  #3d50c3;\n",
              "            color:  #f1f1f1;\n",
              "        }#T_bdf9ba54_47c2_11ec_866a_0242ac1c0002row15_col9,#T_bdf9ba54_47c2_11ec_866a_0242ac1c0002row15_col10{\n",
              "            background-color:  #d2dbe8;\n",
              "            color:  #000000;\n",
              "        }#T_bdf9ba54_47c2_11ec_866a_0242ac1c0002row15_col11{\n",
              "            background-color:  #3f53c6;\n",
              "            color:  #f1f1f1;\n",
              "        }#T_bdf9ba54_47c2_11ec_866a_0242ac1c0002row15_col13{\n",
              "            background-color:  #f29072;\n",
              "            color:  #000000;\n",
              "        }</style><table id=\"T_bdf9ba54_47c2_11ec_866a_0242ac1c0002\" class=\"dataframe\"><thead>    <tr>        <th class=\"blank level0\" ></th>        <th class=\"col_heading level0 col0\" >instant</th>        <th class=\"col_heading level0 col1\" >season</th>        <th class=\"col_heading level0 col2\" >yr</th>        <th class=\"col_heading level0 col3\" >mnth</th>        <th class=\"col_heading level0 col4\" >hr</th>        <th class=\"col_heading level0 col5\" >holiday</th>        <th class=\"col_heading level0 col6\" >weekday</th>        <th class=\"col_heading level0 col7\" >workingday</th>        <th class=\"col_heading level0 col8\" >weathersit</th>        <th class=\"col_heading level0 col9\" >temp</th>        <th class=\"col_heading level0 col10\" >atemp</th>        <th class=\"col_heading level0 col11\" >hum</th>        <th class=\"col_heading level0 col12\" >windspeed</th>        <th class=\"col_heading level0 col13\" >casual</th>        <th class=\"col_heading level0 col14\" >registered</th>        <th class=\"col_heading level0 col15\" >cnt</th>    </tr></thead><tbody>\n",
              "                <tr>\n",
              "                        <th id=\"T_bdf9ba54_47c2_11ec_866a_0242ac1c0002level0_row0\" class=\"row_heading level0 row0\" >instant</th>\n",
              "                        <td id=\"T_bdf9ba54_47c2_11ec_866a_0242ac1c0002row0_col0\" class=\"data row0 col0\" >1.000000</td>\n",
              "                        <td id=\"T_bdf9ba54_47c2_11ec_866a_0242ac1c0002row0_col1\" class=\"data row0 col1\" >0.404046</td>\n",
              "                        <td id=\"T_bdf9ba54_47c2_11ec_866a_0242ac1c0002row0_col2\" class=\"data row0 col2\" >0.866014</td>\n",
              "                        <td id=\"T_bdf9ba54_47c2_11ec_866a_0242ac1c0002row0_col3\" class=\"data row0 col3\" >0.489164</td>\n",
              "                        <td id=\"T_bdf9ba54_47c2_11ec_866a_0242ac1c0002row0_col4\" class=\"data row0 col4\" >-0.004775</td>\n",
              "                        <td id=\"T_bdf9ba54_47c2_11ec_866a_0242ac1c0002row0_col5\" class=\"data row0 col5\" >0.014723</td>\n",
              "                        <td id=\"T_bdf9ba54_47c2_11ec_866a_0242ac1c0002row0_col6\" class=\"data row0 col6\" >0.001357</td>\n",
              "                        <td id=\"T_bdf9ba54_47c2_11ec_866a_0242ac1c0002row0_col7\" class=\"data row0 col7\" >-0.003416</td>\n",
              "                        <td id=\"T_bdf9ba54_47c2_11ec_866a_0242ac1c0002row0_col8\" class=\"data row0 col8\" >-0.014198</td>\n",
              "                        <td id=\"T_bdf9ba54_47c2_11ec_866a_0242ac1c0002row0_col9\" class=\"data row0 col9\" >0.136178</td>\n",
              "                        <td id=\"T_bdf9ba54_47c2_11ec_866a_0242ac1c0002row0_col10\" class=\"data row0 col10\" >0.137615</td>\n",
              "                        <td id=\"T_bdf9ba54_47c2_11ec_866a_0242ac1c0002row0_col11\" class=\"data row0 col11\" >0.009577</td>\n",
              "                        <td id=\"T_bdf9ba54_47c2_11ec_866a_0242ac1c0002row0_col12\" class=\"data row0 col12\" >-0.074505</td>\n",
              "                        <td id=\"T_bdf9ba54_47c2_11ec_866a_0242ac1c0002row0_col13\" class=\"data row0 col13\" >0.158295</td>\n",
              "                        <td id=\"T_bdf9ba54_47c2_11ec_866a_0242ac1c0002row0_col14\" class=\"data row0 col14\" >0.282046</td>\n",
              "                        <td id=\"T_bdf9ba54_47c2_11ec_866a_0242ac1c0002row0_col15\" class=\"data row0 col15\" >0.278379</td>\n",
              "            </tr>\n",
              "            <tr>\n",
              "                        <th id=\"T_bdf9ba54_47c2_11ec_866a_0242ac1c0002level0_row1\" class=\"row_heading level0 row1\" >season</th>\n",
              "                        <td id=\"T_bdf9ba54_47c2_11ec_866a_0242ac1c0002row1_col0\" class=\"data row1 col0\" >0.404046</td>\n",
              "                        <td id=\"T_bdf9ba54_47c2_11ec_866a_0242ac1c0002row1_col1\" class=\"data row1 col1\" >1.000000</td>\n",
              "                        <td id=\"T_bdf9ba54_47c2_11ec_866a_0242ac1c0002row1_col2\" class=\"data row1 col2\" >-0.010742</td>\n",
              "                        <td id=\"T_bdf9ba54_47c2_11ec_866a_0242ac1c0002row1_col3\" class=\"data row1 col3\" >0.830386</td>\n",
              "                        <td id=\"T_bdf9ba54_47c2_11ec_866a_0242ac1c0002row1_col4\" class=\"data row1 col4\" >-0.006117</td>\n",
              "                        <td id=\"T_bdf9ba54_47c2_11ec_866a_0242ac1c0002row1_col5\" class=\"data row1 col5\" >-0.009585</td>\n",
              "                        <td id=\"T_bdf9ba54_47c2_11ec_866a_0242ac1c0002row1_col6\" class=\"data row1 col6\" >-0.002335</td>\n",
              "                        <td id=\"T_bdf9ba54_47c2_11ec_866a_0242ac1c0002row1_col7\" class=\"data row1 col7\" >0.013743</td>\n",
              "                        <td id=\"T_bdf9ba54_47c2_11ec_866a_0242ac1c0002row1_col8\" class=\"data row1 col8\" >-0.014524</td>\n",
              "                        <td id=\"T_bdf9ba54_47c2_11ec_866a_0242ac1c0002row1_col9\" class=\"data row1 col9\" >0.312025</td>\n",
              "                        <td id=\"T_bdf9ba54_47c2_11ec_866a_0242ac1c0002row1_col10\" class=\"data row1 col10\" >0.319380</td>\n",
              "                        <td id=\"T_bdf9ba54_47c2_11ec_866a_0242ac1c0002row1_col11\" class=\"data row1 col11\" >0.150625</td>\n",
              "                        <td id=\"T_bdf9ba54_47c2_11ec_866a_0242ac1c0002row1_col12\" class=\"data row1 col12\" >-0.149773</td>\n",
              "                        <td id=\"T_bdf9ba54_47c2_11ec_866a_0242ac1c0002row1_col13\" class=\"data row1 col13\" >0.120206</td>\n",
              "                        <td id=\"T_bdf9ba54_47c2_11ec_866a_0242ac1c0002row1_col14\" class=\"data row1 col14\" >0.174226</td>\n",
              "                        <td id=\"T_bdf9ba54_47c2_11ec_866a_0242ac1c0002row1_col15\" class=\"data row1 col15\" >0.178056</td>\n",
              "            </tr>\n",
              "            <tr>\n",
              "                        <th id=\"T_bdf9ba54_47c2_11ec_866a_0242ac1c0002level0_row2\" class=\"row_heading level0 row2\" >yr</th>\n",
              "                        <td id=\"T_bdf9ba54_47c2_11ec_866a_0242ac1c0002row2_col0\" class=\"data row2 col0\" >0.866014</td>\n",
              "                        <td id=\"T_bdf9ba54_47c2_11ec_866a_0242ac1c0002row2_col1\" class=\"data row2 col1\" >-0.010742</td>\n",
              "                        <td id=\"T_bdf9ba54_47c2_11ec_866a_0242ac1c0002row2_col2\" class=\"data row2 col2\" >1.000000</td>\n",
              "                        <td id=\"T_bdf9ba54_47c2_11ec_866a_0242ac1c0002row2_col3\" class=\"data row2 col3\" >-0.010473</td>\n",
              "                        <td id=\"T_bdf9ba54_47c2_11ec_866a_0242ac1c0002row2_col4\" class=\"data row2 col4\" >-0.003867</td>\n",
              "                        <td id=\"T_bdf9ba54_47c2_11ec_866a_0242ac1c0002row2_col5\" class=\"data row2 col5\" >0.006692</td>\n",
              "                        <td id=\"T_bdf9ba54_47c2_11ec_866a_0242ac1c0002row2_col6\" class=\"data row2 col6\" >-0.004485</td>\n",
              "                        <td id=\"T_bdf9ba54_47c2_11ec_866a_0242ac1c0002row2_col7\" class=\"data row2 col7\" >-0.002196</td>\n",
              "                        <td id=\"T_bdf9ba54_47c2_11ec_866a_0242ac1c0002row2_col8\" class=\"data row2 col8\" >-0.019157</td>\n",
              "                        <td id=\"T_bdf9ba54_47c2_11ec_866a_0242ac1c0002row2_col9\" class=\"data row2 col9\" >0.040913</td>\n",
              "                        <td id=\"T_bdf9ba54_47c2_11ec_866a_0242ac1c0002row2_col10\" class=\"data row2 col10\" >0.039222</td>\n",
              "                        <td id=\"T_bdf9ba54_47c2_11ec_866a_0242ac1c0002row2_col11\" class=\"data row2 col11\" >-0.083546</td>\n",
              "                        <td id=\"T_bdf9ba54_47c2_11ec_866a_0242ac1c0002row2_col12\" class=\"data row2 col12\" >-0.008740</td>\n",
              "                        <td id=\"T_bdf9ba54_47c2_11ec_866a_0242ac1c0002row2_col13\" class=\"data row2 col13\" >0.142779</td>\n",
              "                        <td id=\"T_bdf9ba54_47c2_11ec_866a_0242ac1c0002row2_col14\" class=\"data row2 col14\" >0.253684</td>\n",
              "                        <td id=\"T_bdf9ba54_47c2_11ec_866a_0242ac1c0002row2_col15\" class=\"data row2 col15\" >0.250495</td>\n",
              "            </tr>\n",
              "            <tr>\n",
              "                        <th id=\"T_bdf9ba54_47c2_11ec_866a_0242ac1c0002level0_row3\" class=\"row_heading level0 row3\" >mnth</th>\n",
              "                        <td id=\"T_bdf9ba54_47c2_11ec_866a_0242ac1c0002row3_col0\" class=\"data row3 col0\" >0.489164</td>\n",
              "                        <td id=\"T_bdf9ba54_47c2_11ec_866a_0242ac1c0002row3_col1\" class=\"data row3 col1\" >0.830386</td>\n",
              "                        <td id=\"T_bdf9ba54_47c2_11ec_866a_0242ac1c0002row3_col2\" class=\"data row3 col2\" >-0.010473</td>\n",
              "                        <td id=\"T_bdf9ba54_47c2_11ec_866a_0242ac1c0002row3_col3\" class=\"data row3 col3\" >1.000000</td>\n",
              "                        <td id=\"T_bdf9ba54_47c2_11ec_866a_0242ac1c0002row3_col4\" class=\"data row3 col4\" >-0.005772</td>\n",
              "                        <td id=\"T_bdf9ba54_47c2_11ec_866a_0242ac1c0002row3_col5\" class=\"data row3 col5\" >0.018430</td>\n",
              "                        <td id=\"T_bdf9ba54_47c2_11ec_866a_0242ac1c0002row3_col6\" class=\"data row3 col6\" >0.010400</td>\n",
              "                        <td id=\"T_bdf9ba54_47c2_11ec_866a_0242ac1c0002row3_col7\" class=\"data row3 col7\" >-0.003477</td>\n",
              "                        <td id=\"T_bdf9ba54_47c2_11ec_866a_0242ac1c0002row3_col8\" class=\"data row3 col8\" >0.005400</td>\n",
              "                        <td id=\"T_bdf9ba54_47c2_11ec_866a_0242ac1c0002row3_col9\" class=\"data row3 col9\" >0.201691</td>\n",
              "                        <td id=\"T_bdf9ba54_47c2_11ec_866a_0242ac1c0002row3_col10\" class=\"data row3 col10\" >0.208096</td>\n",
              "                        <td id=\"T_bdf9ba54_47c2_11ec_866a_0242ac1c0002row3_col11\" class=\"data row3 col11\" >0.164411</td>\n",
              "                        <td id=\"T_bdf9ba54_47c2_11ec_866a_0242ac1c0002row3_col12\" class=\"data row3 col12\" >-0.135386</td>\n",
              "                        <td id=\"T_bdf9ba54_47c2_11ec_866a_0242ac1c0002row3_col13\" class=\"data row3 col13\" >0.068457</td>\n",
              "                        <td id=\"T_bdf9ba54_47c2_11ec_866a_0242ac1c0002row3_col14\" class=\"data row3 col14\" >0.122273</td>\n",
              "                        <td id=\"T_bdf9ba54_47c2_11ec_866a_0242ac1c0002row3_col15\" class=\"data row3 col15\" >0.120638</td>\n",
              "            </tr>\n",
              "            <tr>\n",
              "                        <th id=\"T_bdf9ba54_47c2_11ec_866a_0242ac1c0002level0_row4\" class=\"row_heading level0 row4\" >hr</th>\n",
              "                        <td id=\"T_bdf9ba54_47c2_11ec_866a_0242ac1c0002row4_col0\" class=\"data row4 col0\" >-0.004775</td>\n",
              "                        <td id=\"T_bdf9ba54_47c2_11ec_866a_0242ac1c0002row4_col1\" class=\"data row4 col1\" >-0.006117</td>\n",
              "                        <td id=\"T_bdf9ba54_47c2_11ec_866a_0242ac1c0002row4_col2\" class=\"data row4 col2\" >-0.003867</td>\n",
              "                        <td id=\"T_bdf9ba54_47c2_11ec_866a_0242ac1c0002row4_col3\" class=\"data row4 col3\" >-0.005772</td>\n",
              "                        <td id=\"T_bdf9ba54_47c2_11ec_866a_0242ac1c0002row4_col4\" class=\"data row4 col4\" >1.000000</td>\n",
              "                        <td id=\"T_bdf9ba54_47c2_11ec_866a_0242ac1c0002row4_col5\" class=\"data row4 col5\" >0.000479</td>\n",
              "                        <td id=\"T_bdf9ba54_47c2_11ec_866a_0242ac1c0002row4_col6\" class=\"data row4 col6\" >-0.003498</td>\n",
              "                        <td id=\"T_bdf9ba54_47c2_11ec_866a_0242ac1c0002row4_col7\" class=\"data row4 col7\" >0.002285</td>\n",
              "                        <td id=\"T_bdf9ba54_47c2_11ec_866a_0242ac1c0002row4_col8\" class=\"data row4 col8\" >-0.020203</td>\n",
              "                        <td id=\"T_bdf9ba54_47c2_11ec_866a_0242ac1c0002row4_col9\" class=\"data row4 col9\" >0.137603</td>\n",
              "                        <td id=\"T_bdf9ba54_47c2_11ec_866a_0242ac1c0002row4_col10\" class=\"data row4 col10\" >0.133750</td>\n",
              "                        <td id=\"T_bdf9ba54_47c2_11ec_866a_0242ac1c0002row4_col11\" class=\"data row4 col11\" >-0.276498</td>\n",
              "                        <td id=\"T_bdf9ba54_47c2_11ec_866a_0242ac1c0002row4_col12\" class=\"data row4 col12\" >0.137252</td>\n",
              "                        <td id=\"T_bdf9ba54_47c2_11ec_866a_0242ac1c0002row4_col13\" class=\"data row4 col13\" >0.301202</td>\n",
              "                        <td id=\"T_bdf9ba54_47c2_11ec_866a_0242ac1c0002row4_col14\" class=\"data row4 col14\" >0.374141</td>\n",
              "                        <td id=\"T_bdf9ba54_47c2_11ec_866a_0242ac1c0002row4_col15\" class=\"data row4 col15\" >0.394071</td>\n",
              "            </tr>\n",
              "            <tr>\n",
              "                        <th id=\"T_bdf9ba54_47c2_11ec_866a_0242ac1c0002level0_row5\" class=\"row_heading level0 row5\" >holiday</th>\n",
              "                        <td id=\"T_bdf9ba54_47c2_11ec_866a_0242ac1c0002row5_col0\" class=\"data row5 col0\" >0.014723</td>\n",
              "                        <td id=\"T_bdf9ba54_47c2_11ec_866a_0242ac1c0002row5_col1\" class=\"data row5 col1\" >-0.009585</td>\n",
              "                        <td id=\"T_bdf9ba54_47c2_11ec_866a_0242ac1c0002row5_col2\" class=\"data row5 col2\" >0.006692</td>\n",
              "                        <td id=\"T_bdf9ba54_47c2_11ec_866a_0242ac1c0002row5_col3\" class=\"data row5 col3\" >0.018430</td>\n",
              "                        <td id=\"T_bdf9ba54_47c2_11ec_866a_0242ac1c0002row5_col4\" class=\"data row5 col4\" >0.000479</td>\n",
              "                        <td id=\"T_bdf9ba54_47c2_11ec_866a_0242ac1c0002row5_col5\" class=\"data row5 col5\" >1.000000</td>\n",
              "                        <td id=\"T_bdf9ba54_47c2_11ec_866a_0242ac1c0002row5_col6\" class=\"data row5 col6\" >-0.102088</td>\n",
              "                        <td id=\"T_bdf9ba54_47c2_11ec_866a_0242ac1c0002row5_col7\" class=\"data row5 col7\" >-0.252471</td>\n",
              "                        <td id=\"T_bdf9ba54_47c2_11ec_866a_0242ac1c0002row5_col8\" class=\"data row5 col8\" >-0.017036</td>\n",
              "                        <td id=\"T_bdf9ba54_47c2_11ec_866a_0242ac1c0002row5_col9\" class=\"data row5 col9\" >-0.027340</td>\n",
              "                        <td id=\"T_bdf9ba54_47c2_11ec_866a_0242ac1c0002row5_col10\" class=\"data row5 col10\" >-0.030973</td>\n",
              "                        <td id=\"T_bdf9ba54_47c2_11ec_866a_0242ac1c0002row5_col11\" class=\"data row5 col11\" >-0.010588</td>\n",
              "                        <td id=\"T_bdf9ba54_47c2_11ec_866a_0242ac1c0002row5_col12\" class=\"data row5 col12\" >0.003988</td>\n",
              "                        <td id=\"T_bdf9ba54_47c2_11ec_866a_0242ac1c0002row5_col13\" class=\"data row5 col13\" >0.031564</td>\n",
              "                        <td id=\"T_bdf9ba54_47c2_11ec_866a_0242ac1c0002row5_col14\" class=\"data row5 col14\" >-0.047345</td>\n",
              "                        <td id=\"T_bdf9ba54_47c2_11ec_866a_0242ac1c0002row5_col15\" class=\"data row5 col15\" >-0.030927</td>\n",
              "            </tr>\n",
              "            <tr>\n",
              "                        <th id=\"T_bdf9ba54_47c2_11ec_866a_0242ac1c0002level0_row6\" class=\"row_heading level0 row6\" >weekday</th>\n",
              "                        <td id=\"T_bdf9ba54_47c2_11ec_866a_0242ac1c0002row6_col0\" class=\"data row6 col0\" >0.001357</td>\n",
              "                        <td id=\"T_bdf9ba54_47c2_11ec_866a_0242ac1c0002row6_col1\" class=\"data row6 col1\" >-0.002335</td>\n",
              "                        <td id=\"T_bdf9ba54_47c2_11ec_866a_0242ac1c0002row6_col2\" class=\"data row6 col2\" >-0.004485</td>\n",
              "                        <td id=\"T_bdf9ba54_47c2_11ec_866a_0242ac1c0002row6_col3\" class=\"data row6 col3\" >0.010400</td>\n",
              "                        <td id=\"T_bdf9ba54_47c2_11ec_866a_0242ac1c0002row6_col4\" class=\"data row6 col4\" >-0.003498</td>\n",
              "                        <td id=\"T_bdf9ba54_47c2_11ec_866a_0242ac1c0002row6_col5\" class=\"data row6 col5\" >-0.102088</td>\n",
              "                        <td id=\"T_bdf9ba54_47c2_11ec_866a_0242ac1c0002row6_col6\" class=\"data row6 col6\" >1.000000</td>\n",
              "                        <td id=\"T_bdf9ba54_47c2_11ec_866a_0242ac1c0002row6_col7\" class=\"data row6 col7\" >0.035955</td>\n",
              "                        <td id=\"T_bdf9ba54_47c2_11ec_866a_0242ac1c0002row6_col8\" class=\"data row6 col8\" >0.003311</td>\n",
              "                        <td id=\"T_bdf9ba54_47c2_11ec_866a_0242ac1c0002row6_col9\" class=\"data row6 col9\" >-0.001795</td>\n",
              "                        <td id=\"T_bdf9ba54_47c2_11ec_866a_0242ac1c0002row6_col10\" class=\"data row6 col10\" >-0.008821</td>\n",
              "                        <td id=\"T_bdf9ba54_47c2_11ec_866a_0242ac1c0002row6_col11\" class=\"data row6 col11\" >-0.037158</td>\n",
              "                        <td id=\"T_bdf9ba54_47c2_11ec_866a_0242ac1c0002row6_col12\" class=\"data row6 col12\" >0.011502</td>\n",
              "                        <td id=\"T_bdf9ba54_47c2_11ec_866a_0242ac1c0002row6_col13\" class=\"data row6 col13\" >0.032721</td>\n",
              "                        <td id=\"T_bdf9ba54_47c2_11ec_866a_0242ac1c0002row6_col14\" class=\"data row6 col14\" >0.021578</td>\n",
              "                        <td id=\"T_bdf9ba54_47c2_11ec_866a_0242ac1c0002row6_col15\" class=\"data row6 col15\" >0.026900</td>\n",
              "            </tr>\n",
              "            <tr>\n",
              "                        <th id=\"T_bdf9ba54_47c2_11ec_866a_0242ac1c0002level0_row7\" class=\"row_heading level0 row7\" >workingday</th>\n",
              "                        <td id=\"T_bdf9ba54_47c2_11ec_866a_0242ac1c0002row7_col0\" class=\"data row7 col0\" >-0.003416</td>\n",
              "                        <td id=\"T_bdf9ba54_47c2_11ec_866a_0242ac1c0002row7_col1\" class=\"data row7 col1\" >0.013743</td>\n",
              "                        <td id=\"T_bdf9ba54_47c2_11ec_866a_0242ac1c0002row7_col2\" class=\"data row7 col2\" >-0.002196</td>\n",
              "                        <td id=\"T_bdf9ba54_47c2_11ec_866a_0242ac1c0002row7_col3\" class=\"data row7 col3\" >-0.003477</td>\n",
              "                        <td id=\"T_bdf9ba54_47c2_11ec_866a_0242ac1c0002row7_col4\" class=\"data row7 col4\" >0.002285</td>\n",
              "                        <td id=\"T_bdf9ba54_47c2_11ec_866a_0242ac1c0002row7_col5\" class=\"data row7 col5\" >-0.252471</td>\n",
              "                        <td id=\"T_bdf9ba54_47c2_11ec_866a_0242ac1c0002row7_col6\" class=\"data row7 col6\" >0.035955</td>\n",
              "                        <td id=\"T_bdf9ba54_47c2_11ec_866a_0242ac1c0002row7_col7\" class=\"data row7 col7\" >1.000000</td>\n",
              "                        <td id=\"T_bdf9ba54_47c2_11ec_866a_0242ac1c0002row7_col8\" class=\"data row7 col8\" >0.044672</td>\n",
              "                        <td id=\"T_bdf9ba54_47c2_11ec_866a_0242ac1c0002row7_col9\" class=\"data row7 col9\" >0.055390</td>\n",
              "                        <td id=\"T_bdf9ba54_47c2_11ec_866a_0242ac1c0002row7_col10\" class=\"data row7 col10\" >0.054667</td>\n",
              "                        <td id=\"T_bdf9ba54_47c2_11ec_866a_0242ac1c0002row7_col11\" class=\"data row7 col11\" >0.015688</td>\n",
              "                        <td id=\"T_bdf9ba54_47c2_11ec_866a_0242ac1c0002row7_col12\" class=\"data row7 col12\" >-0.011830</td>\n",
              "                        <td id=\"T_bdf9ba54_47c2_11ec_866a_0242ac1c0002row7_col13\" class=\"data row7 col13\" >-0.300942</td>\n",
              "                        <td id=\"T_bdf9ba54_47c2_11ec_866a_0242ac1c0002row7_col14\" class=\"data row7 col14\" >0.134326</td>\n",
              "                        <td id=\"T_bdf9ba54_47c2_11ec_866a_0242ac1c0002row7_col15\" class=\"data row7 col15\" >0.030284</td>\n",
              "            </tr>\n",
              "            <tr>\n",
              "                        <th id=\"T_bdf9ba54_47c2_11ec_866a_0242ac1c0002level0_row8\" class=\"row_heading level0 row8\" >weathersit</th>\n",
              "                        <td id=\"T_bdf9ba54_47c2_11ec_866a_0242ac1c0002row8_col0\" class=\"data row8 col0\" >-0.014198</td>\n",
              "                        <td id=\"T_bdf9ba54_47c2_11ec_866a_0242ac1c0002row8_col1\" class=\"data row8 col1\" >-0.014524</td>\n",
              "                        <td id=\"T_bdf9ba54_47c2_11ec_866a_0242ac1c0002row8_col2\" class=\"data row8 col2\" >-0.019157</td>\n",
              "                        <td id=\"T_bdf9ba54_47c2_11ec_866a_0242ac1c0002row8_col3\" class=\"data row8 col3\" >0.005400</td>\n",
              "                        <td id=\"T_bdf9ba54_47c2_11ec_866a_0242ac1c0002row8_col4\" class=\"data row8 col4\" >-0.020203</td>\n",
              "                        <td id=\"T_bdf9ba54_47c2_11ec_866a_0242ac1c0002row8_col5\" class=\"data row8 col5\" >-0.017036</td>\n",
              "                        <td id=\"T_bdf9ba54_47c2_11ec_866a_0242ac1c0002row8_col6\" class=\"data row8 col6\" >0.003311</td>\n",
              "                        <td id=\"T_bdf9ba54_47c2_11ec_866a_0242ac1c0002row8_col7\" class=\"data row8 col7\" >0.044672</td>\n",
              "                        <td id=\"T_bdf9ba54_47c2_11ec_866a_0242ac1c0002row8_col8\" class=\"data row8 col8\" >1.000000</td>\n",
              "                        <td id=\"T_bdf9ba54_47c2_11ec_866a_0242ac1c0002row8_col9\" class=\"data row8 col9\" >-0.102640</td>\n",
              "                        <td id=\"T_bdf9ba54_47c2_11ec_866a_0242ac1c0002row8_col10\" class=\"data row8 col10\" >-0.105563</td>\n",
              "                        <td id=\"T_bdf9ba54_47c2_11ec_866a_0242ac1c0002row8_col11\" class=\"data row8 col11\" >0.418130</td>\n",
              "                        <td id=\"T_bdf9ba54_47c2_11ec_866a_0242ac1c0002row8_col12\" class=\"data row8 col12\" >0.026226</td>\n",
              "                        <td id=\"T_bdf9ba54_47c2_11ec_866a_0242ac1c0002row8_col13\" class=\"data row8 col13\" >-0.152628</td>\n",
              "                        <td id=\"T_bdf9ba54_47c2_11ec_866a_0242ac1c0002row8_col14\" class=\"data row8 col14\" >-0.120966</td>\n",
              "                        <td id=\"T_bdf9ba54_47c2_11ec_866a_0242ac1c0002row8_col15\" class=\"data row8 col15\" >-0.142426</td>\n",
              "            </tr>\n",
              "            <tr>\n",
              "                        <th id=\"T_bdf9ba54_47c2_11ec_866a_0242ac1c0002level0_row9\" class=\"row_heading level0 row9\" >temp</th>\n",
              "                        <td id=\"T_bdf9ba54_47c2_11ec_866a_0242ac1c0002row9_col0\" class=\"data row9 col0\" >0.136178</td>\n",
              "                        <td id=\"T_bdf9ba54_47c2_11ec_866a_0242ac1c0002row9_col1\" class=\"data row9 col1\" >0.312025</td>\n",
              "                        <td id=\"T_bdf9ba54_47c2_11ec_866a_0242ac1c0002row9_col2\" class=\"data row9 col2\" >0.040913</td>\n",
              "                        <td id=\"T_bdf9ba54_47c2_11ec_866a_0242ac1c0002row9_col3\" class=\"data row9 col3\" >0.201691</td>\n",
              "                        <td id=\"T_bdf9ba54_47c2_11ec_866a_0242ac1c0002row9_col4\" class=\"data row9 col4\" >0.137603</td>\n",
              "                        <td id=\"T_bdf9ba54_47c2_11ec_866a_0242ac1c0002row9_col5\" class=\"data row9 col5\" >-0.027340</td>\n",
              "                        <td id=\"T_bdf9ba54_47c2_11ec_866a_0242ac1c0002row9_col6\" class=\"data row9 col6\" >-0.001795</td>\n",
              "                        <td id=\"T_bdf9ba54_47c2_11ec_866a_0242ac1c0002row9_col7\" class=\"data row9 col7\" >0.055390</td>\n",
              "                        <td id=\"T_bdf9ba54_47c2_11ec_866a_0242ac1c0002row9_col8\" class=\"data row9 col8\" >-0.102640</td>\n",
              "                        <td id=\"T_bdf9ba54_47c2_11ec_866a_0242ac1c0002row9_col9\" class=\"data row9 col9\" >1.000000</td>\n",
              "                        <td id=\"T_bdf9ba54_47c2_11ec_866a_0242ac1c0002row9_col10\" class=\"data row9 col10\" >0.987672</td>\n",
              "                        <td id=\"T_bdf9ba54_47c2_11ec_866a_0242ac1c0002row9_col11\" class=\"data row9 col11\" >-0.069881</td>\n",
              "                        <td id=\"T_bdf9ba54_47c2_11ec_866a_0242ac1c0002row9_col12\" class=\"data row9 col12\" >-0.023125</td>\n",
              "                        <td id=\"T_bdf9ba54_47c2_11ec_866a_0242ac1c0002row9_col13\" class=\"data row9 col13\" >0.459616</td>\n",
              "                        <td id=\"T_bdf9ba54_47c2_11ec_866a_0242ac1c0002row9_col14\" class=\"data row9 col14\" >0.335361</td>\n",
              "                        <td id=\"T_bdf9ba54_47c2_11ec_866a_0242ac1c0002row9_col15\" class=\"data row9 col15\" >0.404772</td>\n",
              "            </tr>\n",
              "            <tr>\n",
              "                        <th id=\"T_bdf9ba54_47c2_11ec_866a_0242ac1c0002level0_row10\" class=\"row_heading level0 row10\" >atemp</th>\n",
              "                        <td id=\"T_bdf9ba54_47c2_11ec_866a_0242ac1c0002row10_col0\" class=\"data row10 col0\" >0.137615</td>\n",
              "                        <td id=\"T_bdf9ba54_47c2_11ec_866a_0242ac1c0002row10_col1\" class=\"data row10 col1\" >0.319380</td>\n",
              "                        <td id=\"T_bdf9ba54_47c2_11ec_866a_0242ac1c0002row10_col2\" class=\"data row10 col2\" >0.039222</td>\n",
              "                        <td id=\"T_bdf9ba54_47c2_11ec_866a_0242ac1c0002row10_col3\" class=\"data row10 col3\" >0.208096</td>\n",
              "                        <td id=\"T_bdf9ba54_47c2_11ec_866a_0242ac1c0002row10_col4\" class=\"data row10 col4\" >0.133750</td>\n",
              "                        <td id=\"T_bdf9ba54_47c2_11ec_866a_0242ac1c0002row10_col5\" class=\"data row10 col5\" >-0.030973</td>\n",
              "                        <td id=\"T_bdf9ba54_47c2_11ec_866a_0242ac1c0002row10_col6\" class=\"data row10 col6\" >-0.008821</td>\n",
              "                        <td id=\"T_bdf9ba54_47c2_11ec_866a_0242ac1c0002row10_col7\" class=\"data row10 col7\" >0.054667</td>\n",
              "                        <td id=\"T_bdf9ba54_47c2_11ec_866a_0242ac1c0002row10_col8\" class=\"data row10 col8\" >-0.105563</td>\n",
              "                        <td id=\"T_bdf9ba54_47c2_11ec_866a_0242ac1c0002row10_col9\" class=\"data row10 col9\" >0.987672</td>\n",
              "                        <td id=\"T_bdf9ba54_47c2_11ec_866a_0242ac1c0002row10_col10\" class=\"data row10 col10\" >1.000000</td>\n",
              "                        <td id=\"T_bdf9ba54_47c2_11ec_866a_0242ac1c0002row10_col11\" class=\"data row10 col11\" >-0.051918</td>\n",
              "                        <td id=\"T_bdf9ba54_47c2_11ec_866a_0242ac1c0002row10_col12\" class=\"data row10 col12\" >-0.062336</td>\n",
              "                        <td id=\"T_bdf9ba54_47c2_11ec_866a_0242ac1c0002row10_col13\" class=\"data row10 col13\" >0.454080</td>\n",
              "                        <td id=\"T_bdf9ba54_47c2_11ec_866a_0242ac1c0002row10_col14\" class=\"data row10 col14\" >0.332559</td>\n",
              "                        <td id=\"T_bdf9ba54_47c2_11ec_866a_0242ac1c0002row10_col15\" class=\"data row10 col15\" >0.400929</td>\n",
              "            </tr>\n",
              "            <tr>\n",
              "                        <th id=\"T_bdf9ba54_47c2_11ec_866a_0242ac1c0002level0_row11\" class=\"row_heading level0 row11\" >hum</th>\n",
              "                        <td id=\"T_bdf9ba54_47c2_11ec_866a_0242ac1c0002row11_col0\" class=\"data row11 col0\" >0.009577</td>\n",
              "                        <td id=\"T_bdf9ba54_47c2_11ec_866a_0242ac1c0002row11_col1\" class=\"data row11 col1\" >0.150625</td>\n",
              "                        <td id=\"T_bdf9ba54_47c2_11ec_866a_0242ac1c0002row11_col2\" class=\"data row11 col2\" >-0.083546</td>\n",
              "                        <td id=\"T_bdf9ba54_47c2_11ec_866a_0242ac1c0002row11_col3\" class=\"data row11 col3\" >0.164411</td>\n",
              "                        <td id=\"T_bdf9ba54_47c2_11ec_866a_0242ac1c0002row11_col4\" class=\"data row11 col4\" >-0.276498</td>\n",
              "                        <td id=\"T_bdf9ba54_47c2_11ec_866a_0242ac1c0002row11_col5\" class=\"data row11 col5\" >-0.010588</td>\n",
              "                        <td id=\"T_bdf9ba54_47c2_11ec_866a_0242ac1c0002row11_col6\" class=\"data row11 col6\" >-0.037158</td>\n",
              "                        <td id=\"T_bdf9ba54_47c2_11ec_866a_0242ac1c0002row11_col7\" class=\"data row11 col7\" >0.015688</td>\n",
              "                        <td id=\"T_bdf9ba54_47c2_11ec_866a_0242ac1c0002row11_col8\" class=\"data row11 col8\" >0.418130</td>\n",
              "                        <td id=\"T_bdf9ba54_47c2_11ec_866a_0242ac1c0002row11_col9\" class=\"data row11 col9\" >-0.069881</td>\n",
              "                        <td id=\"T_bdf9ba54_47c2_11ec_866a_0242ac1c0002row11_col10\" class=\"data row11 col10\" >-0.051918</td>\n",
              "                        <td id=\"T_bdf9ba54_47c2_11ec_866a_0242ac1c0002row11_col11\" class=\"data row11 col11\" >1.000000</td>\n",
              "                        <td id=\"T_bdf9ba54_47c2_11ec_866a_0242ac1c0002row11_col12\" class=\"data row11 col12\" >-0.290105</td>\n",
              "                        <td id=\"T_bdf9ba54_47c2_11ec_866a_0242ac1c0002row11_col13\" class=\"data row11 col13\" >-0.347028</td>\n",
              "                        <td id=\"T_bdf9ba54_47c2_11ec_866a_0242ac1c0002row11_col14\" class=\"data row11 col14\" >-0.273933</td>\n",
              "                        <td id=\"T_bdf9ba54_47c2_11ec_866a_0242ac1c0002row11_col15\" class=\"data row11 col15\" >-0.322911</td>\n",
              "            </tr>\n",
              "            <tr>\n",
              "                        <th id=\"T_bdf9ba54_47c2_11ec_866a_0242ac1c0002level0_row12\" class=\"row_heading level0 row12\" >windspeed</th>\n",
              "                        <td id=\"T_bdf9ba54_47c2_11ec_866a_0242ac1c0002row12_col0\" class=\"data row12 col0\" >-0.074505</td>\n",
              "                        <td id=\"T_bdf9ba54_47c2_11ec_866a_0242ac1c0002row12_col1\" class=\"data row12 col1\" >-0.149773</td>\n",
              "                        <td id=\"T_bdf9ba54_47c2_11ec_866a_0242ac1c0002row12_col2\" class=\"data row12 col2\" >-0.008740</td>\n",
              "                        <td id=\"T_bdf9ba54_47c2_11ec_866a_0242ac1c0002row12_col3\" class=\"data row12 col3\" >-0.135386</td>\n",
              "                        <td id=\"T_bdf9ba54_47c2_11ec_866a_0242ac1c0002row12_col4\" class=\"data row12 col4\" >0.137252</td>\n",
              "                        <td id=\"T_bdf9ba54_47c2_11ec_866a_0242ac1c0002row12_col5\" class=\"data row12 col5\" >0.003988</td>\n",
              "                        <td id=\"T_bdf9ba54_47c2_11ec_866a_0242ac1c0002row12_col6\" class=\"data row12 col6\" >0.011502</td>\n",
              "                        <td id=\"T_bdf9ba54_47c2_11ec_866a_0242ac1c0002row12_col7\" class=\"data row12 col7\" >-0.011830</td>\n",
              "                        <td id=\"T_bdf9ba54_47c2_11ec_866a_0242ac1c0002row12_col8\" class=\"data row12 col8\" >0.026226</td>\n",
              "                        <td id=\"T_bdf9ba54_47c2_11ec_866a_0242ac1c0002row12_col9\" class=\"data row12 col9\" >-0.023125</td>\n",
              "                        <td id=\"T_bdf9ba54_47c2_11ec_866a_0242ac1c0002row12_col10\" class=\"data row12 col10\" >-0.062336</td>\n",
              "                        <td id=\"T_bdf9ba54_47c2_11ec_866a_0242ac1c0002row12_col11\" class=\"data row12 col11\" >-0.290105</td>\n",
              "                        <td id=\"T_bdf9ba54_47c2_11ec_866a_0242ac1c0002row12_col12\" class=\"data row12 col12\" >1.000000</td>\n",
              "                        <td id=\"T_bdf9ba54_47c2_11ec_866a_0242ac1c0002row12_col13\" class=\"data row12 col13\" >0.090287</td>\n",
              "                        <td id=\"T_bdf9ba54_47c2_11ec_866a_0242ac1c0002row12_col14\" class=\"data row12 col14\" >0.082321</td>\n",
              "                        <td id=\"T_bdf9ba54_47c2_11ec_866a_0242ac1c0002row12_col15\" class=\"data row12 col15\" >0.093234</td>\n",
              "            </tr>\n",
              "            <tr>\n",
              "                        <th id=\"T_bdf9ba54_47c2_11ec_866a_0242ac1c0002level0_row13\" class=\"row_heading level0 row13\" >casual</th>\n",
              "                        <td id=\"T_bdf9ba54_47c2_11ec_866a_0242ac1c0002row13_col0\" class=\"data row13 col0\" >0.158295</td>\n",
              "                        <td id=\"T_bdf9ba54_47c2_11ec_866a_0242ac1c0002row13_col1\" class=\"data row13 col1\" >0.120206</td>\n",
              "                        <td id=\"T_bdf9ba54_47c2_11ec_866a_0242ac1c0002row13_col2\" class=\"data row13 col2\" >0.142779</td>\n",
              "                        <td id=\"T_bdf9ba54_47c2_11ec_866a_0242ac1c0002row13_col3\" class=\"data row13 col3\" >0.068457</td>\n",
              "                        <td id=\"T_bdf9ba54_47c2_11ec_866a_0242ac1c0002row13_col4\" class=\"data row13 col4\" >0.301202</td>\n",
              "                        <td id=\"T_bdf9ba54_47c2_11ec_866a_0242ac1c0002row13_col5\" class=\"data row13 col5\" >0.031564</td>\n",
              "                        <td id=\"T_bdf9ba54_47c2_11ec_866a_0242ac1c0002row13_col6\" class=\"data row13 col6\" >0.032721</td>\n",
              "                        <td id=\"T_bdf9ba54_47c2_11ec_866a_0242ac1c0002row13_col7\" class=\"data row13 col7\" >-0.300942</td>\n",
              "                        <td id=\"T_bdf9ba54_47c2_11ec_866a_0242ac1c0002row13_col8\" class=\"data row13 col8\" >-0.152628</td>\n",
              "                        <td id=\"T_bdf9ba54_47c2_11ec_866a_0242ac1c0002row13_col9\" class=\"data row13 col9\" >0.459616</td>\n",
              "                        <td id=\"T_bdf9ba54_47c2_11ec_866a_0242ac1c0002row13_col10\" class=\"data row13 col10\" >0.454080</td>\n",
              "                        <td id=\"T_bdf9ba54_47c2_11ec_866a_0242ac1c0002row13_col11\" class=\"data row13 col11\" >-0.347028</td>\n",
              "                        <td id=\"T_bdf9ba54_47c2_11ec_866a_0242ac1c0002row13_col12\" class=\"data row13 col12\" >0.090287</td>\n",
              "                        <td id=\"T_bdf9ba54_47c2_11ec_866a_0242ac1c0002row13_col13\" class=\"data row13 col13\" >1.000000</td>\n",
              "                        <td id=\"T_bdf9ba54_47c2_11ec_866a_0242ac1c0002row13_col14\" class=\"data row13 col14\" >0.506618</td>\n",
              "                        <td id=\"T_bdf9ba54_47c2_11ec_866a_0242ac1c0002row13_col15\" class=\"data row13 col15\" >0.694564</td>\n",
              "            </tr>\n",
              "            <tr>\n",
              "                        <th id=\"T_bdf9ba54_47c2_11ec_866a_0242ac1c0002level0_row14\" class=\"row_heading level0 row14\" >registered</th>\n",
              "                        <td id=\"T_bdf9ba54_47c2_11ec_866a_0242ac1c0002row14_col0\" class=\"data row14 col0\" >0.282046</td>\n",
              "                        <td id=\"T_bdf9ba54_47c2_11ec_866a_0242ac1c0002row14_col1\" class=\"data row14 col1\" >0.174226</td>\n",
              "                        <td id=\"T_bdf9ba54_47c2_11ec_866a_0242ac1c0002row14_col2\" class=\"data row14 col2\" >0.253684</td>\n",
              "                        <td id=\"T_bdf9ba54_47c2_11ec_866a_0242ac1c0002row14_col3\" class=\"data row14 col3\" >0.122273</td>\n",
              "                        <td id=\"T_bdf9ba54_47c2_11ec_866a_0242ac1c0002row14_col4\" class=\"data row14 col4\" >0.374141</td>\n",
              "                        <td id=\"T_bdf9ba54_47c2_11ec_866a_0242ac1c0002row14_col5\" class=\"data row14 col5\" >-0.047345</td>\n",
              "                        <td id=\"T_bdf9ba54_47c2_11ec_866a_0242ac1c0002row14_col6\" class=\"data row14 col6\" >0.021578</td>\n",
              "                        <td id=\"T_bdf9ba54_47c2_11ec_866a_0242ac1c0002row14_col7\" class=\"data row14 col7\" >0.134326</td>\n",
              "                        <td id=\"T_bdf9ba54_47c2_11ec_866a_0242ac1c0002row14_col8\" class=\"data row14 col8\" >-0.120966</td>\n",
              "                        <td id=\"T_bdf9ba54_47c2_11ec_866a_0242ac1c0002row14_col9\" class=\"data row14 col9\" >0.335361</td>\n",
              "                        <td id=\"T_bdf9ba54_47c2_11ec_866a_0242ac1c0002row14_col10\" class=\"data row14 col10\" >0.332559</td>\n",
              "                        <td id=\"T_bdf9ba54_47c2_11ec_866a_0242ac1c0002row14_col11\" class=\"data row14 col11\" >-0.273933</td>\n",
              "                        <td id=\"T_bdf9ba54_47c2_11ec_866a_0242ac1c0002row14_col12\" class=\"data row14 col12\" >0.082321</td>\n",
              "                        <td id=\"T_bdf9ba54_47c2_11ec_866a_0242ac1c0002row14_col13\" class=\"data row14 col13\" >0.506618</td>\n",
              "                        <td id=\"T_bdf9ba54_47c2_11ec_866a_0242ac1c0002row14_col14\" class=\"data row14 col14\" >1.000000</td>\n",
              "                        <td id=\"T_bdf9ba54_47c2_11ec_866a_0242ac1c0002row14_col15\" class=\"data row14 col15\" >0.972151</td>\n",
              "            </tr>\n",
              "            <tr>\n",
              "                        <th id=\"T_bdf9ba54_47c2_11ec_866a_0242ac1c0002level0_row15\" class=\"row_heading level0 row15\" >cnt</th>\n",
              "                        <td id=\"T_bdf9ba54_47c2_11ec_866a_0242ac1c0002row15_col0\" class=\"data row15 col0\" >0.278379</td>\n",
              "                        <td id=\"T_bdf9ba54_47c2_11ec_866a_0242ac1c0002row15_col1\" class=\"data row15 col1\" >0.178056</td>\n",
              "                        <td id=\"T_bdf9ba54_47c2_11ec_866a_0242ac1c0002row15_col2\" class=\"data row15 col2\" >0.250495</td>\n",
              "                        <td id=\"T_bdf9ba54_47c2_11ec_866a_0242ac1c0002row15_col3\" class=\"data row15 col3\" >0.120638</td>\n",
              "                        <td id=\"T_bdf9ba54_47c2_11ec_866a_0242ac1c0002row15_col4\" class=\"data row15 col4\" >0.394071</td>\n",
              "                        <td id=\"T_bdf9ba54_47c2_11ec_866a_0242ac1c0002row15_col5\" class=\"data row15 col5\" >-0.030927</td>\n",
              "                        <td id=\"T_bdf9ba54_47c2_11ec_866a_0242ac1c0002row15_col6\" class=\"data row15 col6\" >0.026900</td>\n",
              "                        <td id=\"T_bdf9ba54_47c2_11ec_866a_0242ac1c0002row15_col7\" class=\"data row15 col7\" >0.030284</td>\n",
              "                        <td id=\"T_bdf9ba54_47c2_11ec_866a_0242ac1c0002row15_col8\" class=\"data row15 col8\" >-0.142426</td>\n",
              "                        <td id=\"T_bdf9ba54_47c2_11ec_866a_0242ac1c0002row15_col9\" class=\"data row15 col9\" >0.404772</td>\n",
              "                        <td id=\"T_bdf9ba54_47c2_11ec_866a_0242ac1c0002row15_col10\" class=\"data row15 col10\" >0.400929</td>\n",
              "                        <td id=\"T_bdf9ba54_47c2_11ec_866a_0242ac1c0002row15_col11\" class=\"data row15 col11\" >-0.322911</td>\n",
              "                        <td id=\"T_bdf9ba54_47c2_11ec_866a_0242ac1c0002row15_col12\" class=\"data row15 col12\" >0.093234</td>\n",
              "                        <td id=\"T_bdf9ba54_47c2_11ec_866a_0242ac1c0002row15_col13\" class=\"data row15 col13\" >0.694564</td>\n",
              "                        <td id=\"T_bdf9ba54_47c2_11ec_866a_0242ac1c0002row15_col14\" class=\"data row15 col14\" >0.972151</td>\n",
              "                        <td id=\"T_bdf9ba54_47c2_11ec_866a_0242ac1c0002row15_col15\" class=\"data row15 col15\" >1.000000</td>\n",
              "            </tr>\n",
              "    </tbody></table>"
            ],
            "text/plain": [
              "<pandas.io.formats.style.Styler at 0x7f130ee50910>"
            ]
          },
          "metadata": {},
          "execution_count": 71
        }
      ]
    },
    {
      "cell_type": "code",
      "metadata": {
        "colab": {
          "base_uri": "https://localhost:8080/",
          "height": 576
        },
        "id": "nKp9dAP-ckzf",
        "outputId": "0e68ef0f-ca5f-413c-c190-bb3eb9f88f3a"
      },
      "source": [
        "# Mapa de calor\n",
        "plt.figure(figsize = (10,10))\n",
        "cmap = sns.diverging_palette(220, 10, as_cmap=True)\n",
        "sns.heatmap(corr, xticklabels=corr.columns.values, yticklabels=corr.columns.values, cmap=cmap, vmax=.3, center=0, square=True, linewidths=.5, cbar_kws={\"shrink\": .82})\n",
        "plt.title('Heatmap of Correlation Matrix')"
      ],
      "execution_count": 72,
      "outputs": [
        {
          "output_type": "execute_result",
          "data": {
            "text/plain": [
              "Text(0.5, 1.0, 'Heatmap of Correlation Matrix')"
            ]
          },
          "metadata": {},
          "execution_count": 72
        },
        {
          "output_type": "display_data",
          "data": {
            "image/png": "[encoded data removed]",
            "text/plain": [
              "<Figure size 720x720 with 2 Axes>"
            ]
          },
          "metadata": {}
        }
      ]
    },
    {
      "cell_type": "markdown",
      "metadata": {
        "id": "6WRBbK6_6euR"
      },
      "source": [
        "A análise da correlação serve para verificar quais são os atributos que interessam mais. Assim podemos excluir aqueles que são menos importantes."
      ]
    },
    {
      "cell_type": "markdown",
      "metadata": {
        "id": "6N8Ef1vP61v3"
      },
      "source": [
        "Para isso, armazenamos os dados obtidos da correlação de todos os atributos em uma variável e depois comparamos com o atributo alvo (cnt)"
      ]
    },
    {
      "cell_type": "code",
      "metadata": {
        "colab": {
          "base_uri": "https://localhost:8080/"
        },
        "id": "zhKKZx42606I",
        "outputId": "3a9792cc-e7a2-4101-b03d-61c65b37b1c1"
      },
      "source": [
        "correlations = bike_rentals.corr()\n",
        "correlations['cnt']"
      ],
      "execution_count": 73,
      "outputs": [
        {
          "output_type": "execute_result",
          "data": {
            "text/plain": [
              "instant       0.278379\n",
              "season        0.178056\n",
              "yr            0.250495\n",
              "mnth          0.120638\n",
              "hr            0.394071\n",
              "holiday      -0.030927\n",
              "weekday       0.026900\n",
              "workingday    0.030284\n",
              "weathersit   -0.142426\n",
              "temp          0.404772\n",
              "atemp         0.400929\n",
              "hum          -0.322911\n",
              "windspeed     0.093234\n",
              "casual        0.694564\n",
              "registered    0.972151\n",
              "cnt           1.000000\n",
              "Name: cnt, dtype: float64"
            ]
          },
          "metadata": {},
          "execution_count": 73
        }
      ]
    },
    {
      "cell_type": "markdown",
      "metadata": {
        "id": "FgJFol8-7Su1"
      },
      "source": [
        "Excluindo os atributos que são subcategorias do atributo alvo: **casual**, **registered**, **instant** e do **tipo date**. Depois da exclusão, o dataframe é armazenado na variavel **columns**"
      ]
    },
    {
      "cell_type": "code",
      "metadata": {
        "colab": {
          "base_uri": "https://localhost:8080/"
        },
        "id": "WtfR-4_b7IU4",
        "outputId": "8b1a7b3e-d25e-4258-d810-be5eca4bdb15"
      },
      "source": [
        "columns = bike_rentals.columns.drop(['cnt','casual','dteday','registered','instant'])\n",
        "columns"
      ],
      "execution_count": 74,
      "outputs": [
        {
          "output_type": "execute_result",
          "data": {
            "text/plain": [
              "Index(['season', 'yr', 'mnth', 'hr', 'holiday', 'weekday', 'workingday',\n",
              "       'weathersit', 'temp', 'atemp', 'hum', 'windspeed'],\n",
              "      dtype='object')"
            ]
          },
          "metadata": {},
          "execution_count": 74
        }
      ]
    },
    {
      "cell_type": "code",
      "metadata": {
        "id": "nD62bI_oVfIV"
      },
      "source": [
        ""
      ],
      "execution_count": 74,
      "outputs": []
    },
    {
      "cell_type": "markdown",
      "metadata": {
        "id": "ahx1KI0b8NTK"
      },
      "source": [
        "# Utilizando Machine Learning para realizar a previsão"
      ]
    },
    {
      "cell_type": "markdown",
      "metadata": {
        "id": "GW9VJ_fj8UKm"
      },
      "source": [
        "Importando o método train_test_split para realizar a separação de dados em treino e teste"
      ]
    },
    {
      "cell_type": "code",
      "metadata": {
        "id": "j1x0zlV98d5X"
      },
      "source": [
        "from sklearn.model_selection import train_test_split"
      ],
      "execution_count": 75,
      "outputs": []
    },
    {
      "cell_type": "markdown",
      "metadata": {
        "id": "1gitW9zw8lwc"
      },
      "source": [
        "Executando a separação dos dados em treino e teste"
      ]
    },
    {
      "cell_type": "code",
      "metadata": {
        "id": "VwL3Qto08stI"
      },
      "source": [
        "X_train,X_test,y_train,y_test = train_test_split(bike_rentals[columns],bike_rentals['cnt'], test_size=0.20, random_state=42)"
      ],
      "execution_count": 76,
      "outputs": []
    },
    {
      "cell_type": "markdown",
      "metadata": {
        "id": "rcqTVxnH9nK-"
      },
      "source": [
        "Instanciando o algoritmo"
      ]
    },
    {
      "cell_type": "code",
      "metadata": {
        "id": "85L1MZdH9ppS"
      },
      "source": [
        "lr = LinearRegression()"
      ],
      "execution_count": 77,
      "outputs": []
    },
    {
      "cell_type": "markdown",
      "metadata": {
        "id": "JovgQauD9unY"
      },
      "source": [
        "Treinando o algoritmo e gerando um modelo de regressão"
      ]
    },
    {
      "cell_type": "code",
      "metadata": {
        "id": "GoX9UbwM9yzR"
      },
      "source": [
        "model = lr.fit(X_train,y_train)"
      ],
      "execution_count": 78,
      "outputs": []
    },
    {
      "cell_type": "markdown",
      "metadata": {
        "id": "dfUYZT1L99nV"
      },
      "source": [
        "Realizando a predição"
      ]
    },
    {
      "cell_type": "code",
      "metadata": {
        "id": "_hMmOuSs-AHu",
        "colab": {
          "base_uri": "https://localhost:8080/"
        },
        "outputId": "2c9de9bd-2e4e-44a2-c9c5-03cd77a8dfa9"
      },
      "source": [
        "resultado = model.predict(X_test)\n",
        "resultado"
      ],
      "execution_count": 79,
      "outputs": [
        {
          "output_type": "execute_result",
          "data": {
            "text/plain": [
              "array([450.29652451, 204.67414527,  57.29789092, ...,  45.54126275,\n",
              "       190.38936951, 215.37309383])"
            ]
          },
          "metadata": {},
          "execution_count": 79
        }
      ]
    },
    {
      "cell_type": "markdown",
      "metadata": {
        "id": "GBjV3PmJ-Oj-"
      },
      "source": [
        "Calculando o erro médio quadrático"
      ]
    },
    {
      "cell_type": "code",
      "metadata": {
        "id": "eLfrr1sf-SAq"
      },
      "source": [
        "#mean_squared_error(y_test,resultado)"
      ],
      "execution_count": 80,
      "outputs": []
    },
    {
      "cell_type": "markdown",
      "metadata": {
        "id": "L_d148kY-fm3"
      },
      "source": [
        "Computando o Score"
      ]
    },
    {
      "cell_type": "code",
      "metadata": {
        "colab": {
          "base_uri": "https://localhost:8080/"
        },
        "id": "KQg6fzFf-hTI",
        "outputId": "7dd52091-1b27-493b-88b0-ab192925b293"
      },
      "source": [
        "model.score(X_test,y_test)"
      ],
      "execution_count": 81,
      "outputs": [
        {
          "output_type": "execute_result",
          "data": {
            "text/plain": [
              "0.38798115831391344"
            ]
          },
          "metadata": {},
          "execution_count": 81
        }
      ]
    },
    {
      "cell_type": "markdown",
      "metadata": {
        "id": "A4jheioh-qpu"
      },
      "source": [
        "Comparando os resultados aplicando os dados de treinamento"
      ]
    },
    {
      "cell_type": "code",
      "metadata": {
        "id": "SmUqFuZN-lfJ"
      },
      "source": [
        "resultado_treino = model.predict(X_train)"
      ],
      "execution_count": 82,
      "outputs": []
    },
    {
      "cell_type": "code",
      "metadata": {
        "id": "wLjkbhZA-3zW"
      },
      "source": [
        "#mean_squared_error(y_train,resultado_treino)"
      ],
      "execution_count": 83,
      "outputs": []
    },
    {
      "cell_type": "code",
      "metadata": {
        "colab": {
          "base_uri": "https://localhost:8080/"
        },
        "id": "TiwqTLFj-93v",
        "outputId": "6e9f6d48-265b-4d89-9471-835532560a0d"
      },
      "source": [
        "model.score(X_train,y_train)"
      ],
      "execution_count": 84,
      "outputs": [
        {
          "output_type": "execute_result",
          "data": {
            "text/plain": [
              "0.3888110962633091"
            ]
          },
          "metadata": {},
          "execution_count": 84
        }
      ]
    },
    {
      "cell_type": "markdown",
      "metadata": {
        "id": "ThXSUb5M_Lcf"
      },
      "source": [
        "## Testando os resultados utilizando um modelo baseado em Árvore de Decisão"
      ]
    },
    {
      "cell_type": "markdown",
      "metadata": {
        "id": "-jvwfKHb_Vjg"
      },
      "source": [
        "Treinando o modelo e gerando o modelo"
      ]
    },
    {
      "cell_type": "code",
      "metadata": {
        "id": "kjTMIArv_UjD"
      },
      "source": [
        "tree = DecisionTreeRegressor() #instancia do modelo\n",
        "model_tree = tree.fit(X_train,y_train)\n",
        "resultado_tree = tree.predict(X_test)"
      ],
      "execution_count": 85,
      "outputs": []
    },
    {
      "cell_type": "markdown",
      "metadata": {
        "id": "WADCrXxZ_2On"
      },
      "source": [
        "Calculando o erro médio quadrático"
      ]
    },
    {
      "cell_type": "code",
      "metadata": {
        "id": "ZRp5dAPe_yh5"
      },
      "source": [
        "#mean_squared_error(y_test,resultado_tree)"
      ],
      "execution_count": 86,
      "outputs": []
    },
    {
      "cell_type": "markdown",
      "metadata": {
        "id": "LB07TgukAAXD"
      },
      "source": [
        "Computando o Score"
      ]
    },
    {
      "cell_type": "code",
      "metadata": {
        "colab": {
          "base_uri": "https://localhost:8080/"
        },
        "id": "rCxlCW4J_-nH",
        "outputId": "24303895-c121-4a8a-e92d-7ba4ec74cccd"
      },
      "source": [
        "model_tree.score(X_test,y_test)"
      ],
      "execution_count": 87,
      "outputs": [
        {
          "output_type": "execute_result",
          "data": {
            "text/plain": [
              "0.8927909040045561"
            ]
          },
          "metadata": {},
          "execution_count": 87
        }
      ]
    },
    {
      "cell_type": "markdown",
      "metadata": {
        "id": "aGpa7n1MAdW1"
      },
      "source": [
        "# Melhorando os resultados utilizando Random Forest"
      ]
    },
    {
      "cell_type": "code",
      "metadata": {
        "id": "MKGkdsUcAkAS"
      },
      "source": [
        "tree_rf = RandomForestRegressor()\n",
        "model_rf = tree_rf.fit(X_train,y_train)\n",
        "resultado_rf = model_rf.predict(X_test)"
      ],
      "execution_count": 88,
      "outputs": []
    },
    {
      "cell_type": "markdown",
      "metadata": {
        "id": "nOA91bXuA-qi"
      },
      "source": [
        "Calculando o erro médio quadrático"
      ]
    },
    {
      "cell_type": "code",
      "metadata": {
        "id": "00cXxG3KBBe6"
      },
      "source": [
        "#mean_squared_error(y_test,resultado_rf)"
      ],
      "execution_count": 89,
      "outputs": []
    },
    {
      "cell_type": "markdown",
      "metadata": {
        "id": "OcKdusaFBIF-"
      },
      "source": [
        "Computando o score"
      ]
    },
    {
      "cell_type": "code",
      "metadata": {
        "colab": {
          "base_uri": "https://localhost:8080/"
        },
        "id": "G1MlZmXrBGP4",
        "outputId": "ae614305-8f4c-4f91-939b-fc88f44bc7bc"
      },
      "source": [
        "model_rf.score(X_test,y_test)"
      ],
      "execution_count": 90,
      "outputs": [
        {
          "output_type": "execute_result",
          "data": {
            "text/plain": [
              "0.9449448138171584"
            ]
          },
          "metadata": {},
          "execution_count": 90
        }
      ]
    },
    {
      "cell_type": "markdown",
      "metadata": {
        "id": "XS-gVlqiBWyX"
      },
      "source": [
        "Ajustando hiper-parametros do Random Forest"
      ]
    },
    {
      "cell_type": "code",
      "metadata": {
        "id": "_BiVGecIBb2u"
      },
      "source": [
        "from sklearn.model_selection import GridSearchCV"
      ],
      "execution_count": 91,
      "outputs": []
    },
    {
      "cell_type": "markdown",
      "metadata": {
        "id": "D1BTVeIjBjUh"
      },
      "source": [
        "Especificando os parâmetros de tunning"
      ]
    },
    {
      "cell_type": "code",
      "metadata": {
        "id": "hPUVYatGBmLS"
      },
      "source": [
        "parametros = {'min_samples_leaf':[1,10],'min_samples_split':[2,10],'n_estimators':[100,250,500,750]}"
      ],
      "execution_count": 92,
      "outputs": []
    },
    {
      "cell_type": "markdown",
      "metadata": {
        "id": "DiG0yfA-B5hJ"
      },
      "source": [
        "Instanciando o Random Forest e GridSearch"
      ]
    },
    {
      "cell_type": "code",
      "metadata": {
        "id": "PSI7nfKbCCNI"
      },
      "source": [
        "rf = RandomForestRegressor()\n",
        "grid = GridSearchCV(rf,parametros)"
      ],
      "execution_count": 93,
      "outputs": []
    },
    {
      "cell_type": "markdown",
      "metadata": {
        "id": "00Ew2YBhCKpe"
      },
      "source": [
        "Executando o Grid"
      ]
    },
    {
      "cell_type": "code",
      "metadata": {
        "colab": {
          "base_uri": "https://localhost:8080/"
        },
        "id": "jdnW8BeNCO4g",
        "outputId": "8ad451af-1061-42b0-ea78-8887c51083de"
      },
      "source": [
        "grid.fit(X_train,y_train)"
      ],
      "execution_count": 94,
      "outputs": [
        {
          "output_type": "execute_result",
          "data": {
            "text/plain": [
              "GridSearchCV(estimator=RandomForestRegressor(),\n",
              "             param_grid={'min_samples_leaf': [1, 10],\n",
              "                         'min_samples_split': [2, 10],\n",
              "                         'n_estimators': [100, 250, 500, 750]})"
            ]
          },
          "metadata": {},
          "execution_count": 94
        }
      ]
    },
    {
      "cell_type": "markdown",
      "metadata": {
        "id": "BioFkp89Ch-_"
      },
      "source": [
        "Verificando os melhores parâmetros"
      ]
    },
    {
      "cell_type": "code",
      "metadata": {
        "colab": {
          "base_uri": "https://localhost:8080/"
        },
        "id": "4fAdhJq8CmM-",
        "outputId": "3a00c6df-bcb3-4e39-c91d-2bdc998cfd8a"
      },
      "source": [
        "grid.best_params_"
      ],
      "execution_count": 95,
      "outputs": [
        {
          "output_type": "execute_result",
          "data": {
            "text/plain": [
              "{'min_samples_leaf': 1, 'min_samples_split': 2, 'n_estimators': 500}"
            ]
          },
          "metadata": {},
          "execution_count": 95
        }
      ]
    },
    {
      "cell_type": "markdown",
      "metadata": {
        "id": "oDoJ8cXwH-kf"
      },
      "source": [
        "Recuperando o melhor estimator"
      ]
    },
    {
      "cell_type": "code",
      "metadata": {
        "id": "kehKYX_9IBVf"
      },
      "source": [
        "rf_best = grid.best_estimator_"
      ],
      "execution_count": 96,
      "outputs": []
    },
    {
      "cell_type": "markdown",
      "metadata": {
        "id": "LEU1K7GfIGYj"
      },
      "source": [
        "Gerando o resultado final"
      ]
    },
    {
      "cell_type": "code",
      "metadata": {
        "colab": {
          "base_uri": "https://localhost:8080/"
        },
        "id": "-cXsSdTrIJ9x",
        "outputId": "36d34055-8ed0-45b8-e3ad-000f80111be0"
      },
      "source": [
        "resultado_final = rf_best.predict(X_test)\n",
        "resultado_final"
      ],
      "execution_count": 97,
      "outputs": [
        {
          "output_type": "execute_result",
          "data": {
            "text/plain": [
              "array([375.084,  96.35 ,  10.666, ...,  78.318, 368.306, 243.786])"
            ]
          },
          "metadata": {},
          "execution_count": 97
        }
      ]
    },
    {
      "cell_type": "markdown",
      "metadata": {
        "id": "KenDBpJAIRjI"
      },
      "source": [
        "Calculando o erro médio quadrático"
      ]
    },
    {
      "cell_type": "code",
      "metadata": {
        "colab": {
          "base_uri": "https://localhost:8080/"
        },
        "id": "F44KenNwIUYH",
        "outputId": "ea25d658-e0eb-42ac-cae4-829d2812dad3"
      },
      "source": [
        "mean_squared_error(y_test, resultado_final)"
      ],
      "execution_count": 98,
      "outputs": [
        {
          "output_type": "execute_result",
          "data": {
            "text/plain": [
              "1747.887600292999"
            ]
          },
          "metadata": {},
          "execution_count": 98
        }
      ]
    },
    {
      "cell_type": "markdown",
      "metadata": {
        "id": "A3j5gXIXIagW"
      },
      "source": [
        "Computando o score"
      ]
    },
    {
      "cell_type": "code",
      "metadata": {
        "colab": {
          "base_uri": "https://localhost:8080/"
        },
        "id": "O5fAmrOgIZAS",
        "outputId": "96a6bd85-e2e4-4160-9fcc-5a02197aaa2c"
      },
      "source": [
        "rf_best.score(X_test,y_test)"
      ],
      "execution_count": 99,
      "outputs": [
        {
          "output_type": "execute_result",
          "data": {
            "text/plain": [
              "0.9448013612796295"
            ]
          },
          "metadata": {},
          "execution_count": 99
        }
      ]
    },
    {
      "cell_type": "markdown",
      "metadata": {
        "id": "KXAzghtWNofY"
      },
      "source": [
        "# Salvando o modelo"
      ]
    },
    {
      "cell_type": "code",
      "metadata": {
        "colab": {
          "base_uri": "https://localhost:8080/"
        },
        "id": "eL9zngz-Nrpu",
        "outputId": "6f019169-66de-4ef6-b59c-112bd2dfa30f"
      },
      "source": [
        "import joblib\n",
        "joblib.dump(rf_best, '/content/drive/MyDrive/Colab Notebooks/bikePrevisao/model_rf_best.pkl')"
      ],
      "execution_count": 101,
      "outputs": [
        {
          "output_type": "execute_result",
          "data": {
            "text/plain": [
              "['/content/drive/MyDrive/Colab Notebooks/bikePrevisao/model_rf_best.pkl']"
            ]
          },
          "metadata": {},
          "execution_count": 101
        }
      ]
    },
    {
      "cell_type": "code",
      "metadata": {
        "colab": {
          "base_uri": "https://localhost:8080/",
          "height": 206
        },
        "id": "gkWxTWigRRn9",
        "outputId": "c9dbdbf6-5d37-4c5c-e9cb-b59954277a86"
      },
      "source": [
        "X_test.head()"
      ],
      "execution_count": 102,
      "outputs": [
        {
          "output_type": "execute_result",
          "data": {
            "text/html": [
              "<div>\n",
              "<style scoped>\n",
              "    .dataframe tbody tr th:only-of-type {\n",
              "        vertical-align: middle;\n",
              "    }\n",
              "\n",
              "    .dataframe tbody tr th {\n",
              "        vertical-align: top;\n",
              "    }\n",
              "\n",
              "    .dataframe thead th {\n",
              "        text-align: right;\n",
              "    }\n",
              "</style>\n",
              "<table border=\"1\" class=\"dataframe\">\n",
              "  <thead>\n",
              "    <tr style=\"text-align: right;\">\n",
              "      <th></th>\n",
              "      <th>season</th>\n",
              "      <th>yr</th>\n",
              "      <th>mnth</th>\n",
              "      <th>hr</th>\n",
              "      <th>holiday</th>\n",
              "      <th>weekday</th>\n",
              "      <th>workingday</th>\n",
              "      <th>weathersit</th>\n",
              "      <th>temp</th>\n",
              "      <th>atemp</th>\n",
              "      <th>hum</th>\n",
              "      <th>windspeed</th>\n",
              "    </tr>\n",
              "  </thead>\n",
              "  <tbody>\n",
              "    <tr>\n",
              "      <th>12830</th>\n",
              "      <td>3</td>\n",
              "      <td>1</td>\n",
              "      <td>6</td>\n",
              "      <td>19</td>\n",
              "      <td>0</td>\n",
              "      <td>6</td>\n",
              "      <td>0</td>\n",
              "      <td>1</td>\n",
              "      <td>0.80</td>\n",
              "      <td>0.6970</td>\n",
              "      <td>0.27</td>\n",
              "      <td>0.1940</td>\n",
              "    </tr>\n",
              "    <tr>\n",
              "      <th>8688</th>\n",
              "      <td>1</td>\n",
              "      <td>1</td>\n",
              "      <td>1</td>\n",
              "      <td>20</td>\n",
              "      <td>1</td>\n",
              "      <td>1</td>\n",
              "      <td>0</td>\n",
              "      <td>1</td>\n",
              "      <td>0.24</td>\n",
              "      <td>0.2273</td>\n",
              "      <td>0.41</td>\n",
              "      <td>0.2239</td>\n",
              "    </tr>\n",
              "    <tr>\n",
              "      <th>7091</th>\n",
              "      <td>4</td>\n",
              "      <td>0</td>\n",
              "      <td>10</td>\n",
              "      <td>2</td>\n",
              "      <td>0</td>\n",
              "      <td>5</td>\n",
              "      <td>1</td>\n",
              "      <td>1</td>\n",
              "      <td>0.32</td>\n",
              "      <td>0.3030</td>\n",
              "      <td>0.66</td>\n",
              "      <td>0.2836</td>\n",
              "    </tr>\n",
              "    <tr>\n",
              "      <th>12230</th>\n",
              "      <td>2</td>\n",
              "      <td>1</td>\n",
              "      <td>5</td>\n",
              "      <td>19</td>\n",
              "      <td>0</td>\n",
              "      <td>2</td>\n",
              "      <td>1</td>\n",
              "      <td>1</td>\n",
              "      <td>0.78</td>\n",
              "      <td>0.7121</td>\n",
              "      <td>0.52</td>\n",
              "      <td>0.3582</td>\n",
              "    </tr>\n",
              "    <tr>\n",
              "      <th>431</th>\n",
              "      <td>1</td>\n",
              "      <td>0</td>\n",
              "      <td>1</td>\n",
              "      <td>0</td>\n",
              "      <td>0</td>\n",
              "      <td>4</td>\n",
              "      <td>1</td>\n",
              "      <td>1</td>\n",
              "      <td>0.26</td>\n",
              "      <td>0.2273</td>\n",
              "      <td>0.56</td>\n",
              "      <td>0.3881</td>\n",
              "    </tr>\n",
              "  </tbody>\n",
              "</table>\n",
              "</div>"
            ],
            "text/plain": [
              "       season  yr  mnth  hr  holiday  ...  weathersit  temp   atemp   hum  windspeed\n",
              "12830       3   1     6  19        0  ...           1  0.80  0.6970  0.27     0.1940\n",
              "8688        1   1     1  20        1  ...           1  0.24  0.2273  0.41     0.2239\n",
              "7091        4   0    10   2        0  ...           1  0.32  0.3030  0.66     0.2836\n",
              "12230       2   1     5  19        0  ...           1  0.78  0.7121  0.52     0.3582\n",
              "431         1   0     1   0        0  ...           1  0.26  0.2273  0.56     0.3881\n",
              "\n",
              "[5 rows x 12 columns]"
            ]
          },
          "metadata": {},
          "execution_count": 102
        }
      ]
    },
    {
      "cell_type": "markdown",
      "metadata": {
        "id": "yjV4pHBTYmBt"
      },
      "source": [
        "# Formato de Dados que devem ser passados para entrada de um projeto armazenado e fazer a previsão:\n",
        "teste = np.array([['season', 'yr', 'mnth', 'hr', 'holiday', 'weekday','workingday', 'weathersit', 'temp', 'atemp', 'hum', 'windspeed']])\n",
        "![image.png](data:image/png;base64,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)"
      ]
    },
    {
      "cell_type": "code",
      "metadata": {
        "colab": {
          "base_uri": "https://localhost:8080/"
        },
        "id": "I8uj7IczJCwI",
        "outputId": "4bcd06c0-2823-47bd-f504-d299f46c82cc"
      },
      "source": [
        "#Nessa ordem\n",
        "#season: estação do ano (1:inverno,2:primavera,3:verão,4:outono)\n",
        "# yr --> Ano 1 = 2012 ou 0 = 2011\n",
        "#mes --> 1 a 12\n",
        "# hr -> 0 a 23\n",
        "# holiday--> feridado ou nao (1ou 0)\n",
        "# weekday --> Qual dia da semana --> 0 a 6\n",
        "#workinday --> dia de trabalho ->1 / feriado ou fim de semana -> 0\n",
        "# weathersit --> tempo --> limpo 1, nublado 2, chuva fraca ou garoa 3, chuva forte 4\n",
        "# temp --> temperatura temperatura normalizada em graus Célsius (normalizado)\n",
        "# atemp --> sensação de temperatura normalizada em graus Célsius (normalizado)\n",
        "#humidade (normalizado)\n",
        "#velocidade do vento (normalizado)\n",
        "\n",
        "X = np.array([[1,1,1,10,1,6,0,3,0.8,0.6,0.5,0.15]])\n",
        "teste_final = rf_best.predict(X)\n",
        "teste_final"
      ],
      "execution_count": 109,
      "outputs": [
        {
          "output_type": "stream",
          "name": "stderr",
          "text": [
            "/usr/local/lib/python3.7/dist-packages/sklearn/base.py:446: UserWarning: X does not have valid feature names, but RandomForestRegressor was fitted with feature names\n",
            "  \"X does not have valid feature names, but\"\n"
          ]
        },
        {
          "output_type": "execute_result",
          "data": {
            "text/plain": [
              "array([399.244])"
            ]
          },
          "metadata": {},
          "execution_count": 109
        }
      ]
    }
  ]
}