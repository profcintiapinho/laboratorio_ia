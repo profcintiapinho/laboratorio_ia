{
  "nbformat": 4,
  "nbformat_minor": 0,
  "metadata": {
    "colab": {
      "name": "7- Estruturas_Condicionais_e _Laços_de_Repeticao.ipynb",
      "provenance": [],
      "authorship_tag": "ABX9TyNp1+nK20PNJlgokI9QTNF7",
      "include_colab_link": true
    },
    "kernelspec": {
      "name": "python3",
      "display_name": "Python 3"
    },
    "language_info": {
      "name": "python"
    }
  },
  "cells": [
    {
      "cell_type": "markdown",
      "metadata": {
        "id": "view-in-github",
        "colab_type": "text"
      },
      "source": [
        "<a href=\"https://colab.research.google.com/github/profcintiapinho/laboratorio_ia/blob/main/7_Estruturas_Condicionais_e__La%C3%A7os_de_Repeticao.ipynb\" target=\"_parent\"><img src=\"https://colab.research.google.com/assets/colab-badge.svg\" alt=\"Open In Colab\"/></a>"
      ]
    },
    {
      "cell_type": "markdown",
      "metadata": {
        "id": "0E6eu1eetGvC"
      },
      "source": [
        "# <font color='blue'>Condicionais e Laços de Repetição</font>"
      ]
    },
    {
      "cell_type": "markdown",
      "metadata": {
        "id": "vCtx192ywDVk"
      },
      "source": [
        "## Estruturas de condição\n",
        "####Estruturas de condição são artifícios das linguagens de programação para determinar qual bloco de código será executado a partir de uma determinada condição. No Python, assim como em outras linguagens, podemos trabalhar com as estruturas de condição utilizando o if/else como veremos abaixo."
      ]
    },
    {
      "cell_type": "markdown",
      "metadata": {
        "id": "v3UPVLkqwQgl"
      },
      "source": [
        "**if/else**\n",
        "\n",
        "O if e o else são comandos que verificam determinada condição na programação.\n",
        "\n",
        "O uso do if em um programa em Python visa verificar se determinada ação é verdadeira e executar o bloco de código contido em seu escopo. Basicamente é feita da seguinte forma:"
      ]
    },
    {
      "cell_type": "code",
      "metadata": {
        "colab": {
          "base_uri": "https://localhost:8080/"
        },
        "id": "g7Z0oo4ltD9E",
        "outputId": "0fcce851-2b59-45e2-8e0f-649668e4903f"
      },
      "source": [
        "media = 7\n",
        "if media > 6.9:\n",
        "\tprint (\"Você foi aprovado\")\n"
      ],
      "execution_count": null,
      "outputs": [
        {
          "output_type": "stream",
          "name": "stdout",
          "text": [
            "Você foi aprovado\n"
          ]
        }
      ]
    },
    {
      "cell_type": "markdown",
      "metadata": {
        "id": "96_Ahp9rwo3q"
      },
      "source": [
        "No exemplo do código acima, utilizamos apenas o if para verificar se a variável media é maior que 6.9. Como esta condição é verdadeira, imprimimos a mensagem na tela “Você foi aprovado”. Caso esta condição fosse falsa, o código seguiria normalmente ignorando, desta forma, a linha 3, o nosso print.\n",
        "\n",
        "Já o uso o **if/else** fará com que uma das ações sejam executadas, já que se a condição dentro do if não for verdadeira, será executado o código contido no else. O if/else irá testar caso a condição seja verdadeira e executar uma determinada ação ou caso a mesma não seja executar outra."
      ]
    },
    {
      "cell_type": "markdown",
      "metadata": {
        "id": "BllpzjXX1m-A"
      },
      "source": [
        "### Operadores Lógicos e Relacionais\n"
      ]
    },
    {
      "cell_type": "markdown",
      "metadata": {
        "id": "WEgP63-m1qq6"
      },
      "source": [
        "### Operadores Relacionais\n",
        "\n",
        "Maior que      \t         \" > \"\n",
        "\n",
        "Menor que \t             \" <  \"\n",
        "\n",
        "Igual a                  \" == \"\n",
        "\n",
        "Diferente de\t           \" !=  \"            \n",
        "\n",
        "Maior ou igual a\t       \"  >=  \"\n",
        "\n",
        "Menor ou igual a\t       \"  <=  \""
      ]
    },
    {
      "cell_type": "markdown",
      "metadata": {
        "id": "hq3WG6Xw2zkO"
      },
      "source": [
        "### Operadores Lógicos\n",
        "AND\n",
        "\n",
        "OR\n",
        "\n",
        "NOT\n"
      ]
    },
    {
      "cell_type": "code",
      "metadata": {
        "colab": {
          "base_uri": "https://localhost:8080/"
        },
        "id": "Kby0U-TEwt8M",
        "outputId": "00199a93-11f6-44d3-de64-d82ae3936ca3"
      },
      "source": [
        "media = 5.5\n",
        "if media < 6.9:\n",
        "\tprint (\"Você foi reprovado\")\n",
        "else:\n",
        "\tprint (\"Você foi aprovado\")"
      ],
      "execution_count": null,
      "outputs": [
        {
          "output_type": "stream",
          "name": "stdout",
          "text": [
            "Você foi reprovado\n"
          ]
        }
      ]
    },
    {
      "cell_type": "code",
      "metadata": {
        "colab": {
          "base_uri": "https://localhost:8080/"
        },
        "id": "-FOOMOamw5fF",
        "outputId": "c09cb1bb-4186-49a6-c6d3-f354a07c73f4"
      },
      "source": [
        "# é possível incluit mais um argumento\n",
        "if media < 5:\n",
        "\tprint (\"Você foi reprovado\")\n",
        "elif media > 5 and media < 7:\n",
        "\tprint (\"Você fará a recuperação\")\n",
        "else:\n",
        "\tprint (\"Você foi aprovado\")"
      ],
      "execution_count": null,
      "outputs": [
        {
          "output_type": "stream",
          "name": "stdout",
          "text": [
            "Você fará a recuperação\n"
          ]
        }
      ]
    },
    {
      "cell_type": "markdown",
      "metadata": {
        "id": "fMrij09DxL6f"
      },
      "source": [
        "### CUIDADOS COM IDENTAÇÃO NO PYTHON\n"
      ]
    },
    {
      "cell_type": "code",
      "metadata": {
        "id": "HXvYVLO3xKbu"
      },
      "source": [
        "#EXEMPLO ERRO"
      ],
      "execution_count": null,
      "outputs": []
    },
    {
      "cell_type": "markdown",
      "metadata": {
        "id": "zydEzDTE3liX"
      },
      "source": [
        "### Exemplos"
      ]
    },
    {
      "cell_type": "code",
      "metadata": {
        "id": "mhaT7HTSxR-j",
        "colab": {
          "base_uri": "https://localhost:8080/"
        },
        "outputId": "7348d114-6752-4764-b8a8-4ee8fa0ae941"
      },
      "source": [
        "#usando operador relacional ==\n",
        "concluiu = \"sim\"\n",
        "entregou_ativ = \"nao\"\n",
        "if (concluiu == \"nao\"):\n",
        "  print(\"Você não receberá seu certificado\")\n",
        "else:\n",
        "  print(\"Seu certificado será entre em Dezembro\")\n"
      ],
      "execution_count": 8,
      "outputs": [
        {
          "output_type": "stream",
          "name": "stdout",
          "text": [
            "Seu certificado será entre em Dezembro\n"
          ]
        }
      ]
    },
    {
      "cell_type": "code",
      "metadata": {
        "colab": {
          "base_uri": "https://localhost:8080/"
        },
        "id": "OjdB1_-r1kkW",
        "outputId": "41977d94-e164-40b8-aed8-3012f43c37c7"
      },
      "source": [
        "#usando operador lógico \"OR\"\n",
        "if (concluiu == \"nao\") or (entregou_ativ == \"nao\"):\n",
        "  print(\"Você não receberá seu certificado\")\n",
        "else:\n",
        "  print(\"Seu certificado será entre em Dezembro\")"
      ],
      "execution_count": 9,
      "outputs": [
        {
          "output_type": "stream",
          "name": "stdout",
          "text": [
            "Você não receberá seu certificado\n"
          ]
        }
      ]
    },
    {
      "cell_type": "code",
      "metadata": {
        "colab": {
          "base_uri": "https://localhost:8080/"
        },
        "id": "42KFqu1q4h6c",
        "outputId": "6af3ce66-cabd-4932-ae91-ff39908f403c"
      },
      "source": [
        "#usando operador \"!=\", diferente\n",
        "valor = 7\n",
        "if (valor%2 != 0):\n",
        "  print(\"Esse número é impar!\")\n",
        "else:\n",
        "  print(\"Esse número é par!\")"
      ],
      "execution_count": 11,
      "outputs": [
        {
          "output_type": "stream",
          "name": "stdout",
          "text": [
            "Esse número é impar!\n"
          ]
        }
      ]
    },
    {
      "cell_type": "code",
      "metadata": {
        "colab": {
          "base_uri": "https://localhost:8080/"
        },
        "id": "yuSsYUhv5UHk",
        "outputId": "fe48b246-cb4f-4cd0-e5ba-c33a2902b3bd"
      },
      "source": [
        "#usando operador lógico \"e\"\n",
        "idade = int(input(\"Qual sua idade: \"))\n",
        "resp = input(\"Carta Motorista ativa? Digite sim ou não\")\n",
        "\n",
        "if (idade >= 18) and (resp == \"sim\"):\n",
        "  print(\"Você pode dirigir!!\")\n",
        "else:\n",
        "  print(\"Você não pode dirigir\")\n",
        "\n",
        "\n"
      ],
      "execution_count": 18,
      "outputs": [
        {
          "output_type": "stream",
          "name": "stdout",
          "text": [
            "Qual sua idade: 18\n",
            "Carta Motorista ativa? Digite sim ou nãosim\n",
            "Você pode dirigir!!\n"
          ]
        }
      ]
    },
    {
      "cell_type": "markdown",
      "metadata": {
        "id": "uQFTjCN-9Xty"
      },
      "source": [
        "## Laços de Repetição\n",
        "\n"
      ]
    },
    {
      "cell_type": "markdown",
      "metadata": {
        "id": "LeWIi0Q0_BK2"
      },
      "source": [
        "![lacos.jpg](data:image/jpeg;base64,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)"
      ]
    },
    {
      "cell_type": "markdown",
      "metadata": {
        "id": "BFWutRUr9tZj"
      },
      "source": [
        "\n",
        "As estruturas de repetição também são conhecidas como laços (loops) e são utilizados para executar, repetidamente, uma instrução ou bloco de instrução enquanto determinada condição estiver sendo satisfeita.\n",
        "\n",
        "Qualquer que seja a estrutura de repetição, ela contém quatro elementos fundamentais: **inicialização, condição, corpo e iteração**. A inicialização compõe-se de todo código que determina a **condição inicial da repetição**. A condição é uma expressão booleana avaliada após cada leitura do corpo e determina se uma nova leitura deve ser feita ou se a estrutura de repetição deve ser encerrada. O corpo compõe-se de todas as instruções que são executadas repetidamente. A iteração é a instrução que deve ser executada depois do corpo e antes de uma nova repetição."
      ]
    },
    {
      "cell_type": "markdown",
      "metadata": {
        "id": "pmbv9NxFC3x-"
      },
      "source": [
        "### LAÇO FOR"
      ]
    },
    {
      "cell_type": "code",
      "metadata": {
        "colab": {
          "base_uri": "https://localhost:8080/"
        },
        "id": "O4ALl_IM9fa7",
        "outputId": "4f55a2be-8e9e-4dd8-85c5-6d3b8ef469a9"
      },
      "source": [
        "# Criando uma lista e imprimindo cada um dos valores\n",
        "ListaDoMercado = [\"Leite\", \"Frutas\", \"Carne\"]\n",
        "for i in ListaDoMercado:\n",
        "    print(i)"
      ],
      "execution_count": 19,
      "outputs": [
        {
          "output_type": "stream",
          "name": "stdout",
          "text": [
            "Leite\n",
            "Frutas\n",
            "Carne\n"
          ]
        }
      ]
    },
    {
      "cell_type": "code",
      "metadata": {
        "colab": {
          "base_uri": "https://localhost:8080/"
        },
        "id": "i-W26j8VBaM0",
        "outputId": "1a18e2ae-a59d-4480-abb2-31a414673278"
      },
      "source": [
        "# Imprimindo os valores no intervalo entre 0 e 5 (exclusive)\n",
        "for contador in range(0,5):\n",
        "    print(contador)"
      ],
      "execution_count": 27,
      "outputs": [
        {
          "output_type": "stream",
          "name": "stdout",
          "text": [
            "0\n",
            "1\n",
            "2\n",
            "3\n",
            "4\n"
          ]
        }
      ]
    },
    {
      "cell_type": "code",
      "metadata": {
        "colab": {
          "base_uri": "https://localhost:8080/"
        },
        "id": "oAqeS2sTBfxy",
        "outputId": "d3fb393b-d83e-417d-d2d8-2e00ec6bbd2b"
      },
      "source": [
        "# Imprimindo na tela os números pares da lista de números\n",
        "lista = [1,2,3,4,5,6,7,8,9,10]\n",
        "for num in lista:\n",
        "    if num % 2 == 0:\n",
        "        print (num)"
      ],
      "execution_count": 28,
      "outputs": [
        {
          "output_type": "stream",
          "name": "stdout",
          "text": [
            "2\n",
            "4\n",
            "6\n",
            "8\n",
            "10\n"
          ]
        }
      ]
    },
    {
      "cell_type": "code",
      "metadata": {
        "colab": {
          "base_uri": "https://localhost:8080/"
        },
        "id": "-ICosZS5_ftc",
        "outputId": "af9d04b2-6432-4a81-e233-87a64e55b902"
      },
      "source": [
        "# ou pode pedir para alguém preencher a lista, vamos cadastrar um time de vôlei\n",
        "volei = []\n",
        "qtde = 6\n",
        "for i in range(qtde):\n",
        "  resp = input(\"Jogador: \")\n",
        "  volei.append(resp)\n",
        "print(\"Jogadores escalados: \", volei)\n"
      ],
      "execution_count": 26,
      "outputs": [
        {
          "output_type": "stream",
          "name": "stdout",
          "text": [
            "Jogador: Alberto\n",
            "Jogador: Rafale\n",
            "Jogador: Orrega\n",
            "Jogador: Mauricio\n",
            "Jogador: João\n",
            "Jogador: Pedro\n",
            "Jogadores escalados:  ['Alberto', 'Rafale', 'Orrega', 'Mauricio', 'João', 'Pedro']\n"
          ]
        }
      ]
    },
    {
      "cell_type": "code",
      "metadata": {
        "colab": {
          "base_uri": "https://localhost:8080/"
        },
        "id": "_GlEzm96Bmcz",
        "outputId": "94ab7d3d-b18d-4ec0-91fe-c4ff54ae8932"
      },
      "source": [
        "# Listando os números no intervalo entre 0 e 101, com incremento em 2\n",
        "for i in range(0,101,2):  \n",
        "    print(i)"
      ],
      "execution_count": 29,
      "outputs": [
        {
          "output_type": "stream",
          "name": "stdout",
          "text": [
            "0\n",
            "2\n",
            "4\n",
            "6\n",
            "8\n",
            "10\n",
            "12\n",
            "14\n",
            "16\n",
            "18\n",
            "20\n",
            "22\n",
            "24\n",
            "26\n",
            "28\n",
            "30\n",
            "32\n",
            "34\n",
            "36\n",
            "38\n",
            "40\n",
            "42\n",
            "44\n",
            "46\n",
            "48\n",
            "50\n",
            "52\n",
            "54\n",
            "56\n",
            "58\n",
            "60\n",
            "62\n",
            "64\n",
            "66\n",
            "68\n",
            "70\n",
            "72\n",
            "74\n",
            "76\n",
            "78\n",
            "80\n",
            "82\n",
            "84\n",
            "86\n",
            "88\n",
            "90\n",
            "92\n",
            "94\n",
            "96\n",
            "98\n",
            "100\n"
          ]
        }
      ]
    },
    {
      "cell_type": "code",
      "metadata": {
        "colab": {
          "base_uri": "https://localhost:8080/"
        },
        "id": "7j3Dgib4BrGn",
        "outputId": "75a21a9c-92be-40b7-b3a7-ce950bbeb527"
      },
      "source": [
        "# Strings também são sequências\n",
        "for caracter in 'Python é uma linguagem de programação divertida!':\n",
        "    print (caracter)"
      ],
      "execution_count": 30,
      "outputs": [
        {
          "output_type": "stream",
          "name": "stdout",
          "text": [
            "P\n",
            "y\n",
            "t\n",
            "h\n",
            "o\n",
            "n\n",
            " \n",
            "é\n",
            " \n",
            "u\n",
            "m\n",
            "a\n",
            " \n",
            "l\n",
            "i\n",
            "n\n",
            "g\n",
            "u\n",
            "a\n",
            "g\n",
            "e\n",
            "m\n",
            " \n",
            "d\n",
            "e\n",
            " \n",
            "p\n",
            "r\n",
            "o\n",
            "g\n",
            "r\n",
            "a\n",
            "m\n",
            "a\n",
            "ç\n",
            "ã\n",
            "o\n",
            " \n",
            "d\n",
            "i\n",
            "v\n",
            "e\n",
            "r\n",
            "t\n",
            "i\n",
            "d\n",
            "a\n",
            "!\n"
          ]
        }
      ]
    },
    {
      "cell_type": "code",
      "metadata": {
        "colab": {
          "base_uri": "https://localhost:8080/"
        },
        "id": "Vocdz3HJCB6r",
        "outputId": "2991662a-64ac-4acb-c851-07bdc8ebccb2"
      },
      "source": [
        "# transformando string em lista e depois imprimindo cada palavras\n",
        "frase = 'Python é uma linguagem de programação divertida!'\n",
        "fraseLista = frase.split()\n",
        "fraseLista"
      ],
      "execution_count": 35,
      "outputs": [
        {
          "output_type": "execute_result",
          "data": {
            "text/plain": [
              "['Python', 'é', 'uma', 'linguagem', 'de', 'programação', 'divertida!']"
            ]
          },
          "metadata": {},
          "execution_count": 35
        }
      ]
    },
    {
      "cell_type": "code",
      "metadata": {
        "colab": {
          "base_uri": "https://localhost:8080/"
        },
        "id": "UYNhBIuWCT9H",
        "outputId": "a875225f-8bfd-44f5-ab26-8075cc5a34ab"
      },
      "source": [
        "for palavra in fraseLista:\n",
        "  print(palavra)\n"
      ],
      "execution_count": 36,
      "outputs": [
        {
          "output_type": "stream",
          "name": "stdout",
          "text": [
            "Python\n",
            "é\n",
            "uma\n",
            "linguagem\n",
            "de\n",
            "programação\n",
            "divertida!\n"
          ]
        }
      ]
    },
    {
      "cell_type": "code",
      "metadata": {
        "colab": {
          "base_uri": "https://localhost:8080/"
        },
        "id": "QKYnx0quB_hf",
        "outputId": "6cffacd0-2648-40ac-a9b0-2aabcf14e1d2"
      },
      "source": [
        "# Listando as chaves de um dicionário\n",
        "dict = {'k1':'Python','k2':'R','k3':'Scala'}\n",
        "for item in dict:\n",
        "    print(item)"
      ],
      "execution_count": 31,
      "outputs": [
        {
          "output_type": "stream",
          "name": "stdout",
          "text": [
            "k1\n",
            "k2\n",
            "k3\n"
          ]
        }
      ]
    },
    {
      "cell_type": "code",
      "metadata": {
        "colab": {
          "base_uri": "https://localhost:8080/"
        },
        "id": "o9_7J820Cj1c",
        "outputId": "70db527c-62c1-42d3-ae3c-5ed2f4f61ab1"
      },
      "source": [
        "# Imprimindo chave e valor do dicionário. Usando o método items() para retornar os itens de um dicionário\n",
        "for k,v in dict.items():\n",
        "    print (k,v)"
      ],
      "execution_count": 37,
      "outputs": [
        {
          "output_type": "stream",
          "name": "stdout",
          "text": [
            "k1 Python\n",
            "k2 R\n",
            "k3 Scala\n"
          ]
        }
      ]
    },
    {
      "cell_type": "markdown",
      "metadata": {
        "id": "CT-gMs0NC8MG"
      },
      "source": [
        "### LAÇO WHILE"
      ]
    },
    {
      "cell_type": "code",
      "metadata": {
        "colab": {
          "base_uri": "https://localhost:8080/"
        },
        "id": "5jWgyspmC7nD",
        "outputId": "e5201283-e044-462d-d0c3-4fbd94c63b63"
      },
      "source": [
        "# Usando o loop while para imprimir os valores de 0 a 9\n",
        "counter = 0\n",
        "while counter < 10:\n",
        "    print(counter)\n",
        "    counter = counter + 1"
      ],
      "execution_count": 38,
      "outputs": [
        {
          "output_type": "stream",
          "name": "stdout",
          "text": [
            "0\n",
            "1\n",
            "2\n",
            "3\n",
            "4\n",
            "5\n",
            "6\n",
            "7\n",
            "8\n",
            "9\n"
          ]
        }
      ]
    },
    {
      "cell_type": "code",
      "metadata": {
        "colab": {
          "base_uri": "https://localhost:8080/"
        },
        "id": "9USx75xlDFqf",
        "outputId": "c3c79125-e11d-42da-c308-c5ac86807c69"
      },
      "source": [
        "# Também é possível usar a claúsula else para encerrar o loop while\n",
        "x = 0\n",
        "\n",
        "while x < 10:\n",
        "    print ('O valor de x nesta iteração é: ', x)\n",
        "    print (' x ainda é menor que 10, somando 1 a x')\n",
        "    x += 1\n",
        "    \n",
        "else:\n",
        "    print ('Loop concluído!')"
      ],
      "execution_count": 39,
      "outputs": [
        {
          "output_type": "stream",
          "name": "stdout",
          "text": [
            "O valor de x nesta iteração é:  0\n",
            " x ainda é menor que 10, somando 1 a x\n",
            "O valor de x nesta iteração é:  1\n",
            " x ainda é menor que 10, somando 1 a x\n",
            "O valor de x nesta iteração é:  2\n",
            " x ainda é menor que 10, somando 1 a x\n",
            "O valor de x nesta iteração é:  3\n",
            " x ainda é menor que 10, somando 1 a x\n",
            "O valor de x nesta iteração é:  4\n",
            " x ainda é menor que 10, somando 1 a x\n",
            "O valor de x nesta iteração é:  5\n",
            " x ainda é menor que 10, somando 1 a x\n",
            "O valor de x nesta iteração é:  6\n",
            " x ainda é menor que 10, somando 1 a x\n",
            "O valor de x nesta iteração é:  7\n",
            " x ainda é menor que 10, somando 1 a x\n",
            "O valor de x nesta iteração é:  8\n",
            " x ainda é menor que 10, somando 1 a x\n",
            "O valor de x nesta iteração é:  9\n",
            " x ainda é menor que 10, somando 1 a x\n",
            "Loop concluído!\n"
          ]
        }
      ]
    },
    {
      "cell_type": "markdown",
      "metadata": {
        "id": "aoRtTviZDbGf"
      },
      "source": [
        "### Pass, Break, Continue"
      ]
    },
    {
      "cell_type": "code",
      "metadata": {
        "colab": {
          "base_uri": "https://localhost:8080/"
        },
        "id": "yTcWMwENDNse",
        "outputId": "c062a248-6d00-4b92-d84e-cbf975afe635"
      },
      "source": [
        "counter = 0\n",
        "while counter < 100:\n",
        "    if counter == 10:\n",
        "        break\n",
        "    else:\n",
        "        pass\n",
        "    print(counter)\n",
        "    counter = counter + 1"
      ],
      "execution_count": 44,
      "outputs": [
        {
          "output_type": "stream",
          "name": "stdout",
          "text": [
            "0\n",
            "1\n",
            "2\n",
            "3\n",
            "4\n",
            "5\n",
            "6\n",
            "7\n",
            "8\n",
            "9\n"
          ]
        }
      ]
    },
    {
      "cell_type": "code",
      "metadata": {
        "colab": {
          "base_uri": "https://localhost:8080/"
        },
        "id": "0amSRBlLDxdR",
        "outputId": "9e0bd7b9-9144-4d72-b6a2-10d9c6d1195e"
      },
      "source": [
        "for verificador in \"Python\":\n",
        "    if verificador == \"h\":\n",
        "        continue\n",
        "    print(verificador)"
      ],
      "execution_count": 41,
      "outputs": [
        {
          "output_type": "stream",
          "name": "stdout",
          "text": [
            "P\n",
            "y\n",
            "t\n",
            "o\n",
            "n\n"
          ]
        }
      ]
    },
    {
      "cell_type": "markdown",
      "metadata": {
        "id": "MVki4Eq6sAMi"
      },
      "source": [
        "### While e For juntos"
      ]
    },
    {
      "cell_type": "code",
      "metadata": {
        "colab": {
          "base_uri": "https://localhost:8080/"
        },
        "id": "V8wtN4n3D1c-",
        "outputId": "b4ed31ac-3845-4080-96b2-043c9c8b8c82"
      },
      "source": [
        "for i in range(2,30):\n",
        "    j = 2\n",
        "    counter = 0\n",
        "    while j < i:\n",
        "        if i % j == 0:\n",
        "            counter = 1\n",
        "            j = j + 1\n",
        "        else:\n",
        "            j = j + 1\n",
        "    \n",
        "    if counter == 0:\n",
        "        print(str(i) + \" é um número primo\")\n",
        "        counter = 0\n",
        "    else:\n",
        "        counter = 0"
      ],
      "execution_count": 45,
      "outputs": [
        {
          "output_type": "stream",
          "name": "stdout",
          "text": [
            "2 é um número primo\n",
            "3 é um número primo\n",
            "5 é um número primo\n",
            "7 é um número primo\n",
            "11 é um número primo\n",
            "13 é um número primo\n",
            "17 é um número primo\n",
            "19 é um número primo\n",
            "23 é um número primo\n",
            "29 é um número primo\n"
          ]
        }
      ]
    },
    {
      "cell_type": "code",
      "metadata": {
        "id": "eg_AlvjzEfl7"
      },
      "source": [
        ""
      ],
      "execution_count": null,
      "outputs": []
    }
  ]
}