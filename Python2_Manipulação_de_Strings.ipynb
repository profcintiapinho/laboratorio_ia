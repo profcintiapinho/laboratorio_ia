{
  "nbformat": 4,
  "nbformat_minor": 0,
  "metadata": {
    "anaconda-cloud": {},
    "kernelspec": {
      "display_name": "Python 3",
      "language": "python",
      "name": "python3"
    },
    "language_info": {
      "codemirror_mode": {
        "name": "ipython",
        "version": 3
      },
      "file_extension": ".py",
      "mimetype": "text/x-python",
      "name": "python",
      "nbconvert_exporter": "python",
      "pygments_lexer": "ipython3",
      "version": "3.8.5"
    },
    "colab": {
      "name": "Python2  - Manipulação_de_Strings.ipynb",
      "provenance": [],
      "include_colab_link": true
    }
  },
  "cells": [
    {
      "cell_type": "markdown",
      "metadata": {
        "id": "view-in-github",
        "colab_type": "text"
      },
      "source": [
        "<a href=\"https://colab.research.google.com/github/profcintiapinho/laboratorio_ia/blob/main/Python2_Manipula%C3%A7%C3%A3o_de_Strings.ipynb\" target=\"_parent\"><img src=\"https://colab.research.google.com/assets/colab-badge.svg\" alt=\"Open In Colab\"/></a>"
      ]
    },
    {
      "cell_type": "markdown",
      "metadata": {
        "id": "I1ehIpNz59cf"
      },
      "source": [
        "# <font color='blue'>Manipulação de Strings</font>\n",
        "\n"
      ]
    },
    {
      "cell_type": "markdown",
      "metadata": {
        "id": "McfjLZAB59cq"
      },
      "source": [
        "## Strings"
      ]
    },
    {
      "cell_type": "markdown",
      "metadata": {
        "id": "kzNLBxNZ59cs"
      },
      "source": [
        "### Criando uma String\n",
        "Para criar uma string em Python você pode usar aspas simples ou duplas. Por exemplo:"
      ]
    },
    {
      "cell_type": "code",
      "metadata": {
        "id": "rJvkUN0c59cu",
        "outputId": "0f8ffb95-b47b-438a-e55b-9a37b3f471ad"
      },
      "source": [
        "# Uma única palavra\n",
        "'Oi'"
      ],
      "execution_count": null,
      "outputs": [
        {
          "data": {
            "text/plain": [
              "'Oi'"
            ]
          },
          "execution_count": 2,
          "metadata": {},
          "output_type": "execute_result"
        }
      ]
    },
    {
      "cell_type": "code",
      "metadata": {
        "id": "aW2sxHRn59cz",
        "outputId": "b39e2e50-3043-4ae8-fc97-e654172fcb18"
      },
      "source": [
        "# Uma frase\n",
        "'Criando uma string em Python'"
      ],
      "execution_count": null,
      "outputs": [
        {
          "data": {
            "text/plain": [
              "'Criando uma string em Python'"
            ]
          },
          "execution_count": 3,
          "metadata": {},
          "output_type": "execute_result"
        }
      ]
    },
    {
      "cell_type": "code",
      "metadata": {
        "id": "Nal_N69_59c0",
        "outputId": "e4a2f365-0702-4db0-f1c2-17524b7e078b"
      },
      "source": [
        "# Podemos usar aspas duplas\n",
        "\"Podemos usar aspas duplas ou simples para strings em Python\""
      ],
      "execution_count": null,
      "outputs": [
        {
          "data": {
            "text/plain": [
              "'Podemos usar aspas duplas ou simples para strings em Python'"
            ]
          },
          "execution_count": 4,
          "metadata": {},
          "output_type": "execute_result"
        }
      ]
    },
    {
      "cell_type": "code",
      "metadata": {
        "id": "DlrpFXm259c2",
        "outputId": "553797a9-b449-4f16-d09d-5c060e23d165"
      },
      "source": [
        "# Você pode combinar aspas duplas e simples\n",
        "\"Testando strings em 'Python'\""
      ],
      "execution_count": null,
      "outputs": [
        {
          "data": {
            "text/plain": [
              "\"Testando strings em 'Python'\""
            ]
          },
          "execution_count": 5,
          "metadata": {},
          "output_type": "execute_result"
        }
      ]
    },
    {
      "cell_type": "markdown",
      "metadata": {
        "id": "RL5_77Zu59c4"
      },
      "source": [
        "### Imprimindo uma String"
      ]
    },
    {
      "cell_type": "code",
      "metadata": {
        "id": "xa9RAVAA59c5",
        "outputId": "3fe9c007-def1-4c0f-85ec-61cc52ebb0f7"
      },
      "source": [
        "print ('Testando Strings em Python')"
      ],
      "execution_count": null,
      "outputs": [
        {
          "name": "stdout",
          "output_type": "stream",
          "text": [
            "Testando Strings em Python\n"
          ]
        }
      ]
    },
    {
      "cell_type": "code",
      "metadata": {
        "id": "2owdUlKW59c7",
        "outputId": "3e1032dc-5378-4743-f00f-2a4f769c19e2"
      },
      "source": [
        "print ('Testando \\nStrings \\nem \\nPython')"
      ],
      "execution_count": null,
      "outputs": [
        {
          "name": "stdout",
          "output_type": "stream",
          "text": [
            "Testando \n",
            "Strings \n",
            "em \n",
            "Python\n"
          ]
        }
      ]
    },
    {
      "cell_type": "code",
      "metadata": {
        "id": "PEU0wbjy59c9",
        "outputId": "2cc191d5-5791-4913-b5af-29045dc68cbd"
      },
      "source": [
        "print ('\\n')"
      ],
      "execution_count": null,
      "outputs": [
        {
          "name": "stdout",
          "output_type": "stream",
          "text": [
            "\n",
            "\n"
          ]
        }
      ]
    },
    {
      "cell_type": "markdown",
      "metadata": {
        "id": "FDnLIJmO59c-"
      },
      "source": [
        "### Indexando Strings"
      ]
    },
    {
      "cell_type": "code",
      "metadata": {
        "id": "eCD2sf4O59c_"
      },
      "source": [
        "# Atribuindo uma string\n",
        "s = 'Etec MCM'"
      ],
      "execution_count": null,
      "outputs": []
    },
    {
      "cell_type": "code",
      "metadata": {
        "id": "BWHZLsHa59dA",
        "outputId": "41d6c49d-cc9a-4495-d368-b6747db51e93"
      },
      "source": [
        "print(s)"
      ],
      "execution_count": null,
      "outputs": [
        {
          "name": "stdout",
          "output_type": "stream",
          "text": [
            "Etec MCM\n"
          ]
        }
      ]
    },
    {
      "cell_type": "code",
      "metadata": {
        "id": "HXvZ8xSl59dB",
        "outputId": "8d1b3378-ec3b-439d-ce5a-89b4d84cb8b4"
      },
      "source": [
        "# Primeiro elemento da string. \n",
        "s[0]"
      ],
      "execution_count": null,
      "outputs": [
        {
          "data": {
            "text/plain": [
              "'E'"
            ]
          },
          "execution_count": 3,
          "metadata": {},
          "output_type": "execute_result"
        }
      ]
    },
    {
      "cell_type": "code",
      "metadata": {
        "id": "GK0cgdpa59dD",
        "outputId": "8cf88a29-040b-4e21-a240-8b3c93178805"
      },
      "source": [
        "s[1]"
      ],
      "execution_count": null,
      "outputs": [
        {
          "data": {
            "text/plain": [
              "'t'"
            ]
          },
          "execution_count": 4,
          "metadata": {},
          "output_type": "execute_result"
        }
      ]
    },
    {
      "cell_type": "code",
      "metadata": {
        "id": "Q5cVQ86J59dF",
        "outputId": "f7b4944a-3524-4766-9ba2-3dce033c020a"
      },
      "source": [
        "s[2]"
      ],
      "execution_count": null,
      "outputs": [
        {
          "data": {
            "text/plain": [
              "'e'"
            ]
          },
          "execution_count": 5,
          "metadata": {},
          "output_type": "execute_result"
        }
      ]
    },
    {
      "cell_type": "code",
      "metadata": {
        "id": "xcJ7xZPs59dF",
        "outputId": "d7ab242a-879a-4a7e-81f9-9d64cab9e983"
      },
      "source": [
        "s[3]"
      ],
      "execution_count": null,
      "outputs": [
        {
          "data": {
            "text/plain": [
              "'c'"
            ]
          },
          "execution_count": 6,
          "metadata": {},
          "output_type": "execute_result"
        }
      ]
    },
    {
      "cell_type": "markdown",
      "metadata": {
        "id": "vRXXOwRK59dG"
      },
      "source": [
        "Podemos usar um : para executar um slicing que faz a leitura de tudo até um ponto designado. Por exemplo:"
      ]
    },
    {
      "cell_type": "code",
      "metadata": {
        "id": "-ZpKCCDP59dH",
        "outputId": "e14d7b16-786b-46a3-a549-51d392dcd6b9"
      },
      "source": [
        "# Retorna todos os elementos da string, começando pela posição (lembre-se que Python começa a indexação pela posição 0),\n",
        "# até o fim da string.\n",
        "s[1:]"
      ],
      "execution_count": null,
      "outputs": [
        {
          "data": {
            "text/plain": [
              "'tec MCM'"
            ]
          },
          "execution_count": 7,
          "metadata": {},
          "output_type": "execute_result"
        }
      ]
    },
    {
      "cell_type": "code",
      "metadata": {
        "id": "zOLR9QsI59dJ",
        "outputId": "1e15b499-55b3-4699-f743-0fc8429b5f2d"
      },
      "source": [
        "# A string original permanece inalterada\n",
        "s"
      ],
      "execution_count": null,
      "outputs": [
        {
          "data": {
            "text/plain": [
              "'Etec MCM'"
            ]
          },
          "execution_count": 8,
          "metadata": {},
          "output_type": "execute_result"
        }
      ]
    },
    {
      "cell_type": "code",
      "metadata": {
        "id": "SvR7sRCG59dK",
        "outputId": "957072b0-8004-4f0a-96e8-c7ddccb6cc87"
      },
      "source": [
        "# Retorna tudo até a posição 4\n",
        "s[:4]"
      ],
      "execution_count": null,
      "outputs": [
        {
          "data": {
            "text/plain": [
              "'Etec'"
            ]
          },
          "execution_count": 10,
          "metadata": {},
          "output_type": "execute_result"
        }
      ]
    },
    {
      "cell_type": "code",
      "metadata": {
        "id": "_aViWsZm59dL",
        "outputId": "a38e041b-f825-4920-eeb5-36d7f5ad073e"
      },
      "source": [
        "s[:]"
      ],
      "execution_count": null,
      "outputs": [
        {
          "data": {
            "text/plain": [
              "'Etec MCM'"
            ]
          },
          "execution_count": 11,
          "metadata": {},
          "output_type": "execute_result"
        }
      ]
    },
    {
      "cell_type": "code",
      "metadata": {
        "id": "hm9QlZAp59dM",
        "outputId": "bbcbbd82-5568-4c32-c92c-567470949bfd"
      },
      "source": [
        "# Nós também podemos usar a indexação negativa e ler de trás para frente.\n",
        "s[-1]"
      ],
      "execution_count": null,
      "outputs": [
        {
          "data": {
            "text/plain": [
              "'M'"
            ]
          },
          "execution_count": 12,
          "metadata": {},
          "output_type": "execute_result"
        }
      ]
    },
    {
      "cell_type": "code",
      "metadata": {
        "id": "0FxIUiwf59dN",
        "outputId": "15eb055a-68f8-4a98-d12d-719b627c1d69"
      },
      "source": [
        "# Retornar tudo, exceto a última letra\n",
        "s[:-1]"
      ],
      "execution_count": null,
      "outputs": [
        {
          "data": {
            "text/plain": [
              "'Etec MC'"
            ]
          },
          "execution_count": 13,
          "metadata": {},
          "output_type": "execute_result"
        }
      ]
    },
    {
      "cell_type": "markdown",
      "metadata": {
        "id": "CMuEIerY59dO"
      },
      "source": [
        "Nós também podemos usar a notação de índice e fatiar a string em pedaços específicos (o padrão é 1). Por exemplo, podemos usar dois pontos duas vezes em uma linha e, em seguida, um número que especifica a frequência para retornar elementos. Por exemplo:"
      ]
    },
    {
      "cell_type": "code",
      "metadata": {
        "id": "pict8CL059dO",
        "outputId": "51b4ca2a-fa7d-4de7-bc4f-93c3db63e663"
      },
      "source": [
        "s[::1]"
      ],
      "execution_count": null,
      "outputs": [
        {
          "data": {
            "text/plain": [
              "'Etec MCM'"
            ]
          },
          "execution_count": 14,
          "metadata": {},
          "output_type": "execute_result"
        }
      ]
    },
    {
      "cell_type": "code",
      "metadata": {
        "id": "_09pGnUJ59dP",
        "outputId": "9f24bd63-fcaa-4b22-9d3b-4efa82856725"
      },
      "source": [
        "s[::2]"
      ],
      "execution_count": null,
      "outputs": [
        {
          "data": {
            "text/plain": [
              "'Ee C'"
            ]
          },
          "execution_count": 15,
          "metadata": {},
          "output_type": "execute_result"
        }
      ]
    },
    {
      "cell_type": "code",
      "metadata": {
        "id": "k8ClpFO859dQ",
        "outputId": "1a8444d2-85e6-4053-e713-fe53798255f7"
      },
      "source": [
        "s[::-1]"
      ],
      "execution_count": null,
      "outputs": [
        {
          "data": {
            "text/plain": [
              "'MCM cetE'"
            ]
          },
          "execution_count": 16,
          "metadata": {},
          "output_type": "execute_result"
        }
      ]
    },
    {
      "cell_type": "markdown",
      "metadata": {
        "id": "za-BLMHZ59dQ"
      },
      "source": [
        "### Propriedades de Strings"
      ]
    },
    {
      "cell_type": "code",
      "metadata": {
        "id": "XpHy1Koi59dR",
        "outputId": "315c25e4-57d7-4e58-cae1-b153c3154117"
      },
      "source": [
        "s"
      ],
      "execution_count": null,
      "outputs": [
        {
          "data": {
            "text/plain": [
              "'Etec MCM'"
            ]
          },
          "execution_count": 17,
          "metadata": {},
          "output_type": "execute_result"
        }
      ]
    },
    {
      "cell_type": "code",
      "metadata": {
        "id": "sKn1MFGh59dS",
        "outputId": "e368b28e-f12d-4e9c-b43c-0abfcf45b671"
      },
      "source": [
        "# Alterando um caracter\n",
        "s[0] = 'x'"
      ],
      "execution_count": null,
      "outputs": [
        {
          "ename": "TypeError",
          "evalue": "'str' object does not support item assignment",
          "output_type": "error",
          "traceback": [
            "\u001b[1;31m---------------------------------------------------------------------------\u001b[0m",
            "\u001b[1;31mTypeError\u001b[0m                                 Traceback (most recent call last)",
            "\u001b[1;32m<ipython-input-18-3bfedcfbac44>\u001b[0m in \u001b[0;36m<module>\u001b[1;34m\u001b[0m\n\u001b[0;32m      1\u001b[0m \u001b[1;31m# Alterando um caracter\u001b[0m\u001b[1;33m\u001b[0m\u001b[1;33m\u001b[0m\u001b[1;33m\u001b[0m\u001b[0m\n\u001b[1;32m----> 2\u001b[1;33m \u001b[0ms\u001b[0m\u001b[1;33m[\u001b[0m\u001b[1;36m0\u001b[0m\u001b[1;33m]\u001b[0m \u001b[1;33m=\u001b[0m \u001b[1;34m'x'\u001b[0m\u001b[1;33m\u001b[0m\u001b[1;33m\u001b[0m\u001b[0m\n\u001b[0m",
            "\u001b[1;31mTypeError\u001b[0m: 'str' object does not support item assignment"
          ]
        }
      ]
    },
    {
      "cell_type": "code",
      "metadata": {
        "id": "Om0RG0s159dS",
        "outputId": "15ee361e-d213-48a9-847a-dad23084175e"
      },
      "source": [
        "# Concatenando strings\n",
        "s + ' é a melhor escola de Ribeirão Pires!'"
      ],
      "execution_count": null,
      "outputs": [
        {
          "data": {
            "text/plain": [
              "'Etec MCM é a melhor escola de Ribeirão Pires!'"
            ]
          },
          "execution_count": 23,
          "metadata": {},
          "output_type": "execute_result"
        }
      ]
    },
    {
      "cell_type": "code",
      "metadata": {
        "id": "NCE-s4CC59dU",
        "outputId": "8a5ac2b4-5596-43b9-e046-58dd9350784e"
      },
      "source": [
        "s"
      ],
      "execution_count": null,
      "outputs": [
        {
          "data": {
            "text/plain": [
              "'Etec MCM'"
            ]
          },
          "execution_count": 24,
          "metadata": {},
          "output_type": "execute_result"
        }
      ]
    },
    {
      "cell_type": "code",
      "metadata": {
        "id": "FtFgOpD159dU"
      },
      "source": [
        "s = s + ' é a melhor escola de Ribeirão Pires!'"
      ],
      "execution_count": null,
      "outputs": []
    },
    {
      "cell_type": "code",
      "metadata": {
        "id": "wgC3GLd159dV",
        "outputId": "94beea80-e94b-4aa0-b06b-2f512008d742"
      },
      "source": [
        "print(s)"
      ],
      "execution_count": null,
      "outputs": [
        {
          "name": "stdout",
          "output_type": "stream",
          "text": [
            "Etec MCM é a melhor escola de Ribeirão Pires!\n"
          ]
        }
      ]
    },
    {
      "cell_type": "code",
      "metadata": {
        "id": "nZjV86n-59dX"
      },
      "source": [
        "# Podemos usar o símbolo de multiplicação para criar repetição!\n",
        "letra = 'w'"
      ],
      "execution_count": null,
      "outputs": []
    },
    {
      "cell_type": "code",
      "metadata": {
        "id": "om-lIN0h59dX",
        "outputId": "a0d0c304-4940-4eb0-b7f3-2016369d0698"
      },
      "source": [
        "letra * 3"
      ],
      "execution_count": null,
      "outputs": [
        {
          "data": {
            "text/plain": [
              "'www'"
            ]
          },
          "execution_count": 28,
          "metadata": {},
          "output_type": "execute_result"
        }
      ]
    },
    {
      "cell_type": "markdown",
      "metadata": {
        "id": "h5rL_kIh59dY"
      },
      "source": [
        "### Funções Built-in de Strings"
      ]
    },
    {
      "cell_type": "code",
      "metadata": {
        "id": "feHmfhtb59dY",
        "outputId": "cc0a6fc2-33b1-4c62-f0fe-2857180327f4"
      },
      "source": [
        "s"
      ],
      "execution_count": null,
      "outputs": [
        {
          "data": {
            "text/plain": [
              "'Etec MCM é a melhor escola de Ribeirão Pires!'"
            ]
          },
          "execution_count": 29,
          "metadata": {},
          "output_type": "execute_result"
        }
      ]
    },
    {
      "cell_type": "code",
      "metadata": {
        "id": "n81I8i8a59dY",
        "outputId": "4b52e06e-335d-4e29-b547-abfcd94e2388"
      },
      "source": [
        "# Upper Case \n",
        "s.upper()"
      ],
      "execution_count": null,
      "outputs": [
        {
          "data": {
            "text/plain": [
              "'ETEC MCM É A MELHOR ESCOLA DE RIBEIRÃO PIRES!'"
            ]
          },
          "execution_count": 30,
          "metadata": {},
          "output_type": "execute_result"
        }
      ]
    },
    {
      "cell_type": "code",
      "metadata": {
        "id": "DbTcskJq59dZ",
        "outputId": "841320e3-8c6f-40a2-9e5f-27fb10504220"
      },
      "source": [
        "# Lower case\n",
        "s.lower()"
      ],
      "execution_count": null,
      "outputs": [
        {
          "data": {
            "text/plain": [
              "'etec mcm é a melhor escola de ribeirão pires!'"
            ]
          },
          "execution_count": 31,
          "metadata": {},
          "output_type": "execute_result"
        }
      ]
    },
    {
      "cell_type": "code",
      "metadata": {
        "id": "mQfXp_cp59da",
        "outputId": "a93ede3a-44ae-48c7-f5a1-ee9b5a9b56fb"
      },
      "source": [
        "# Dividir uma string por espaços em branco (padrão)\n",
        "s.split()"
      ],
      "execution_count": null,
      "outputs": [
        {
          "data": {
            "text/plain": [
              "['Etec', 'MCM', 'é', 'a', 'melhor', 'escola', 'de', 'Ribeirão', 'Pires!']"
            ]
          },
          "execution_count": 32,
          "metadata": {},
          "output_type": "execute_result"
        }
      ]
    },
    {
      "cell_type": "code",
      "metadata": {
        "id": "wc9SsBaN59da",
        "outputId": "f2011325-2505-4fa0-8320-3710f0c20142"
      },
      "source": [
        "# Dividir uma string por um elemento específico\n",
        "s.split('é')"
      ],
      "execution_count": null,
      "outputs": [
        {
          "data": {
            "text/plain": [
              "['Etec MCM ', ' a melhor escola de Ribeirão Pires!']"
            ]
          },
          "execution_count": 34,
          "metadata": {},
          "output_type": "execute_result"
        }
      ]
    },
    {
      "cell_type": "markdown",
      "metadata": {
        "id": "ZFdueEFM59db"
      },
      "source": [
        "### Funções String"
      ]
    },
    {
      "cell_type": "code",
      "metadata": {
        "id": "AfyraKGy59db"
      },
      "source": [
        "s = 'seja bem vindo ao universo de python'"
      ],
      "execution_count": null,
      "outputs": []
    },
    {
      "cell_type": "code",
      "metadata": {
        "id": "MezZ1wtQ59dc",
        "outputId": "1dd693bc-f1c7-402f-ac65-eca2957ee781"
      },
      "source": [
        "s.capitalize()"
      ],
      "execution_count": null,
      "outputs": [
        {
          "data": {
            "text/plain": [
              "'Seja bem vindo ao universo de python'"
            ]
          },
          "execution_count": 36,
          "metadata": {},
          "output_type": "execute_result"
        }
      ]
    },
    {
      "cell_type": "code",
      "metadata": {
        "id": "sFbuxDu059dc",
        "outputId": "310b9658-b68b-49e6-af2f-0b30e4758bc8"
      },
      "source": [
        "s.count('a')"
      ],
      "execution_count": null,
      "outputs": [
        {
          "data": {
            "text/plain": [
              "2"
            ]
          },
          "execution_count": 37,
          "metadata": {},
          "output_type": "execute_result"
        }
      ]
    },
    {
      "cell_type": "code",
      "metadata": {
        "id": "2NoKBc8059dd",
        "outputId": "9664de30-0672-42cc-e31b-93631b1f5397"
      },
      "source": [
        "s.find('p')"
      ],
      "execution_count": null,
      "outputs": [
        {
          "data": {
            "text/plain": [
              "30"
            ]
          },
          "execution_count": 38,
          "metadata": {},
          "output_type": "execute_result"
        }
      ]
    },
    {
      "cell_type": "code",
      "metadata": {
        "id": "H7aLCmkv59dd",
        "outputId": "beb6399f-c289-4277-caa5-44a0a450b1d3"
      },
      "source": [
        "s.center(20, 'z')"
      ],
      "execution_count": null,
      "outputs": [
        {
          "data": {
            "text/plain": [
              "'seja bem vindo ao universo de python'"
            ]
          },
          "execution_count": 39,
          "metadata": {},
          "output_type": "execute_result"
        }
      ]
    },
    {
      "cell_type": "code",
      "metadata": {
        "id": "3N8f3Mps59dd",
        "outputId": "8cf32bfb-337c-486b-d44d-07dd4f94c49f"
      },
      "source": [
        "s.isalnum()"
      ],
      "execution_count": null,
      "outputs": [
        {
          "data": {
            "text/plain": [
              "False"
            ]
          },
          "execution_count": 43,
          "metadata": {},
          "output_type": "execute_result"
        }
      ]
    },
    {
      "cell_type": "code",
      "metadata": {
        "id": "iBz9OaTx59de",
        "outputId": "1626fac7-38bd-48c4-b061-684bddc41ae3"
      },
      "source": [
        "s.isalpha()"
      ],
      "execution_count": null,
      "outputs": [
        {
          "data": {
            "text/plain": [
              "False"
            ]
          },
          "execution_count": 44,
          "metadata": {},
          "output_type": "execute_result"
        }
      ]
    },
    {
      "cell_type": "code",
      "metadata": {
        "id": "i7b2bTli59de",
        "outputId": "0246b65b-6e6c-4487-e8e6-45924f98a3a6"
      },
      "source": [
        "s.islower()"
      ],
      "execution_count": null,
      "outputs": [
        {
          "data": {
            "text/plain": [
              "True"
            ]
          },
          "execution_count": 45,
          "metadata": {},
          "output_type": "execute_result"
        }
      ]
    },
    {
      "cell_type": "code",
      "metadata": {
        "id": "817_o1tU59df",
        "outputId": "eeab0020-b091-4975-ae64-6d235114e538"
      },
      "source": [
        "s.isspace()"
      ],
      "execution_count": null,
      "outputs": [
        {
          "data": {
            "text/plain": [
              "False"
            ]
          },
          "execution_count": 46,
          "metadata": {},
          "output_type": "execute_result"
        }
      ]
    },
    {
      "cell_type": "code",
      "metadata": {
        "id": "TbHxF4T959df",
        "outputId": "38cf0b1a-c0f1-4575-b55e-90aed3c36bd5"
      },
      "source": [
        "s.endswith('o')"
      ],
      "execution_count": null,
      "outputs": [
        {
          "data": {
            "text/plain": [
              "False"
            ]
          },
          "execution_count": 47,
          "metadata": {},
          "output_type": "execute_result"
        }
      ]
    },
    {
      "cell_type": "code",
      "metadata": {
        "id": "EMU_qq7B59dg",
        "outputId": "e782bf60-f390-4f77-e2cf-fbbf7876faa1"
      },
      "source": [
        "s.partition('!')"
      ],
      "execution_count": null,
      "outputs": [
        {
          "data": {
            "text/plain": [
              "('seja bem vindo ao universo de python', '', '')"
            ]
          },
          "execution_count": 48,
          "metadata": {},
          "output_type": "execute_result"
        }
      ]
    },
    {
      "cell_type": "markdown",
      "metadata": {
        "id": "fyMzPesH59dg"
      },
      "source": [
        "### Comparando Strings"
      ]
    },
    {
      "cell_type": "code",
      "metadata": {
        "id": "DtXm6n0W59dh",
        "outputId": "6c735aa3-c962-43cc-eb88-c6268905cde7"
      },
      "source": [
        "print(\"Python\" == \"R\")"
      ],
      "execution_count": null,
      "outputs": [
        {
          "name": "stdout",
          "output_type": "stream",
          "text": [
            "False\n"
          ]
        }
      ]
    },
    {
      "cell_type": "code",
      "metadata": {
        "id": "mtX8eeun59di",
        "outputId": "72fa1df4-4daa-4499-c885-2ccfcd3acba4"
      },
      "source": [
        "print(\"Python\" == \"Python\")"
      ],
      "execution_count": null,
      "outputs": [
        {
          "name": "stdout",
          "output_type": "stream",
          "text": [
            "True\n"
          ]
        }
      ]
    }
  ]
}