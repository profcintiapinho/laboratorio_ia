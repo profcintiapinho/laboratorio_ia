{
  "nbformat": 4,
  "nbformat_minor": 0,
  "metadata": {
    "colab": {
      "name": "3- Python_1_Numeros_e_Variáveis.ipynb",
      "provenance": [],
      "authorship_tag": "ABX9TyNBTFI8iGACEyKqqMuMWQbZ",
      "include_colab_link": true
    },
    "kernelspec": {
      "name": "python3",
      "display_name": "Python 3"
    },
    "language_info": {
      "name": "python"
    }
  },
  "cells": [
    {
      "cell_type": "markdown",
      "metadata": {
        "id": "view-in-github",
        "colab_type": "text"
      },
      "source": [
        "<a href=\"https://colab.research.google.com/github/profcintiapinho/laboratorio_ia/blob/main/3_Python_1_Numeros_e_Vari%C3%A1veis.ipynb\" target=\"_parent\"><img src=\"https://colab.research.google.com/assets/colab-badge.svg\" alt=\"Open In Colab\"/></a>"
      ]
    },
    {
      "cell_type": "markdown",
      "metadata": {
        "id": "RgmmD_H_y8bi"
      },
      "source": [
        "# **Operações Matemáticas**"
      ]
    },
    {
      "cell_type": "code",
      "metadata": {
        "colab": {
          "base_uri": "https://localhost:8080/"
        },
        "id": "ie5PrpQFy5JO",
        "outputId": "1586c5c4-5ae8-4870-aa5b-e22a74c6fc04"
      },
      "source": [
        "# Soma\n",
        "4 + 4"
      ],
      "execution_count": null,
      "outputs": [
        {
          "output_type": "execute_result",
          "data": {
            "text/plain": [
              "8"
            ]
          },
          "metadata": {},
          "execution_count": 1
        }
      ]
    },
    {
      "cell_type": "code",
      "metadata": {
        "colab": {
          "base_uri": "https://localhost:8080/"
        },
        "id": "Ihb-7yb0zQ7k",
        "outputId": "e5625ac6-85f3-42cc-dd5f-46da053db916"
      },
      "source": [
        "# Subtração\n",
        "4 - 3"
      ],
      "execution_count": null,
      "outputs": [
        {
          "output_type": "execute_result",
          "data": {
            "text/plain": [
              "1"
            ]
          },
          "metadata": {},
          "execution_count": 2
        }
      ]
    },
    {
      "cell_type": "code",
      "metadata": {
        "colab": {
          "base_uri": "https://localhost:8080/"
        },
        "id": "Z6rqucQwzaW9",
        "outputId": "3b7108a3-64b0-496f-e1af-0ff58b15c49d"
      },
      "source": [
        "# Multiplicação\n",
        "3 * 3"
      ],
      "execution_count": null,
      "outputs": [
        {
          "output_type": "execute_result",
          "data": {
            "text/plain": [
              "9"
            ]
          },
          "metadata": {},
          "execution_count": 6
        }
      ]
    },
    {
      "cell_type": "code",
      "metadata": {
        "colab": {
          "base_uri": "https://localhost:8080/"
        },
        "id": "qmLLix7Wzcq4",
        "outputId": "1b820b8f-cb12-4f39-869c-d265ffaeadaf"
      },
      "source": [
        "# Divisão com resultado Float\n",
        "3 / 2"
      ],
      "execution_count": null,
      "outputs": [
        {
          "output_type": "execute_result",
          "data": {
            "text/plain": [
              "1.5"
            ]
          },
          "metadata": {},
          "execution_count": 7
        }
      ]
    },
    {
      "cell_type": "code",
      "metadata": {
        "colab": {
          "base_uri": "https://localhost:8080/"
        },
        "id": "rH7iDI2Kzg3E",
        "outputId": "110c0689-01ce-48ff-970e-176694efd616"
      },
      "source": [
        "# Divisão com resultado Inteiro\n",
        "3 // 2"
      ],
      "execution_count": null,
      "outputs": [
        {
          "output_type": "execute_result",
          "data": {
            "text/plain": [
              "1"
            ]
          },
          "metadata": {},
          "execution_count": 8
        }
      ]
    },
    {
      "cell_type": "code",
      "metadata": {
        "colab": {
          "base_uri": "https://localhost:8080/"
        },
        "id": "gSJC5zcazVTy",
        "outputId": "e18d2f68-9300-4107-8607-ce80926d3cb2"
      },
      "source": [
        "# Módulo - Pega o resto de uma Divisão\n",
        "10 % 3 "
      ],
      "execution_count": null,
      "outputs": [
        {
          "output_type": "execute_result",
          "data": {
            "text/plain": [
              "1"
            ]
          },
          "metadata": {},
          "execution_count": 9
        }
      ]
    },
    {
      "cell_type": "code",
      "metadata": {
        "colab": {
          "base_uri": "https://localhost:8080/"
        },
        "id": "G2488jY4zYR5",
        "outputId": "6b483941-711a-48cd-84bd-d8ac49419a14"
      },
      "source": [
        "# Potência\n",
        "4 ** 2  "
      ],
      "execution_count": null,
      "outputs": [
        {
          "output_type": "execute_result",
          "data": {
            "text/plain": [
              "16"
            ]
          },
          "metadata": {},
          "execution_count": 10
        }
      ]
    },
    {
      "cell_type": "markdown",
      "metadata": {
        "id": "yK3R8W3qz2vV"
      },
      "source": [
        "# **Variáveis e Operadores**"
      ]
    },
    {
      "cell_type": "code",
      "metadata": {
        "id": "0BY8DBIsz4uJ"
      },
      "source": [
        "# Atribuindo o valor 141 à variável numetec\n",
        "numetec = 141"
      ],
      "execution_count": null,
      "outputs": []
    },
    {
      "cell_type": "code",
      "metadata": {
        "id": "FFjC7Oxv0erS"
      },
      "source": [
        "etec = \"Prof. Maria Cristina Medeiros\""
      ],
      "execution_count": null,
      "outputs": []
    },
    {
      "cell_type": "code",
      "metadata": {
        "colab": {
          "base_uri": "https://localhost:8080/"
        },
        "id": "iTfYVbkQz_Xe",
        "outputId": "7f8e3d92-b32f-435a-d281-97dbcece9327"
      },
      "source": [
        "# Imprimindo o valor da variável\n",
        "numetec"
      ],
      "execution_count": null,
      "outputs": [
        {
          "output_type": "execute_result",
          "data": {
            "text/plain": [
              "141"
            ]
          },
          "metadata": {},
          "execution_count": 19
        }
      ]
    },
    {
      "cell_type": "code",
      "metadata": {
        "colab": {
          "base_uri": "https://localhost:8080/"
        },
        "id": "7qkX6yn_0F_M",
        "outputId": "36ccddc6-a4a0-4666-9c31-0194b2384529"
      },
      "source": [
        "# Imprimindo o valor da variável\n",
        "print(valor)"
      ],
      "execution_count": null,
      "outputs": [
        {
          "output_type": "stream",
          "name": "stdout",
          "text": [
            "25\n"
          ]
        }
      ]
    },
    {
      "cell_type": "code",
      "metadata": {
        "colab": {
          "base_uri": "https://localhost:8080/",
          "height": 183
        },
        "id": "SmR8-auA0KKB",
        "outputId": "a1cb91d0-b8df-4682-9d75-b8e3f93fe175"
      },
      "source": [
        "# Não podemos utilizar uma variável que não foi definida. Veja a mensagem de erro.\n",
        "outravariavel"
      ],
      "execution_count": null,
      "outputs": [
        {
          "output_type": "error",
          "ename": "NameError",
          "evalue": "ignored",
          "traceback": [
            "\u001b[0;31m---------------------------------------------------------------------------\u001b[0m",
            "\u001b[0;31mNameError\u001b[0m                                 Traceback (most recent call last)",
            "\u001b[0;32m<ipython-input-14-163aa3d2ffae>\u001b[0m in \u001b[0;36m<module>\u001b[0;34m()\u001b[0m\n\u001b[1;32m      1\u001b[0m \u001b[0;31m# Não podemos utilizar uma variável que não foi definida. Veja a mensagem de erro.\u001b[0m\u001b[0;34m\u001b[0m\u001b[0;34m\u001b[0m\u001b[0;34m\u001b[0m\u001b[0m\n\u001b[0;32m----> 2\u001b[0;31m \u001b[0moutravariavel\u001b[0m\u001b[0;34m\u001b[0m\u001b[0;34m\u001b[0m\u001b[0m\n\u001b[0m",
            "\u001b[0;31mNameError\u001b[0m: name 'outravariavel' is not defined"
          ]
        }
      ]
    },
    {
      "cell_type": "markdown",
      "metadata": {
        "id": "_25l514a0TwJ"
      },
      "source": [
        "## Saber o Tipo da Variável\n"
      ]
    },
    {
      "cell_type": "code",
      "metadata": {
        "colab": {
          "base_uri": "https://localhost:8080/"
        },
        "id": "0d7Fysge0Wxk",
        "outputId": "b98cc8a1-9d37-4af1-e78c-43a89050be1c"
      },
      "source": [
        "type(valor)"
      ],
      "execution_count": null,
      "outputs": [
        {
          "output_type": "execute_result",
          "data": {
            "text/plain": [
              "int"
            ]
          },
          "metadata": {},
          "execution_count": 15
        }
      ]
    },
    {
      "cell_type": "code",
      "metadata": {
        "colab": {
          "base_uri": "https://localhost:8080/"
        },
        "id": "W1Z32XWT0QGs",
        "outputId": "3d12b18f-ae6e-4a0f-b099-1a4d8e6db743"
      },
      "source": [
        "type(etec)"
      ],
      "execution_count": null,
      "outputs": [
        {
          "output_type": "execute_result",
          "data": {
            "text/plain": [
              "str"
            ]
          },
          "metadata": {},
          "execution_count": 21
        }
      ]
    },
    {
      "cell_type": "markdown",
      "metadata": {
        "id": "J7VEa9GU02nL"
      },
      "source": [
        "## Operações com variáveis"
      ]
    },
    {
      "cell_type": "markdown",
      "metadata": {
        "id": "7Zr4gGqg1D9B"
      },
      "source": [
        "### Soma de Variáveis\n"
      ]
    },
    {
      "cell_type": "code",
      "metadata": {
        "id": "Ab1hojKh01xH"
      },
      "source": [
        "num1 = 10\n",
        "num2= 20"
      ],
      "execution_count": null,
      "outputs": []
    },
    {
      "cell_type": "code",
      "metadata": {
        "id": "k5nibPZV1K-B"
      },
      "source": [
        "resultadoSoma = num1+num2\n",
        "resultadoSub = num1-num2"
      ],
      "execution_count": null,
      "outputs": []
    },
    {
      "cell_type": "code",
      "metadata": {
        "colab": {
          "base_uri": "https://localhost:8080/"
        },
        "id": "3Ec5MYU71PWT",
        "outputId": "e1f37a80-efcb-4b86-9244-065134052ea6"
      },
      "source": [
        "print(resultadoSoma)"
      ],
      "execution_count": null,
      "outputs": [
        {
          "output_type": "stream",
          "name": "stdout",
          "text": [
            "30\n"
          ]
        }
      ]
    },
    {
      "cell_type": "code",
      "metadata": {
        "colab": {
          "base_uri": "https://localhost:8080/"
        },
        "id": "V7qtmqBt1ckW",
        "outputId": "0744a623-c3ab-4d59-c39f-01c28e5643b7"
      },
      "source": [
        "print(resultadoSub)"
      ],
      "execution_count": null,
      "outputs": [
        {
          "output_type": "stream",
          "name": "stdout",
          "text": [
            "-10\n"
          ]
        }
      ]
    },
    {
      "cell_type": "markdown",
      "metadata": {
        "id": "OIdXKCLF1ivh"
      },
      "source": [
        "### Concatenação de Variáveis\n"
      ]
    },
    {
      "cell_type": "code",
      "metadata": {
        "colab": {
          "base_uri": "https://localhost:8080/"
        },
        "id": "naUKyqtg1mX2",
        "outputId": "25817dca-3419-4ebd-d7e8-68bc34cfe04c"
      },
      "source": [
        "print(\"A \",etec,\" possui como identificação o número: \", numetec )"
      ],
      "execution_count": null,
      "outputs": [
        {
          "output_type": "stream",
          "name": "stdout",
          "text": [
            "A  Prof. Maria Cristina Medeiros  possui como identificação o número:  141\n"
          ]
        }
      ]
    },
    {
      "cell_type": "code",
      "metadata": {
        "colab": {
          "base_uri": "https://localhost:8080/"
        },
        "id": "H_SSmLfw1_pA",
        "outputId": "e53abd7b-bae0-47e0-acf3-1ed54ecc3c87"
      },
      "source": [
        "print(\"A soma de \", num1,\"+\", num2, \" é igual a \", resultadoSoma )"
      ],
      "execution_count": null,
      "outputs": [
        {
          "output_type": "stream",
          "name": "stdout",
          "text": [
            "A soma de  10 + 20  é igual a  30\n"
          ]
        }
      ]
    },
    {
      "cell_type": "code",
      "metadata": {
        "id": "l0lWuhiF2Yrt"
      },
      "source": [
        "nome = \"Cíntia\""
      ],
      "execution_count": null,
      "outputs": []
    },
    {
      "cell_type": "code",
      "metadata": {
        "id": "Nx0ZxMxu2bgU"
      },
      "source": [
        "sobrenome = \"Pinho\""
      ],
      "execution_count": null,
      "outputs": []
    },
    {
      "cell_type": "code",
      "metadata": {
        "colab": {
          "base_uri": "https://localhost:8080/",
          "height": 35
        },
        "id": "YU4IDiCj2eJY",
        "outputId": "f44c0632-91e5-4c79-be3e-8299690e4609"
      },
      "source": [
        "nome + \" \" +sobrenome"
      ],
      "execution_count": null,
      "outputs": [
        {
          "output_type": "execute_result",
          "data": {
            "application/vnd.google.colaboratory.intrinsic+json": {
              "type": "string"
            },
            "text/plain": [
              "'Cíntia Pinho'"
            ]
          },
          "metadata": {},
          "execution_count": 36
        }
      ]
    }
  ]
}