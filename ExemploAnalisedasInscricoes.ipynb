{
  "nbformat": 4,
  "nbformat_minor": 0,
  "metadata": {
    "colab": {
      "name": "ExemploAnalisedasInscricoes.ipynb",
      "provenance": [],
      "authorship_tag": "ABX9TyNOiFDwUQ8Al85CQxup8mF5",
      "include_colab_link": true
    },
    "kernelspec": {
      "name": "python3",
      "display_name": "Python 3"
    },
    "language_info": {
      "name": "python"
    }
  },
  "cells": [
    {
      "cell_type": "markdown",
      "metadata": {
        "id": "view-in-github",
        "colab_type": "text"
      },
      "source": [
        "<a href=\"https://colab.research.google.com/github/profcintiapinho/laboratorio_ia/blob/main/ExemploAnalisedasInscricoes.ipynb\" target=\"_parent\"><img src=\"https://colab.research.google.com/assets/colab-badge.svg\" alt=\"Open In Colab\"/></a>"
      ]
    },
    {
      "cell_type": "markdown",
      "metadata": {
        "id": "ZSzy8ouLxonn"
      },
      "source": [
        "# Análise de Dados Simples - Inscrições do Curso"
      ]
    },
    {
      "cell_type": "markdown",
      "metadata": {
        "id": "OFfO8EEtxbW7"
      },
      "source": [
        "### Após a Aula introdutória vamos ver como colher algumas informações Simples Usando Python"
      ]
    },
    {
      "cell_type": "code",
      "metadata": {
        "id": "ezwjLi32y6Ro"
      },
      "source": [
        "import pandas as pd #carrefar a base"
      ],
      "execution_count": 34,
      "outputs": []
    },
    {
      "cell_type": "markdown",
      "metadata": {
        "id": "wPeo6sh37hoo"
      },
      "source": [
        "### Veja neste link como armazenar uma planilha excel no Github para usar como base de dados no COLAB"
      ]
    },
    {
      "cell_type": "code",
      "metadata": {
        "id": "ld5_TWLAyLzC"
      },
      "source": [
        "url = 'https://github.com/profcintiapinho/laboratorio_ia/blob/main/respostasalunos.xlsx?raw=true'\n",
        "planilha = \"respostas\"\n",
        "base = pd.read_excel(url,planilha)"
      ],
      "execution_count": 35,
      "outputs": []
    },
    {
      "cell_type": "code",
      "metadata": {
        "colab": {
          "base_uri": "https://localhost:8080/",
          "height": 528
        },
        "id": "KOzWZ0064PGX",
        "outputId": "35c69690-9d66-4788-a135-d71a6be98944"
      },
      "source": [
        "base"
      ],
      "execution_count": 36,
      "outputs": [
        {
          "output_type": "execute_result",
          "data": {
            "text/html": [
              "<div>\n",
              "<style scoped>\n",
              "    .dataframe tbody tr th:only-of-type {\n",
              "        vertical-align: middle;\n",
              "    }\n",
              "\n",
              "    .dataframe tbody tr th {\n",
              "        vertical-align: top;\n",
              "    }\n",
              "\n",
              "    .dataframe thead th {\n",
              "        text-align: right;\n",
              "    }\n",
              "</style>\n",
              "<table border=\"1\" class=\"dataframe\">\n",
              "  <thead>\n",
              "    <tr style=\"text-align: right;\">\n",
              "      <th></th>\n",
              "      <th>Turma</th>\n",
              "      <th>Período de Interesse</th>\n",
              "      <th>Possui computador em casa para realização das aulas práticas?</th>\n",
              "      <th>Qual sua motivação pra realização do curso?</th>\n",
              "    </tr>\n",
              "  </thead>\n",
              "  <tbody>\n",
              "    <tr>\n",
              "      <th>0</th>\n",
              "      <td>Novo Tec - Administração(Tarde)</td>\n",
              "      <td>Noite</td>\n",
              "      <td>Sim</td>\n",
              "      <td>Quero estar mais liga e aprender muito mais  s...</td>\n",
              "    </tr>\n",
              "    <tr>\n",
              "      <th>1</th>\n",
              "      <td>Contabilidade - Noite</td>\n",
              "      <td>Tarde</td>\n",
              "      <td>Sim</td>\n",
              "      <td>conseguir automatizar alguns processos no meu ...</td>\n",
              "    </tr>\n",
              "    <tr>\n",
              "      <th>2</th>\n",
              "      <td>Contabilidade - Noite</td>\n",
              "      <td>Tarde</td>\n",
              "      <td>Sim</td>\n",
              "      <td>Obter um pouco de conhecimento nessa área, a q...</td>\n",
              "    </tr>\n",
              "    <tr>\n",
              "      <th>3</th>\n",
              "      <td>Novo Tec - Recursos Humanos (Manhã)</td>\n",
              "      <td>Noite</td>\n",
              "      <td>Sim</td>\n",
              "      <td>Porque o python é uma linguagens de programaçã...</td>\n",
              "    </tr>\n",
              "    <tr>\n",
              "      <th>4</th>\n",
              "      <td>Contabilidade - Noite</td>\n",
              "      <td>Tarde</td>\n",
              "      <td>Sim</td>\n",
              "      <td>quero aprimorar meus conhecimentos</td>\n",
              "    </tr>\n",
              "    <tr>\n",
              "      <th>...</th>\n",
              "      <td>...</td>\n",
              "      <td>...</td>\n",
              "      <td>...</td>\n",
              "      <td>...</td>\n",
              "    </tr>\n",
              "    <tr>\n",
              "      <th>56</th>\n",
              "      <td>Logistica - Noite</td>\n",
              "      <td>Tarde</td>\n",
              "      <td>não</td>\n",
              "      <td>Ter um curso extracurricular pra melhorar meu ...</td>\n",
              "    </tr>\n",
              "    <tr>\n",
              "      <th>57</th>\n",
              "      <td>Logistica - Noite</td>\n",
              "      <td>Tarde</td>\n",
              "      <td>não</td>\n",
              "      <td>Ter um curso extracurricular pra melhorar meu ...</td>\n",
              "    </tr>\n",
              "    <tr>\n",
              "      <th>58</th>\n",
              "      <td>Novo Tec - Informática (Manhã)</td>\n",
              "      <td>Tarde</td>\n",
              "      <td>Sim</td>\n",
              "      <td>Busca por conhecimentos que possam agregar na ...</td>\n",
              "    </tr>\n",
              "    <tr>\n",
              "      <th>59</th>\n",
              "      <td>Novo Tec - Informática (Manhã)</td>\n",
              "      <td>Noite</td>\n",
              "      <td>Sim</td>\n",
              "      <td>Ampliar meus conhecimentos na área de informática</td>\n",
              "    </tr>\n",
              "    <tr>\n",
              "      <th>60</th>\n",
              "      <td>Novo Tec - Informática (Manhã)</td>\n",
              "      <td>Noite</td>\n",
              "      <td>Sim</td>\n",
              "      <td>Adquirir mais conhecimentos na área. E ter um ...</td>\n",
              "    </tr>\n",
              "  </tbody>\n",
              "</table>\n",
              "<p>61 rows × 4 columns</p>\n",
              "</div>"
            ],
            "text/plain": [
              "                                  Turma  ...        Qual sua motivação pra realização do curso?\n",
              "0       Novo Tec - Administração(Tarde)  ...  Quero estar mais liga e aprender muito mais  s...\n",
              "1                 Contabilidade - Noite  ...  conseguir automatizar alguns processos no meu ...\n",
              "2                 Contabilidade - Noite  ...  Obter um pouco de conhecimento nessa área, a q...\n",
              "3   Novo Tec - Recursos Humanos (Manhã)  ...  Porque o python é uma linguagens de programaçã...\n",
              "4                 Contabilidade - Noite  ...                quero aprimorar meus conhecimentos \n",
              "..                                  ...  ...                                                ...\n",
              "56                    Logistica - Noite  ...  Ter um curso extracurricular pra melhorar meu ...\n",
              "57                    Logistica - Noite  ...  Ter um curso extracurricular pra melhorar meu ...\n",
              "58       Novo Tec - Informática (Manhã)  ...  Busca por conhecimentos que possam agregar na ...\n",
              "59       Novo Tec - Informática (Manhã)  ...  Ampliar meus conhecimentos na área de informática\n",
              "60       Novo Tec - Informática (Manhã)  ...  Adquirir mais conhecimentos na área. E ter um ...\n",
              "\n",
              "[61 rows x 4 columns]"
            ]
          },
          "metadata": {},
          "execution_count": 36
        }
      ]
    },
    {
      "cell_type": "code",
      "metadata": {
        "id": "WGZ5M8Go72aS"
      },
      "source": [
        "import matplotlib.pyplot as plt #biblioteca para gerar gráficos\n",
        "import seaborn as sns #biblioteca para visualizar gráficos"
      ],
      "execution_count": 40,
      "outputs": []
    },
    {
      "cell_type": "code",
      "metadata": {
        "colab": {
          "base_uri": "https://localhost:8080/",
          "height": 498
        },
        "id": "oZeU5mB58CKI",
        "outputId": "cea457e7-662e-4870-c077-6c648826b8ba"
      },
      "source": [
        "plt.subplots(figsize=(30, 10))\n",
        "sns.countplot(base.Turma);"
      ],
      "execution_count": 47,
      "outputs": [
        {
          "output_type": "stream",
          "text": [
            "/usr/local/lib/python3.7/dist-packages/seaborn/_decorators.py:43: FutureWarning: Pass the following variable as a keyword arg: x. From version 0.12, the only valid positional argument will be `data`, and passing other arguments without an explicit keyword will result in an error or misinterpretation.\n",
            "  FutureWarning\n"
          ],
          "name": "stderr"
        },
        {
          "output_type": "display_data",
          "data": {
            "image/png": "[encoded data removed]",
            "text/plain": [
              "<Figure size 2160x720 with 1 Axes>"
            ]
          },
          "metadata": {
            "needs_background": "light"
          }
        }
      ]
    }
  ]
}